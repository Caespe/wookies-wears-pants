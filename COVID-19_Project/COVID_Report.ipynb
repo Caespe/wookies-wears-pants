{
 "cells": [
  {
   "cell_type": "markdown",
   "metadata": {},
   "source": [
    "# COVID-19: Spain Interative Dashboard"
   ]
  },
  {
   "cell_type": "code",
   "execution_count": 56,
   "metadata": {},
   "outputs": [],
   "source": [
    "# Defining packages need for the visualization\n",
    "import pandas as pd\n",
    "import numpy as np\n",
    "import seaborn as sns\n",
    "import voila\n",
    "import ipyvuetify as v\n",
    "import ipywidgets as widgets\n",
    "import ipympl\n",
    "import plotly.graph_objects as go\n",
    "from plotly.subplots import make_subplots\n",
    "import chart_studio.plotly as py\n",
    "import plotly.express as px\n",
    "from bqplot import pyplot as plt\n",
    "import matplotlib.pyplot as mpl"
   ]
  },
  {
   "cell_type": "code",
   "execution_count": 57,
   "metadata": {},
   "outputs": [],
   "source": [
    "# Definining the roots for the csv files to be read by pandas\n",
    "root = r'C:\\git\\wookies-wears-pants\\COVID-19_Project\\csv_report_tables'\n",
    "ccaa = r'C:\\git\\wookies-wears-pants\\COVID-19_Project\\csv_report_tables\\CCAA_data.csv'\n",
    "dem_tot = r'C:\\git\\wookies-wears-pants\\COVID-19_Project\\csv_report_tables\\demog_tot_data.csv'\n",
    "dem_muj = r'C:\\git\\wookies-wears-pants\\COVID-19_Project\\csv_report_tables\\demog_muj_data.csv'\n",
    "dem_hom = r'C:\\git\\wookies-wears-pants\\COVID-19_Project\\csv_report_tables\\demog_hom_data.csv'"
   ]
  },
  {
   "cell_type": "code",
   "execution_count": 58,
   "metadata": {
    "scrolled": true
   },
   "outputs": [],
   "source": [
    "# Reading the files and confirming the dataframes: ccaa\n",
    "ccaa_data = pd.read_csv(ccaa)\n",
    "\n",
    "df_ccaa = pd.DataFrame(ccaa_data)\n",
    "\n",
    "# Reading the files and confirming the dataframes: demography\n",
    "dem_tot_data = pd.read_csv(dem_tot)\n",
    "dem_hom_data = pd.read_csv(dem_muj)\n",
    "dem_muj_data = pd.read_csv(dem_hom)\n",
    "\n",
    "df_dem_tot = pd.DataFrame(dem_tot_data)\n",
    "df_dem_muj = pd.DataFrame(dem_muj_data)\n",
    "df_dem_hom = pd.DataFrame(dem_hom_data)"
   ]
  },
  {
   "cell_type": "code",
   "execution_count": 59,
   "metadata": {},
   "outputs": [
    {
     "data": {
      "application/vnd.plotly.v1+json": {
       "config": {
        "plotlyServerURL": "https://plot.ly"
       },
       "data": [
        {
         "hoverlabel": {
          "namelength": 0
         },
         "hovertemplate": "CCAA=Andalucia<br>doc=%{x}<br>Infectados=%{y}",
         "legendgroup": "Andalucia",
         "line": {
          "color": "#636efa",
          "dash": "solid"
         },
         "mode": "lines",
         "name": "Andalucia",
         "showlegend": true,
         "type": "scatter",
         "x": [
          36,
          37,
          38,
          39,
          40,
          41,
          42,
          43,
          44,
          45,
          46,
          47,
          48,
          49,
          50,
          51,
          52,
          53,
          54,
          55,
          56,
          57,
          58,
          59,
          60,
          61,
          62,
          63
         ],
         "xaxis": "x",
         "y": [
          13,
          12,
          21,
          54,
          71,
          90,
          115,
          219,
          269,
          437,
          554,
          683,
          859,
          1008,
          1287,
          1515,
          1725,
          1960,
          2471,
          3010,
          3406,
          3793,
          4277,
          4682,
          5405,
          5818,
          6392,
          6972
         ],
         "yaxis": "y"
        },
        {
         "hoverlabel": {
          "namelength": 0
         },
         "hovertemplate": "CCAA=Aragon<br>doc=%{x}<br>Infectados=%{y}",
         "legendgroup": "Aragon",
         "line": {
          "color": "#EF553B",
          "dash": "solid"
         },
         "mode": "lines",
         "name": "Aragon",
         "showlegend": true,
         "type": "scatter",
         "x": [
          36,
          37,
          38,
          39,
          40,
          41,
          42,
          43,
          44,
          45,
          46,
          47,
          48,
          49,
          50,
          51,
          52,
          53,
          54,
          55,
          56,
          57,
          58,
          59,
          60,
          61,
          62,
          63
         ],
         "xaxis": "x",
         "y": [
          0,
          1,
          6,
          13,
          38,
          45,
          64,
          80,
          80,
          147,
          174,
          207,
          226,
          281,
          360,
          424,
          532,
          638,
          758,
          907,
          1116,
          1338,
          1592,
          1858,
          2078,
          2272,
          2491,
          2700
         ],
         "yaxis": "y"
        },
        {
         "hoverlabel": {
          "namelength": 0
         },
         "hovertemplate": "CCAA=Asturias<br>doc=%{x}<br>Infectados=%{y}",
         "legendgroup": "Asturias",
         "line": {
          "color": "#00cc96",
          "dash": "solid"
         },
         "mode": "lines",
         "name": "Asturias",
         "showlegend": true,
         "type": "scatter",
         "x": [
          36,
          37,
          38,
          39,
          40,
          41,
          42,
          43,
          44,
          45,
          46,
          47,
          48,
          49,
          50,
          51,
          52,
          53,
          54,
          55,
          56,
          57,
          58,
          59,
          60,
          61,
          62,
          63
         ],
         "xaxis": "x",
         "y": [
          2,
          5,
          5,
          7,
          22,
          32,
          47,
          67,
          92,
          137,
          177,
          193,
          242,
          292,
          344,
          486,
          545,
          594,
          662,
          779,
          841,
          900,
          1004,
          1088,
          1158,
          1236,
          1322,
          1384
         ],
         "yaxis": "y"
        },
        {
         "hoverlabel": {
          "namelength": 0
         },
         "hovertemplate": "CCAA=Baleares<br>doc=%{x}<br>Infectados=%{y}",
         "legendgroup": "Baleares",
         "line": {
          "color": "#ab63fa",
          "dash": "solid"
         },
         "mode": "lines",
         "name": "Baleares",
         "showlegend": true,
         "type": "scatter",
         "x": [
          36,
          37,
          38,
          39,
          40,
          41,
          42,
          43,
          44,
          45,
          46,
          47,
          48,
          49,
          50,
          51,
          52,
          53,
          54,
          55,
          56,
          57,
          58,
          59,
          60,
          61,
          62,
          63
         ],
         "xaxis": "x",
         "y": [
          5,
          6,
          6,
          11,
          13,
          16,
          22,
          30,
          28,
          28,
          73,
          92,
          112,
          169,
          203,
          246,
          331,
          400,
          478,
          562,
          660,
          755,
          862,
          958,
          1000,
          1069,
          1131,
          1204
         ],
         "yaxis": "y"
        },
        {
         "hoverlabel": {
          "namelength": 0
         },
         "hovertemplate": "CCAA=Canarias<br>doc=%{x}<br>Infectados=%{y}",
         "legendgroup": "Canarias",
         "line": {
          "color": "#FFA15A",
          "dash": "solid"
         },
         "mode": "lines",
         "name": "Canarias",
         "showlegend": true,
         "type": "scatter",
         "x": [
          36,
          37,
          38,
          39,
          40,
          41,
          42,
          43,
          44,
          45,
          46,
          47,
          48,
          49,
          50,
          51,
          52,
          53,
          54,
          55,
          56,
          57,
          58,
          59,
          60,
          61,
          62,
          63
         ],
         "xaxis": "x",
         "y": [
          7,
          8,
          11,
          22,
          25,
          37,
          51,
          70,
          90,
          109,
          119,
          148,
          181,
          220,
          287,
          348,
          414,
          481,
          557,
          657,
          784,
          878,
          1025,
          1125,
          1204,
          1262,
          1380,
          1444
         ],
         "yaxis": "y"
        },
        {
         "hoverlabel": {
          "namelength": 0
         },
         "hovertemplate": "CCAA=Cantabria<br>doc=%{x}<br>Infectados=%{y}",
         "legendgroup": "Cantabria",
         "line": {
          "color": "#19d3f3",
          "dash": "solid"
         },
         "mode": "lines",
         "name": "Cantabria",
         "showlegend": true,
         "type": "scatter",
         "x": [
          36,
          37,
          38,
          39,
          40,
          41,
          42,
          43,
          44,
          45,
          46,
          47,
          48,
          49,
          50,
          51,
          52,
          53,
          54,
          55,
          56,
          57,
          58,
          59,
          60,
          61,
          62,
          63
         ],
         "xaxis": "x",
         "y": [
          10,
          10,
          10,
          12,
          12,
          12,
          16,
          29,
          31,
          51,
          58,
          58,
          68,
          83,
          144,
          215,
          282,
          347,
          425,
          510,
          671,
          810,
          937,
          1023,
          1100,
          1171,
          1213,
          1268
         ],
         "yaxis": "y"
        },
        {
         "hoverlabel": {
          "namelength": 0
         },
         "hovertemplate": "CCAA=Castilla La Mancha<br>doc=%{x}<br>Infectados=%{y}",
         "legendgroup": "Castilla La Mancha",
         "line": {
          "color": "#FF6692",
          "dash": "solid"
         },
         "mode": "lines",
         "name": "Castilla La Mancha",
         "showlegend": true,
         "type": "scatter",
         "x": [
          36,
          37,
          38,
          39,
          40,
          41,
          42,
          43,
          44,
          45,
          46,
          47,
          48,
          49,
          50,
          51,
          52,
          53,
          54,
          55,
          56,
          57,
          58,
          59,
          60,
          61,
          62,
          63
         ],
         "xaxis": "x",
         "y": [
          12,
          13,
          15,
          26,
          39,
          71,
          115,
          194,
          289,
          401,
          567,
          567,
          675,
          801,
          1044,
          1423,
          1819,
          2078,
          2465,
          2780,
          3383,
          3934,
          4512,
          5246,
          5858,
          6424,
          7047,
          7682
         ],
         "yaxis": "y"
        },
        {
         "hoverlabel": {
          "namelength": 0
         },
         "hovertemplate": "CCAA=Castilla y Leon<br>doc=%{x}<br>Infectados=%{y}",
         "legendgroup": "Castilla y Leon",
         "line": {
          "color": "#B6E880",
          "dash": "solid"
         },
         "mode": "lines",
         "name": "Castilla y Leon",
         "showlegend": true,
         "type": "scatter",
         "x": [
          36,
          37,
          38,
          39,
          40,
          41,
          42,
          43,
          44,
          45,
          46,
          47,
          48,
          49,
          50,
          51,
          52,
          53,
          54,
          55,
          56,
          57,
          58,
          59,
          60,
          61,
          62,
          63
         ],
         "xaxis": "x",
         "y": [
          11,
          11,
          14,
          23,
          56,
          71,
          92,
          169,
          223,
          292,
          334,
          431,
          668,
          868,
          1147,
          1466,
          1744,
          2055,
          246,
          2940,
          3488,
          4132,
          4791,
          5414,
          5801,
          6211,
          6847,
          7355
         ],
         "yaxis": "y"
        },
        {
         "hoverlabel": {
          "namelength": 0
         },
         "hovertemplate": "CCAA=Catalunya<br>doc=%{x}<br>Infectados=%{y}",
         "legendgroup": "Catalunya",
         "line": {
          "color": "#FF97FF",
          "dash": "solid"
         },
         "mode": "lines",
         "name": "Catalunya",
         "showlegend": true,
         "type": "scatter",
         "x": [
          36,
          37,
          38,
          39,
          40,
          41,
          42,
          43,
          44,
          45,
          46,
          47,
          48,
          49,
          50,
          51,
          52,
          53,
          54,
          55,
          56,
          57,
          58,
          59,
          60,
          61,
          62,
          63
         ],
         "xaxis": "x",
         "y": [
          15,
          24,
          24,
          75,
          124,
          156,
          260,
          316,
          509,
          715,
          903,
          1394,
          1865,
          2702,
          327,
          4203,
          4704,
          5925,
          7864,
          9937,
          11592,
          12940,
          14263,
          15026,
          16157,
          18773,
          19991,
          21804
         ],
         "yaxis": "y"
        },
        {
         "hoverlabel": {
          "namelength": 0
         },
         "hovertemplate": "CCAA=Ceuta<br>doc=%{x}<br>Infectados=%{y}",
         "legendgroup": "Ceuta",
         "line": {
          "color": "#FECB52",
          "dash": "solid"
         },
         "mode": "lines",
         "name": "Ceuta",
         "showlegend": true,
         "type": "scatter",
         "x": [
          36,
          37,
          38,
          39,
          40,
          41,
          42,
          43,
          44,
          45,
          46,
          47,
          48,
          49,
          50,
          51,
          52,
          53,
          54,
          55,
          56,
          57,
          58,
          59,
          60,
          61,
          62,
          63
         ],
         "xaxis": "x",
         "y": [
          0,
          0,
          0,
          0,
          0,
          0,
          0,
          0,
          0,
          1,
          1,
          1,
          1,
          1,
          5,
          5,
          5,
          6,
          6,
          9,
          10,
          17,
          17,
          21,
          25,
          34,
          51,
          55
         ],
         "yaxis": "y"
        },
        {
         "hoverlabel": {
          "namelength": 0
         },
         "hovertemplate": "CCAA=C. Valenciana<br>doc=%{x}<br>Infectados=%{y}",
         "legendgroup": "C. Valenciana",
         "line": {
          "color": "#636efa",
          "dash": "solid"
         },
         "mode": "lines",
         "name": "C. Valenciana",
         "showlegend": true,
         "type": "scatter",
         "x": [
          36,
          37,
          38,
          39,
          40,
          41,
          42,
          43,
          44,
          45,
          46,
          47,
          48,
          49,
          50,
          51,
          52,
          53,
          54,
          55,
          56,
          57,
          58,
          59,
          60,
          61,
          62,
          63
         ],
         "xaxis": "x",
         "y": [
          19,
          19,
          30,
          37,
          50,
          65,
          76,
          94,
          130,
          409,
          409,
          541,
          726,
          921,
          1105,
          1363,
          1604,
          1901,
          2167,
          2616,
          3200,
          3532,
          4034,
          4784,
          5110,
          5508,
          5922,
          6308
         ],
         "yaxis": "y"
        },
        {
         "hoverlabel": {
          "namelength": 0
         },
         "hovertemplate": "CCAA=Extremadura<br>doc=%{x}<br>Infectados=%{y}",
         "legendgroup": "Extremadura",
         "line": {
          "color": "#EF553B",
          "dash": "solid"
         },
         "mode": "lines",
         "name": "Extremadura",
         "showlegend": true,
         "type": "scatter",
         "x": [
          36,
          37,
          38,
          39,
          40,
          41,
          42,
          43,
          44,
          45,
          46,
          47,
          48,
          49,
          50,
          51,
          52,
          53,
          54,
          55,
          56,
          57,
          58,
          59,
          60,
          61,
          62,
          63
         ],
         "xaxis": "x",
         "y": [
          6,
          6,
          6,
          7,
          8,
          9,
          19,
          39,
          66,
          95,
          111,
          153,
          194,
          241,
          297,
          354,
          384,
          493,
          636,
          742,
          969,
          1231,
          1394,
          1456,
          1560,
          1628,
          1679,
          1837
         ],
         "yaxis": "y"
        },
        {
         "hoverlabel": {
          "namelength": 0
         },
         "hovertemplate": "CCAA=Galicia<br>doc=%{x}<br>Infectados=%{y}",
         "legendgroup": "Galicia",
         "line": {
          "color": "#00cc96",
          "dash": "solid"
         },
         "mode": "lines",
         "name": "Galicia",
         "showlegend": true,
         "type": "scatter",
         "x": [
          36,
          37,
          38,
          39,
          40,
          41,
          42,
          43,
          44,
          45,
          46,
          47,
          48,
          49,
          50,
          51,
          52,
          53,
          54,
          55,
          56,
          57,
          58,
          59,
          60,
          61,
          62,
          63
         ],
         "xaxis": "x",
         "y": [
          1,
          1,
          3,
          6,
          22,
          39,
          35,
          85,
          115,
          195,
          245,
          292,
          341,
          453,
          578,
          739,
          915,
          1208,
          1415,
          1653,
          1915,
          2322,
          2772,
          3139,
          3723,
          4039,
          4432,
          4842
         ],
         "yaxis": "y"
        },
        {
         "hoverlabel": {
          "namelength": 0
         },
         "hovertemplate": "CCAA=Madrid<br>doc=%{x}<br>Infectados=%{y}",
         "legendgroup": "Madrid",
         "line": {
          "color": "#ab63fa",
          "dash": "solid"
         },
         "mode": "lines",
         "name": "Madrid",
         "showlegend": true,
         "type": "scatter",
         "x": [
          36,
          37,
          38,
          39,
          40,
          41,
          42,
          43,
          44,
          45,
          46,
          47,
          48,
          49,
          50,
          51,
          52,
          53,
          54,
          55,
          56,
          57,
          58,
          59,
          60,
          61,
          62,
          63
         ],
         "xaxis": "x",
         "y": [
          70,
          90,
          137,
          469,
          782,
          1024,
          1388,
          1990,
          2940,
          3544,
          4165,
          4871,
          5637,
          6777,
          7165,
          8921,
          9702,
          10575,
          12352,
          14597,
          17166,
          19243,
          21520,
          22677,
          24090,
          27509,
          29840,
          32155
         ],
         "yaxis": "y"
        },
        {
         "hoverlabel": {
          "namelength": 0
         },
         "hovertemplate": "CCAA=Melilla<br>doc=%{x}<br>Infectados=%{y}",
         "legendgroup": "Melilla",
         "line": {
          "color": "#FFA15A",
          "dash": "solid"
         },
         "mode": "lines",
         "name": "Melilla",
         "showlegend": true,
         "type": "scatter",
         "x": [
          36,
          37,
          38,
          39,
          40,
          41,
          42,
          43,
          44,
          45,
          46,
          47,
          48,
          49,
          50,
          51,
          52,
          53,
          54,
          55,
          56,
          57,
          58,
          59,
          60,
          61,
          62,
          63
         ],
         "xaxis": "x",
         "y": [
          0,
          0,
          0,
          0,
          0,
          0,
          0,
          2,
          3,
          8,
          8,
          17,
          20,
          23,
          24,
          25,
          25,
          28,
          28,
          38,
          39,
          42,
          45,
          48,
          51,
          54,
          62,
          62
         ],
         "yaxis": "y"
        },
        {
         "hoverlabel": {
          "namelength": 0
         },
         "hovertemplate": "CCAA=Murcia<br>doc=%{x}<br>Infectados=%{y}",
         "legendgroup": "Murcia",
         "line": {
          "color": "#19d3f3",
          "dash": "solid"
         },
         "mode": "lines",
         "name": "Murcia",
         "showlegend": true,
         "type": "scatter",
         "x": [
          36,
          37,
          38,
          39,
          40,
          41,
          42,
          43,
          44,
          45,
          46,
          47,
          48,
          49,
          50,
          51,
          52,
          53,
          54,
          55,
          56,
          57,
          58,
          59,
          60,
          61,
          62,
          63
         ],
         "xaxis": "x",
         "y": [
          0,
          0,
          0,
          4,
          9,
          11,
          26,
          35,
          47,
          71,
          77,
          97,
          122,
          167,
          204,
          240,
          296,
          345,
          385,
          477,
          596,
          714,
          802,
          872,
          939,
          974,
          1041,
          1084
         ],
         "yaxis": "y"
        },
        {
         "hoverlabel": {
          "namelength": 0
         },
         "hovertemplate": "CCAA=Navarra<br>doc=%{x}<br>Infectados=%{y}",
         "legendgroup": "Navarra",
         "line": {
          "color": "#FF6692",
          "dash": "solid"
         },
         "mode": "lines",
         "name": "Navarra",
         "showlegend": true,
         "type": "scatter",
         "x": [
          36,
          37,
          38,
          39,
          40,
          41,
          42,
          43,
          44,
          45,
          46,
          47,
          48,
          49,
          50,
          51,
          52,
          53,
          54,
          55,
          56,
          57,
          58,
          59,
          60,
          61,
          62,
          63
         ],
         "xaxis": "x",
         "y": [
          3,
          3,
          3,
          3,
          12,
          46,
          73,
          130,
          146,
          183,
          274,
          313,
          386,
          482,
          554,
          664,
          794,
          886,
          1014,
          1197,
          1411,
          1641,
          1829,
          2011,
          2146,
          2305,
          2497,
          2682
         ],
         "yaxis": "y"
        },
        {
         "hoverlabel": {
          "namelength": 0
         },
         "hovertemplate": "CCAA=Pais Vasco<br>doc=%{x}<br>Infectados=%{y}",
         "legendgroup": "Pais Vasco",
         "line": {
          "color": "#B6E880",
          "dash": "solid"
         },
         "mode": "lines",
         "name": "Pais Vasco",
         "showlegend": true,
         "type": "scatter",
         "x": [
          36,
          37,
          38,
          39,
          40,
          41,
          42,
          43,
          44,
          45,
          46,
          47,
          48,
          49,
          50,
          51,
          52,
          53,
          54,
          55,
          56,
          57,
          58,
          59,
          60,
          61,
          62,
          63
         ],
         "xaxis": "x",
         "y": [
          17,
          17,
          45,
          149,
          195,
          225,
          346,
          417,
          417,
          630,
          630,
          765,
          973,
          119,
          1465,
          1725,
          2097,
          2421,
          2728,
          3271,
          3946,
          4601,
          5136,
          5740,
          6057,
          6320,
          6838,
          7317
         ],
         "yaxis": "y"
        },
        {
         "hoverlabel": {
          "namelength": 0
         },
         "hovertemplate": "CCAA=La Rioja<br>doc=%{x}<br>Infectados=%{y}",
         "legendgroup": "La Rioja",
         "line": {
          "color": "#FF97FF",
          "dash": "solid"
         },
         "mode": "lines",
         "name": "La Rioja",
         "showlegend": true,
         "type": "scatter",
         "x": [
          36,
          37,
          38,
          39,
          40,
          41,
          42,
          43,
          44,
          45,
          46,
          47,
          48,
          49,
          50,
          51,
          52,
          53,
          54,
          55,
          56,
          57,
          58,
          59,
          60,
          61,
          62,
          63
         ],
         "xaxis": "x",
         "y": [
          7,
          11,
          29,
          81,
          144,
          179,
          205,
          243,
          278,
          300,
          312,
          355,
          419,
          468,
          497,
          564,
          654,
          747,
          802,
          928,
          995,
          1236,
          1436,
          1629,
          1733,
          1810,
          1960,
          2083
         ],
         "yaxis": "y"
        }
       ],
       "layout": {
        "legend": {
         "title": {
          "text": "CCAA"
         },
         "tracegroupgap": 0
        },
        "margin": {
         "t": 60
        },
        "template": {
         "data": {
          "bar": [
           {
            "error_x": {
             "color": "#2a3f5f"
            },
            "error_y": {
             "color": "#2a3f5f"
            },
            "marker": {
             "line": {
              "color": "#E5ECF6",
              "width": 0.5
             }
            },
            "type": "bar"
           }
          ],
          "barpolar": [
           {
            "marker": {
             "line": {
              "color": "#E5ECF6",
              "width": 0.5
             }
            },
            "type": "barpolar"
           }
          ],
          "carpet": [
           {
            "aaxis": {
             "endlinecolor": "#2a3f5f",
             "gridcolor": "white",
             "linecolor": "white",
             "minorgridcolor": "white",
             "startlinecolor": "#2a3f5f"
            },
            "baxis": {
             "endlinecolor": "#2a3f5f",
             "gridcolor": "white",
             "linecolor": "white",
             "minorgridcolor": "white",
             "startlinecolor": "#2a3f5f"
            },
            "type": "carpet"
           }
          ],
          "choropleth": [
           {
            "colorbar": {
             "outlinewidth": 0,
             "ticks": ""
            },
            "type": "choropleth"
           }
          ],
          "contour": [
           {
            "colorbar": {
             "outlinewidth": 0,
             "ticks": ""
            },
            "colorscale": [
             [
              0,
              "#0d0887"
             ],
             [
              0.1111111111111111,
              "#46039f"
             ],
             [
              0.2222222222222222,
              "#7201a8"
             ],
             [
              0.3333333333333333,
              "#9c179e"
             ],
             [
              0.4444444444444444,
              "#bd3786"
             ],
             [
              0.5555555555555556,
              "#d8576b"
             ],
             [
              0.6666666666666666,
              "#ed7953"
             ],
             [
              0.7777777777777778,
              "#fb9f3a"
             ],
             [
              0.8888888888888888,
              "#fdca26"
             ],
             [
              1,
              "#f0f921"
             ]
            ],
            "type": "contour"
           }
          ],
          "contourcarpet": [
           {
            "colorbar": {
             "outlinewidth": 0,
             "ticks": ""
            },
            "type": "contourcarpet"
           }
          ],
          "heatmap": [
           {
            "colorbar": {
             "outlinewidth": 0,
             "ticks": ""
            },
            "colorscale": [
             [
              0,
              "#0d0887"
             ],
             [
              0.1111111111111111,
              "#46039f"
             ],
             [
              0.2222222222222222,
              "#7201a8"
             ],
             [
              0.3333333333333333,
              "#9c179e"
             ],
             [
              0.4444444444444444,
              "#bd3786"
             ],
             [
              0.5555555555555556,
              "#d8576b"
             ],
             [
              0.6666666666666666,
              "#ed7953"
             ],
             [
              0.7777777777777778,
              "#fb9f3a"
             ],
             [
              0.8888888888888888,
              "#fdca26"
             ],
             [
              1,
              "#f0f921"
             ]
            ],
            "type": "heatmap"
           }
          ],
          "heatmapgl": [
           {
            "colorbar": {
             "outlinewidth": 0,
             "ticks": ""
            },
            "colorscale": [
             [
              0,
              "#0d0887"
             ],
             [
              0.1111111111111111,
              "#46039f"
             ],
             [
              0.2222222222222222,
              "#7201a8"
             ],
             [
              0.3333333333333333,
              "#9c179e"
             ],
             [
              0.4444444444444444,
              "#bd3786"
             ],
             [
              0.5555555555555556,
              "#d8576b"
             ],
             [
              0.6666666666666666,
              "#ed7953"
             ],
             [
              0.7777777777777778,
              "#fb9f3a"
             ],
             [
              0.8888888888888888,
              "#fdca26"
             ],
             [
              1,
              "#f0f921"
             ]
            ],
            "type": "heatmapgl"
           }
          ],
          "histogram": [
           {
            "marker": {
             "colorbar": {
              "outlinewidth": 0,
              "ticks": ""
             }
            },
            "type": "histogram"
           }
          ],
          "histogram2d": [
           {
            "colorbar": {
             "outlinewidth": 0,
             "ticks": ""
            },
            "colorscale": [
             [
              0,
              "#0d0887"
             ],
             [
              0.1111111111111111,
              "#46039f"
             ],
             [
              0.2222222222222222,
              "#7201a8"
             ],
             [
              0.3333333333333333,
              "#9c179e"
             ],
             [
              0.4444444444444444,
              "#bd3786"
             ],
             [
              0.5555555555555556,
              "#d8576b"
             ],
             [
              0.6666666666666666,
              "#ed7953"
             ],
             [
              0.7777777777777778,
              "#fb9f3a"
             ],
             [
              0.8888888888888888,
              "#fdca26"
             ],
             [
              1,
              "#f0f921"
             ]
            ],
            "type": "histogram2d"
           }
          ],
          "histogram2dcontour": [
           {
            "colorbar": {
             "outlinewidth": 0,
             "ticks": ""
            },
            "colorscale": [
             [
              0,
              "#0d0887"
             ],
             [
              0.1111111111111111,
              "#46039f"
             ],
             [
              0.2222222222222222,
              "#7201a8"
             ],
             [
              0.3333333333333333,
              "#9c179e"
             ],
             [
              0.4444444444444444,
              "#bd3786"
             ],
             [
              0.5555555555555556,
              "#d8576b"
             ],
             [
              0.6666666666666666,
              "#ed7953"
             ],
             [
              0.7777777777777778,
              "#fb9f3a"
             ],
             [
              0.8888888888888888,
              "#fdca26"
             ],
             [
              1,
              "#f0f921"
             ]
            ],
            "type": "histogram2dcontour"
           }
          ],
          "mesh3d": [
           {
            "colorbar": {
             "outlinewidth": 0,
             "ticks": ""
            },
            "type": "mesh3d"
           }
          ],
          "parcoords": [
           {
            "line": {
             "colorbar": {
              "outlinewidth": 0,
              "ticks": ""
             }
            },
            "type": "parcoords"
           }
          ],
          "pie": [
           {
            "automargin": true,
            "type": "pie"
           }
          ],
          "scatter": [
           {
            "marker": {
             "colorbar": {
              "outlinewidth": 0,
              "ticks": ""
             }
            },
            "type": "scatter"
           }
          ],
          "scatter3d": [
           {
            "line": {
             "colorbar": {
              "outlinewidth": 0,
              "ticks": ""
             }
            },
            "marker": {
             "colorbar": {
              "outlinewidth": 0,
              "ticks": ""
             }
            },
            "type": "scatter3d"
           }
          ],
          "scattercarpet": [
           {
            "marker": {
             "colorbar": {
              "outlinewidth": 0,
              "ticks": ""
             }
            },
            "type": "scattercarpet"
           }
          ],
          "scattergeo": [
           {
            "marker": {
             "colorbar": {
              "outlinewidth": 0,
              "ticks": ""
             }
            },
            "type": "scattergeo"
           }
          ],
          "scattergl": [
           {
            "marker": {
             "colorbar": {
              "outlinewidth": 0,
              "ticks": ""
             }
            },
            "type": "scattergl"
           }
          ],
          "scattermapbox": [
           {
            "marker": {
             "colorbar": {
              "outlinewidth": 0,
              "ticks": ""
             }
            },
            "type": "scattermapbox"
           }
          ],
          "scatterpolar": [
           {
            "marker": {
             "colorbar": {
              "outlinewidth": 0,
              "ticks": ""
             }
            },
            "type": "scatterpolar"
           }
          ],
          "scatterpolargl": [
           {
            "marker": {
             "colorbar": {
              "outlinewidth": 0,
              "ticks": ""
             }
            },
            "type": "scatterpolargl"
           }
          ],
          "scatterternary": [
           {
            "marker": {
             "colorbar": {
              "outlinewidth": 0,
              "ticks": ""
             }
            },
            "type": "scatterternary"
           }
          ],
          "surface": [
           {
            "colorbar": {
             "outlinewidth": 0,
             "ticks": ""
            },
            "colorscale": [
             [
              0,
              "#0d0887"
             ],
             [
              0.1111111111111111,
              "#46039f"
             ],
             [
              0.2222222222222222,
              "#7201a8"
             ],
             [
              0.3333333333333333,
              "#9c179e"
             ],
             [
              0.4444444444444444,
              "#bd3786"
             ],
             [
              0.5555555555555556,
              "#d8576b"
             ],
             [
              0.6666666666666666,
              "#ed7953"
             ],
             [
              0.7777777777777778,
              "#fb9f3a"
             ],
             [
              0.8888888888888888,
              "#fdca26"
             ],
             [
              1,
              "#f0f921"
             ]
            ],
            "type": "surface"
           }
          ],
          "table": [
           {
            "cells": {
             "fill": {
              "color": "#EBF0F8"
             },
             "line": {
              "color": "white"
             }
            },
            "header": {
             "fill": {
              "color": "#C8D4E3"
             },
             "line": {
              "color": "white"
             }
            },
            "type": "table"
           }
          ]
         },
         "layout": {
          "annotationdefaults": {
           "arrowcolor": "#2a3f5f",
           "arrowhead": 0,
           "arrowwidth": 1
          },
          "coloraxis": {
           "colorbar": {
            "outlinewidth": 0,
            "ticks": ""
           }
          },
          "colorscale": {
           "diverging": [
            [
             0,
             "#8e0152"
            ],
            [
             0.1,
             "#c51b7d"
            ],
            [
             0.2,
             "#de77ae"
            ],
            [
             0.3,
             "#f1b6da"
            ],
            [
             0.4,
             "#fde0ef"
            ],
            [
             0.5,
             "#f7f7f7"
            ],
            [
             0.6,
             "#e6f5d0"
            ],
            [
             0.7,
             "#b8e186"
            ],
            [
             0.8,
             "#7fbc41"
            ],
            [
             0.9,
             "#4d9221"
            ],
            [
             1,
             "#276419"
            ]
           ],
           "sequential": [
            [
             0,
             "#0d0887"
            ],
            [
             0.1111111111111111,
             "#46039f"
            ],
            [
             0.2222222222222222,
             "#7201a8"
            ],
            [
             0.3333333333333333,
             "#9c179e"
            ],
            [
             0.4444444444444444,
             "#bd3786"
            ],
            [
             0.5555555555555556,
             "#d8576b"
            ],
            [
             0.6666666666666666,
             "#ed7953"
            ],
            [
             0.7777777777777778,
             "#fb9f3a"
            ],
            [
             0.8888888888888888,
             "#fdca26"
            ],
            [
             1,
             "#f0f921"
            ]
           ],
           "sequentialminus": [
            [
             0,
             "#0d0887"
            ],
            [
             0.1111111111111111,
             "#46039f"
            ],
            [
             0.2222222222222222,
             "#7201a8"
            ],
            [
             0.3333333333333333,
             "#9c179e"
            ],
            [
             0.4444444444444444,
             "#bd3786"
            ],
            [
             0.5555555555555556,
             "#d8576b"
            ],
            [
             0.6666666666666666,
             "#ed7953"
            ],
            [
             0.7777777777777778,
             "#fb9f3a"
            ],
            [
             0.8888888888888888,
             "#fdca26"
            ],
            [
             1,
             "#f0f921"
            ]
           ]
          },
          "colorway": [
           "#636efa",
           "#EF553B",
           "#00cc96",
           "#ab63fa",
           "#FFA15A",
           "#19d3f3",
           "#FF6692",
           "#B6E880",
           "#FF97FF",
           "#FECB52"
          ],
          "font": {
           "color": "#2a3f5f"
          },
          "geo": {
           "bgcolor": "white",
           "lakecolor": "white",
           "landcolor": "#E5ECF6",
           "showlakes": true,
           "showland": true,
           "subunitcolor": "white"
          },
          "hoverlabel": {
           "align": "left"
          },
          "hovermode": "closest",
          "mapbox": {
           "style": "light"
          },
          "paper_bgcolor": "white",
          "plot_bgcolor": "#E5ECF6",
          "polar": {
           "angularaxis": {
            "gridcolor": "white",
            "linecolor": "white",
            "ticks": ""
           },
           "bgcolor": "#E5ECF6",
           "radialaxis": {
            "gridcolor": "white",
            "linecolor": "white",
            "ticks": ""
           }
          },
          "scene": {
           "xaxis": {
            "backgroundcolor": "#E5ECF6",
            "gridcolor": "white",
            "gridwidth": 2,
            "linecolor": "white",
            "showbackground": true,
            "ticks": "",
            "zerolinecolor": "white"
           },
           "yaxis": {
            "backgroundcolor": "#E5ECF6",
            "gridcolor": "white",
            "gridwidth": 2,
            "linecolor": "white",
            "showbackground": true,
            "ticks": "",
            "zerolinecolor": "white"
           },
           "zaxis": {
            "backgroundcolor": "#E5ECF6",
            "gridcolor": "white",
            "gridwidth": 2,
            "linecolor": "white",
            "showbackground": true,
            "ticks": "",
            "zerolinecolor": "white"
           }
          },
          "shapedefaults": {
           "line": {
            "color": "#2a3f5f"
           }
          },
          "ternary": {
           "aaxis": {
            "gridcolor": "white",
            "linecolor": "white",
            "ticks": ""
           },
           "baxis": {
            "gridcolor": "white",
            "linecolor": "white",
            "ticks": ""
           },
           "bgcolor": "#E5ECF6",
           "caxis": {
            "gridcolor": "white",
            "linecolor": "white",
            "ticks": ""
           }
          },
          "title": {
           "x": 0.05
          },
          "xaxis": {
           "automargin": true,
           "gridcolor": "white",
           "linecolor": "white",
           "ticks": "",
           "title": {
            "standoff": 15
           },
           "zerolinecolor": "white",
           "zerolinewidth": 2
          },
          "yaxis": {
           "automargin": true,
           "gridcolor": "white",
           "linecolor": "white",
           "ticks": "",
           "title": {
            "standoff": 15
           },
           "zerolinecolor": "white",
           "zerolinewidth": 2
          }
         }
        },
        "xaxis": {
         "anchor": "y",
         "domain": [
          0,
          1
         ],
         "title": {
          "text": "doc"
         }
        },
        "yaxis": {
         "anchor": "x",
         "domain": [
          0,
          1
         ],
         "title": {
          "text": "Infectados"
         }
        }
       }
      },
      "text/html": [
       "<div>\n",
       "        \n",
       "        \n",
       "            <div id=\"a622e0e1-f608-4a58-a02c-2f6706fce2d3\" class=\"plotly-graph-div\" style=\"height:525px; width:100%;\"></div>\n",
       "            <script type=\"text/javascript\">\n",
       "                require([\"plotly\"], function(Plotly) {\n",
       "                    window.PLOTLYENV=window.PLOTLYENV || {};\n",
       "                    \n",
       "                if (document.getElementById(\"a622e0e1-f608-4a58-a02c-2f6706fce2d3\")) {\n",
       "                    Plotly.newPlot(\n",
       "                        'a622e0e1-f608-4a58-a02c-2f6706fce2d3',\n",
       "                        [{\"hoverlabel\": {\"namelength\": 0}, \"hovertemplate\": \"CCAA=Andalucia<br>doc=%{x}<br>Infectados=%{y}\", \"legendgroup\": \"Andalucia\", \"line\": {\"color\": \"#636efa\", \"dash\": \"solid\"}, \"mode\": \"lines\", \"name\": \"Andalucia\", \"showlegend\": true, \"type\": \"scatter\", \"x\": [36, 37, 38, 39, 40, 41, 42, 43, 44, 45, 46, 47, 48, 49, 50, 51, 52, 53, 54, 55, 56, 57, 58, 59, 60, 61, 62, 63], \"xaxis\": \"x\", \"y\": [13, 12, 21, 54, 71, 90, 115, 219, 269, 437, 554, 683, 859, 1008, 1287, 1515, 1725, 1960, 2471, 3010, 3406, 3793, 4277, 4682, 5405, 5818, 6392, 6972], \"yaxis\": \"y\"}, {\"hoverlabel\": {\"namelength\": 0}, \"hovertemplate\": \"CCAA=Aragon<br>doc=%{x}<br>Infectados=%{y}\", \"legendgroup\": \"Aragon\", \"line\": {\"color\": \"#EF553B\", \"dash\": \"solid\"}, \"mode\": \"lines\", \"name\": \"Aragon\", \"showlegend\": true, \"type\": \"scatter\", \"x\": [36, 37, 38, 39, 40, 41, 42, 43, 44, 45, 46, 47, 48, 49, 50, 51, 52, 53, 54, 55, 56, 57, 58, 59, 60, 61, 62, 63], \"xaxis\": \"x\", \"y\": [0, 1, 6, 13, 38, 45, 64, 80, 80, 147, 174, 207, 226, 281, 360, 424, 532, 638, 758, 907, 1116, 1338, 1592, 1858, 2078, 2272, 2491, 2700], \"yaxis\": \"y\"}, {\"hoverlabel\": {\"namelength\": 0}, \"hovertemplate\": \"CCAA=Asturias<br>doc=%{x}<br>Infectados=%{y}\", \"legendgroup\": \"Asturias\", \"line\": {\"color\": \"#00cc96\", \"dash\": \"solid\"}, \"mode\": \"lines\", \"name\": \"Asturias\", \"showlegend\": true, \"type\": \"scatter\", \"x\": [36, 37, 38, 39, 40, 41, 42, 43, 44, 45, 46, 47, 48, 49, 50, 51, 52, 53, 54, 55, 56, 57, 58, 59, 60, 61, 62, 63], \"xaxis\": \"x\", \"y\": [2, 5, 5, 7, 22, 32, 47, 67, 92, 137, 177, 193, 242, 292, 344, 486, 545, 594, 662, 779, 841, 900, 1004, 1088, 1158, 1236, 1322, 1384], \"yaxis\": \"y\"}, {\"hoverlabel\": {\"namelength\": 0}, \"hovertemplate\": \"CCAA=Baleares<br>doc=%{x}<br>Infectados=%{y}\", \"legendgroup\": \"Baleares\", \"line\": {\"color\": \"#ab63fa\", \"dash\": \"solid\"}, \"mode\": \"lines\", \"name\": \"Baleares\", \"showlegend\": true, \"type\": \"scatter\", \"x\": [36, 37, 38, 39, 40, 41, 42, 43, 44, 45, 46, 47, 48, 49, 50, 51, 52, 53, 54, 55, 56, 57, 58, 59, 60, 61, 62, 63], \"xaxis\": \"x\", \"y\": [5, 6, 6, 11, 13, 16, 22, 30, 28, 28, 73, 92, 112, 169, 203, 246, 331, 400, 478, 562, 660, 755, 862, 958, 1000, 1069, 1131, 1204], \"yaxis\": \"y\"}, {\"hoverlabel\": {\"namelength\": 0}, \"hovertemplate\": \"CCAA=Canarias<br>doc=%{x}<br>Infectados=%{y}\", \"legendgroup\": \"Canarias\", \"line\": {\"color\": \"#FFA15A\", \"dash\": \"solid\"}, \"mode\": \"lines\", \"name\": \"Canarias\", \"showlegend\": true, \"type\": \"scatter\", \"x\": [36, 37, 38, 39, 40, 41, 42, 43, 44, 45, 46, 47, 48, 49, 50, 51, 52, 53, 54, 55, 56, 57, 58, 59, 60, 61, 62, 63], \"xaxis\": \"x\", \"y\": [7, 8, 11, 22, 25, 37, 51, 70, 90, 109, 119, 148, 181, 220, 287, 348, 414, 481, 557, 657, 784, 878, 1025, 1125, 1204, 1262, 1380, 1444], \"yaxis\": \"y\"}, {\"hoverlabel\": {\"namelength\": 0}, \"hovertemplate\": \"CCAA=Cantabria<br>doc=%{x}<br>Infectados=%{y}\", \"legendgroup\": \"Cantabria\", \"line\": {\"color\": \"#19d3f3\", \"dash\": \"solid\"}, \"mode\": \"lines\", \"name\": \"Cantabria\", \"showlegend\": true, \"type\": \"scatter\", \"x\": [36, 37, 38, 39, 40, 41, 42, 43, 44, 45, 46, 47, 48, 49, 50, 51, 52, 53, 54, 55, 56, 57, 58, 59, 60, 61, 62, 63], \"xaxis\": \"x\", \"y\": [10, 10, 10, 12, 12, 12, 16, 29, 31, 51, 58, 58, 68, 83, 144, 215, 282, 347, 425, 510, 671, 810, 937, 1023, 1100, 1171, 1213, 1268], \"yaxis\": \"y\"}, {\"hoverlabel\": {\"namelength\": 0}, \"hovertemplate\": \"CCAA=Castilla La Mancha<br>doc=%{x}<br>Infectados=%{y}\", \"legendgroup\": \"Castilla La Mancha\", \"line\": {\"color\": \"#FF6692\", \"dash\": \"solid\"}, \"mode\": \"lines\", \"name\": \"Castilla La Mancha\", \"showlegend\": true, \"type\": \"scatter\", \"x\": [36, 37, 38, 39, 40, 41, 42, 43, 44, 45, 46, 47, 48, 49, 50, 51, 52, 53, 54, 55, 56, 57, 58, 59, 60, 61, 62, 63], \"xaxis\": \"x\", \"y\": [12, 13, 15, 26, 39, 71, 115, 194, 289, 401, 567, 567, 675, 801, 1044, 1423, 1819, 2078, 2465, 2780, 3383, 3934, 4512, 5246, 5858, 6424, 7047, 7682], \"yaxis\": \"y\"}, {\"hoverlabel\": {\"namelength\": 0}, \"hovertemplate\": \"CCAA=Castilla y Leon<br>doc=%{x}<br>Infectados=%{y}\", \"legendgroup\": \"Castilla y Leon\", \"line\": {\"color\": \"#B6E880\", \"dash\": \"solid\"}, \"mode\": \"lines\", \"name\": \"Castilla y Leon\", \"showlegend\": true, \"type\": \"scatter\", \"x\": [36, 37, 38, 39, 40, 41, 42, 43, 44, 45, 46, 47, 48, 49, 50, 51, 52, 53, 54, 55, 56, 57, 58, 59, 60, 61, 62, 63], \"xaxis\": \"x\", \"y\": [11, 11, 14, 23, 56, 71, 92, 169, 223, 292, 334, 431, 668, 868, 1147, 1466, 1744, 2055, 246, 2940, 3488, 4132, 4791, 5414, 5801, 6211, 6847, 7355], \"yaxis\": \"y\"}, {\"hoverlabel\": {\"namelength\": 0}, \"hovertemplate\": \"CCAA=Catalunya<br>doc=%{x}<br>Infectados=%{y}\", \"legendgroup\": \"Catalunya\", \"line\": {\"color\": \"#FF97FF\", \"dash\": \"solid\"}, \"mode\": \"lines\", \"name\": \"Catalunya\", \"showlegend\": true, \"type\": \"scatter\", \"x\": [36, 37, 38, 39, 40, 41, 42, 43, 44, 45, 46, 47, 48, 49, 50, 51, 52, 53, 54, 55, 56, 57, 58, 59, 60, 61, 62, 63], \"xaxis\": \"x\", \"y\": [15, 24, 24, 75, 124, 156, 260, 316, 509, 715, 903, 1394, 1865, 2702, 327, 4203, 4704, 5925, 7864, 9937, 11592, 12940, 14263, 15026, 16157, 18773, 19991, 21804], \"yaxis\": \"y\"}, {\"hoverlabel\": {\"namelength\": 0}, \"hovertemplate\": \"CCAA=Ceuta<br>doc=%{x}<br>Infectados=%{y}\", \"legendgroup\": \"Ceuta\", \"line\": {\"color\": \"#FECB52\", \"dash\": \"solid\"}, \"mode\": \"lines\", \"name\": \"Ceuta\", \"showlegend\": true, \"type\": \"scatter\", \"x\": [36, 37, 38, 39, 40, 41, 42, 43, 44, 45, 46, 47, 48, 49, 50, 51, 52, 53, 54, 55, 56, 57, 58, 59, 60, 61, 62, 63], \"xaxis\": \"x\", \"y\": [0, 0, 0, 0, 0, 0, 0, 0, 0, 1, 1, 1, 1, 1, 5, 5, 5, 6, 6, 9, 10, 17, 17, 21, 25, 34, 51, 55], \"yaxis\": \"y\"}, {\"hoverlabel\": {\"namelength\": 0}, \"hovertemplate\": \"CCAA=C. Valenciana<br>doc=%{x}<br>Infectados=%{y}\", \"legendgroup\": \"C. Valenciana\", \"line\": {\"color\": \"#636efa\", \"dash\": \"solid\"}, \"mode\": \"lines\", \"name\": \"C. Valenciana\", \"showlegend\": true, \"type\": \"scatter\", \"x\": [36, 37, 38, 39, 40, 41, 42, 43, 44, 45, 46, 47, 48, 49, 50, 51, 52, 53, 54, 55, 56, 57, 58, 59, 60, 61, 62, 63], \"xaxis\": \"x\", \"y\": [19, 19, 30, 37, 50, 65, 76, 94, 130, 409, 409, 541, 726, 921, 1105, 1363, 1604, 1901, 2167, 2616, 3200, 3532, 4034, 4784, 5110, 5508, 5922, 6308], \"yaxis\": \"y\"}, {\"hoverlabel\": {\"namelength\": 0}, \"hovertemplate\": \"CCAA=Extremadura<br>doc=%{x}<br>Infectados=%{y}\", \"legendgroup\": \"Extremadura\", \"line\": {\"color\": \"#EF553B\", \"dash\": \"solid\"}, \"mode\": \"lines\", \"name\": \"Extremadura\", \"showlegend\": true, \"type\": \"scatter\", \"x\": [36, 37, 38, 39, 40, 41, 42, 43, 44, 45, 46, 47, 48, 49, 50, 51, 52, 53, 54, 55, 56, 57, 58, 59, 60, 61, 62, 63], \"xaxis\": \"x\", \"y\": [6, 6, 6, 7, 8, 9, 19, 39, 66, 95, 111, 153, 194, 241, 297, 354, 384, 493, 636, 742, 969, 1231, 1394, 1456, 1560, 1628, 1679, 1837], \"yaxis\": \"y\"}, {\"hoverlabel\": {\"namelength\": 0}, \"hovertemplate\": \"CCAA=Galicia<br>doc=%{x}<br>Infectados=%{y}\", \"legendgroup\": \"Galicia\", \"line\": {\"color\": \"#00cc96\", \"dash\": \"solid\"}, \"mode\": \"lines\", \"name\": \"Galicia\", \"showlegend\": true, \"type\": \"scatter\", \"x\": [36, 37, 38, 39, 40, 41, 42, 43, 44, 45, 46, 47, 48, 49, 50, 51, 52, 53, 54, 55, 56, 57, 58, 59, 60, 61, 62, 63], \"xaxis\": \"x\", \"y\": [1, 1, 3, 6, 22, 39, 35, 85, 115, 195, 245, 292, 341, 453, 578, 739, 915, 1208, 1415, 1653, 1915, 2322, 2772, 3139, 3723, 4039, 4432, 4842], \"yaxis\": \"y\"}, {\"hoverlabel\": {\"namelength\": 0}, \"hovertemplate\": \"CCAA=Madrid<br>doc=%{x}<br>Infectados=%{y}\", \"legendgroup\": \"Madrid\", \"line\": {\"color\": \"#ab63fa\", \"dash\": \"solid\"}, \"mode\": \"lines\", \"name\": \"Madrid\", \"showlegend\": true, \"type\": \"scatter\", \"x\": [36, 37, 38, 39, 40, 41, 42, 43, 44, 45, 46, 47, 48, 49, 50, 51, 52, 53, 54, 55, 56, 57, 58, 59, 60, 61, 62, 63], \"xaxis\": \"x\", \"y\": [70, 90, 137, 469, 782, 1024, 1388, 1990, 2940, 3544, 4165, 4871, 5637, 6777, 7165, 8921, 9702, 10575, 12352, 14597, 17166, 19243, 21520, 22677, 24090, 27509, 29840, 32155], \"yaxis\": \"y\"}, {\"hoverlabel\": {\"namelength\": 0}, \"hovertemplate\": \"CCAA=Melilla<br>doc=%{x}<br>Infectados=%{y}\", \"legendgroup\": \"Melilla\", \"line\": {\"color\": \"#FFA15A\", \"dash\": \"solid\"}, \"mode\": \"lines\", \"name\": \"Melilla\", \"showlegend\": true, \"type\": \"scatter\", \"x\": [36, 37, 38, 39, 40, 41, 42, 43, 44, 45, 46, 47, 48, 49, 50, 51, 52, 53, 54, 55, 56, 57, 58, 59, 60, 61, 62, 63], \"xaxis\": \"x\", \"y\": [0, 0, 0, 0, 0, 0, 0, 2, 3, 8, 8, 17, 20, 23, 24, 25, 25, 28, 28, 38, 39, 42, 45, 48, 51, 54, 62, 62], \"yaxis\": \"y\"}, {\"hoverlabel\": {\"namelength\": 0}, \"hovertemplate\": \"CCAA=Murcia<br>doc=%{x}<br>Infectados=%{y}\", \"legendgroup\": \"Murcia\", \"line\": {\"color\": \"#19d3f3\", \"dash\": \"solid\"}, \"mode\": \"lines\", \"name\": \"Murcia\", \"showlegend\": true, \"type\": \"scatter\", \"x\": [36, 37, 38, 39, 40, 41, 42, 43, 44, 45, 46, 47, 48, 49, 50, 51, 52, 53, 54, 55, 56, 57, 58, 59, 60, 61, 62, 63], \"xaxis\": \"x\", \"y\": [0, 0, 0, 4, 9, 11, 26, 35, 47, 71, 77, 97, 122, 167, 204, 240, 296, 345, 385, 477, 596, 714, 802, 872, 939, 974, 1041, 1084], \"yaxis\": \"y\"}, {\"hoverlabel\": {\"namelength\": 0}, \"hovertemplate\": \"CCAA=Navarra<br>doc=%{x}<br>Infectados=%{y}\", \"legendgroup\": \"Navarra\", \"line\": {\"color\": \"#FF6692\", \"dash\": \"solid\"}, \"mode\": \"lines\", \"name\": \"Navarra\", \"showlegend\": true, \"type\": \"scatter\", \"x\": [36, 37, 38, 39, 40, 41, 42, 43, 44, 45, 46, 47, 48, 49, 50, 51, 52, 53, 54, 55, 56, 57, 58, 59, 60, 61, 62, 63], \"xaxis\": \"x\", \"y\": [3, 3, 3, 3, 12, 46, 73, 130, 146, 183, 274, 313, 386, 482, 554, 664, 794, 886, 1014, 1197, 1411, 1641, 1829, 2011, 2146, 2305, 2497, 2682], \"yaxis\": \"y\"}, {\"hoverlabel\": {\"namelength\": 0}, \"hovertemplate\": \"CCAA=Pais Vasco<br>doc=%{x}<br>Infectados=%{y}\", \"legendgroup\": \"Pais Vasco\", \"line\": {\"color\": \"#B6E880\", \"dash\": \"solid\"}, \"mode\": \"lines\", \"name\": \"Pais Vasco\", \"showlegend\": true, \"type\": \"scatter\", \"x\": [36, 37, 38, 39, 40, 41, 42, 43, 44, 45, 46, 47, 48, 49, 50, 51, 52, 53, 54, 55, 56, 57, 58, 59, 60, 61, 62, 63], \"xaxis\": \"x\", \"y\": [17, 17, 45, 149, 195, 225, 346, 417, 417, 630, 630, 765, 973, 119, 1465, 1725, 2097, 2421, 2728, 3271, 3946, 4601, 5136, 5740, 6057, 6320, 6838, 7317], \"yaxis\": \"y\"}, {\"hoverlabel\": {\"namelength\": 0}, \"hovertemplate\": \"CCAA=La Rioja<br>doc=%{x}<br>Infectados=%{y}\", \"legendgroup\": \"La Rioja\", \"line\": {\"color\": \"#FF97FF\", \"dash\": \"solid\"}, \"mode\": \"lines\", \"name\": \"La Rioja\", \"showlegend\": true, \"type\": \"scatter\", \"x\": [36, 37, 38, 39, 40, 41, 42, 43, 44, 45, 46, 47, 48, 49, 50, 51, 52, 53, 54, 55, 56, 57, 58, 59, 60, 61, 62, 63], \"xaxis\": \"x\", \"y\": [7, 11, 29, 81, 144, 179, 205, 243, 278, 300, 312, 355, 419, 468, 497, 564, 654, 747, 802, 928, 995, 1236, 1436, 1629, 1733, 1810, 1960, 2083], \"yaxis\": \"y\"}],\n",
       "                        {\"legend\": {\"title\": {\"text\": \"CCAA\"}, \"tracegroupgap\": 0}, \"margin\": {\"t\": 60}, \"template\": {\"data\": {\"bar\": [{\"error_x\": {\"color\": \"#2a3f5f\"}, \"error_y\": {\"color\": \"#2a3f5f\"}, \"marker\": {\"line\": {\"color\": \"#E5ECF6\", \"width\": 0.5}}, \"type\": \"bar\"}], \"barpolar\": [{\"marker\": {\"line\": {\"color\": \"#E5ECF6\", \"width\": 0.5}}, \"type\": \"barpolar\"}], \"carpet\": [{\"aaxis\": {\"endlinecolor\": \"#2a3f5f\", \"gridcolor\": \"white\", \"linecolor\": \"white\", \"minorgridcolor\": \"white\", \"startlinecolor\": \"#2a3f5f\"}, \"baxis\": {\"endlinecolor\": \"#2a3f5f\", \"gridcolor\": \"white\", \"linecolor\": \"white\", \"minorgridcolor\": \"white\", \"startlinecolor\": \"#2a3f5f\"}, \"type\": \"carpet\"}], \"choropleth\": [{\"colorbar\": {\"outlinewidth\": 0, \"ticks\": \"\"}, \"type\": \"choropleth\"}], \"contour\": [{\"colorbar\": {\"outlinewidth\": 0, \"ticks\": \"\"}, \"colorscale\": [[0.0, \"#0d0887\"], [0.1111111111111111, \"#46039f\"], [0.2222222222222222, \"#7201a8\"], [0.3333333333333333, \"#9c179e\"], [0.4444444444444444, \"#bd3786\"], [0.5555555555555556, \"#d8576b\"], [0.6666666666666666, \"#ed7953\"], [0.7777777777777778, \"#fb9f3a\"], [0.8888888888888888, \"#fdca26\"], [1.0, \"#f0f921\"]], \"type\": \"contour\"}], \"contourcarpet\": [{\"colorbar\": {\"outlinewidth\": 0, \"ticks\": \"\"}, \"type\": \"contourcarpet\"}], \"heatmap\": [{\"colorbar\": {\"outlinewidth\": 0, \"ticks\": \"\"}, \"colorscale\": [[0.0, \"#0d0887\"], [0.1111111111111111, \"#46039f\"], [0.2222222222222222, \"#7201a8\"], [0.3333333333333333, \"#9c179e\"], [0.4444444444444444, \"#bd3786\"], [0.5555555555555556, \"#d8576b\"], [0.6666666666666666, \"#ed7953\"], [0.7777777777777778, \"#fb9f3a\"], [0.8888888888888888, \"#fdca26\"], [1.0, \"#f0f921\"]], \"type\": \"heatmap\"}], \"heatmapgl\": [{\"colorbar\": {\"outlinewidth\": 0, \"ticks\": \"\"}, \"colorscale\": [[0.0, \"#0d0887\"], [0.1111111111111111, \"#46039f\"], [0.2222222222222222, \"#7201a8\"], [0.3333333333333333, \"#9c179e\"], [0.4444444444444444, \"#bd3786\"], [0.5555555555555556, \"#d8576b\"], [0.6666666666666666, \"#ed7953\"], [0.7777777777777778, \"#fb9f3a\"], [0.8888888888888888, \"#fdca26\"], [1.0, \"#f0f921\"]], \"type\": \"heatmapgl\"}], \"histogram\": [{\"marker\": {\"colorbar\": {\"outlinewidth\": 0, \"ticks\": \"\"}}, \"type\": \"histogram\"}], \"histogram2d\": [{\"colorbar\": {\"outlinewidth\": 0, \"ticks\": \"\"}, \"colorscale\": [[0.0, \"#0d0887\"], [0.1111111111111111, \"#46039f\"], [0.2222222222222222, \"#7201a8\"], [0.3333333333333333, \"#9c179e\"], [0.4444444444444444, \"#bd3786\"], [0.5555555555555556, \"#d8576b\"], [0.6666666666666666, \"#ed7953\"], [0.7777777777777778, \"#fb9f3a\"], [0.8888888888888888, \"#fdca26\"], [1.0, \"#f0f921\"]], \"type\": \"histogram2d\"}], \"histogram2dcontour\": [{\"colorbar\": {\"outlinewidth\": 0, \"ticks\": \"\"}, \"colorscale\": [[0.0, \"#0d0887\"], [0.1111111111111111, \"#46039f\"], [0.2222222222222222, \"#7201a8\"], [0.3333333333333333, \"#9c179e\"], [0.4444444444444444, \"#bd3786\"], [0.5555555555555556, \"#d8576b\"], [0.6666666666666666, \"#ed7953\"], [0.7777777777777778, \"#fb9f3a\"], [0.8888888888888888, \"#fdca26\"], [1.0, \"#f0f921\"]], \"type\": \"histogram2dcontour\"}], \"mesh3d\": [{\"colorbar\": {\"outlinewidth\": 0, \"ticks\": \"\"}, \"type\": \"mesh3d\"}], \"parcoords\": [{\"line\": {\"colorbar\": {\"outlinewidth\": 0, \"ticks\": \"\"}}, \"type\": \"parcoords\"}], \"pie\": [{\"automargin\": true, \"type\": \"pie\"}], \"scatter\": [{\"marker\": {\"colorbar\": {\"outlinewidth\": 0, \"ticks\": \"\"}}, \"type\": \"scatter\"}], \"scatter3d\": [{\"line\": {\"colorbar\": {\"outlinewidth\": 0, \"ticks\": \"\"}}, \"marker\": {\"colorbar\": {\"outlinewidth\": 0, \"ticks\": \"\"}}, \"type\": \"scatter3d\"}], \"scattercarpet\": [{\"marker\": {\"colorbar\": {\"outlinewidth\": 0, \"ticks\": \"\"}}, \"type\": \"scattercarpet\"}], \"scattergeo\": [{\"marker\": {\"colorbar\": {\"outlinewidth\": 0, \"ticks\": \"\"}}, \"type\": \"scattergeo\"}], \"scattergl\": [{\"marker\": {\"colorbar\": {\"outlinewidth\": 0, \"ticks\": \"\"}}, \"type\": \"scattergl\"}], \"scattermapbox\": [{\"marker\": {\"colorbar\": {\"outlinewidth\": 0, \"ticks\": \"\"}}, \"type\": \"scattermapbox\"}], \"scatterpolar\": [{\"marker\": {\"colorbar\": {\"outlinewidth\": 0, \"ticks\": \"\"}}, \"type\": \"scatterpolar\"}], \"scatterpolargl\": [{\"marker\": {\"colorbar\": {\"outlinewidth\": 0, \"ticks\": \"\"}}, \"type\": \"scatterpolargl\"}], \"scatterternary\": [{\"marker\": {\"colorbar\": {\"outlinewidth\": 0, \"ticks\": \"\"}}, \"type\": \"scatterternary\"}], \"surface\": [{\"colorbar\": {\"outlinewidth\": 0, \"ticks\": \"\"}, \"colorscale\": [[0.0, \"#0d0887\"], [0.1111111111111111, \"#46039f\"], [0.2222222222222222, \"#7201a8\"], [0.3333333333333333, \"#9c179e\"], [0.4444444444444444, \"#bd3786\"], [0.5555555555555556, \"#d8576b\"], [0.6666666666666666, \"#ed7953\"], [0.7777777777777778, \"#fb9f3a\"], [0.8888888888888888, \"#fdca26\"], [1.0, \"#f0f921\"]], \"type\": \"surface\"}], \"table\": [{\"cells\": {\"fill\": {\"color\": \"#EBF0F8\"}, \"line\": {\"color\": \"white\"}}, \"header\": {\"fill\": {\"color\": \"#C8D4E3\"}, \"line\": {\"color\": \"white\"}}, \"type\": \"table\"}]}, \"layout\": {\"annotationdefaults\": {\"arrowcolor\": \"#2a3f5f\", \"arrowhead\": 0, \"arrowwidth\": 1}, \"coloraxis\": {\"colorbar\": {\"outlinewidth\": 0, \"ticks\": \"\"}}, \"colorscale\": {\"diverging\": [[0, \"#8e0152\"], [0.1, \"#c51b7d\"], [0.2, \"#de77ae\"], [0.3, \"#f1b6da\"], [0.4, \"#fde0ef\"], [0.5, \"#f7f7f7\"], [0.6, \"#e6f5d0\"], [0.7, \"#b8e186\"], [0.8, \"#7fbc41\"], [0.9, \"#4d9221\"], [1, \"#276419\"]], \"sequential\": [[0.0, \"#0d0887\"], [0.1111111111111111, \"#46039f\"], [0.2222222222222222, \"#7201a8\"], [0.3333333333333333, \"#9c179e\"], [0.4444444444444444, \"#bd3786\"], [0.5555555555555556, \"#d8576b\"], [0.6666666666666666, \"#ed7953\"], [0.7777777777777778, \"#fb9f3a\"], [0.8888888888888888, \"#fdca26\"], [1.0, \"#f0f921\"]], \"sequentialminus\": [[0.0, \"#0d0887\"], [0.1111111111111111, \"#46039f\"], [0.2222222222222222, \"#7201a8\"], [0.3333333333333333, \"#9c179e\"], [0.4444444444444444, \"#bd3786\"], [0.5555555555555556, \"#d8576b\"], [0.6666666666666666, \"#ed7953\"], [0.7777777777777778, \"#fb9f3a\"], [0.8888888888888888, \"#fdca26\"], [1.0, \"#f0f921\"]]}, \"colorway\": [\"#636efa\", \"#EF553B\", \"#00cc96\", \"#ab63fa\", \"#FFA15A\", \"#19d3f3\", \"#FF6692\", \"#B6E880\", \"#FF97FF\", \"#FECB52\"], \"font\": {\"color\": \"#2a3f5f\"}, \"geo\": {\"bgcolor\": \"white\", \"lakecolor\": \"white\", \"landcolor\": \"#E5ECF6\", \"showlakes\": true, \"showland\": true, \"subunitcolor\": \"white\"}, \"hoverlabel\": {\"align\": \"left\"}, \"hovermode\": \"closest\", \"mapbox\": {\"style\": \"light\"}, \"paper_bgcolor\": \"white\", \"plot_bgcolor\": \"#E5ECF6\", \"polar\": {\"angularaxis\": {\"gridcolor\": \"white\", \"linecolor\": \"white\", \"ticks\": \"\"}, \"bgcolor\": \"#E5ECF6\", \"radialaxis\": {\"gridcolor\": \"white\", \"linecolor\": \"white\", \"ticks\": \"\"}}, \"scene\": {\"xaxis\": {\"backgroundcolor\": \"#E5ECF6\", \"gridcolor\": \"white\", \"gridwidth\": 2, \"linecolor\": \"white\", \"showbackground\": true, \"ticks\": \"\", \"zerolinecolor\": \"white\"}, \"yaxis\": {\"backgroundcolor\": \"#E5ECF6\", \"gridcolor\": \"white\", \"gridwidth\": 2, \"linecolor\": \"white\", \"showbackground\": true, \"ticks\": \"\", \"zerolinecolor\": \"white\"}, \"zaxis\": {\"backgroundcolor\": \"#E5ECF6\", \"gridcolor\": \"white\", \"gridwidth\": 2, \"linecolor\": \"white\", \"showbackground\": true, \"ticks\": \"\", \"zerolinecolor\": \"white\"}}, \"shapedefaults\": {\"line\": {\"color\": \"#2a3f5f\"}}, \"ternary\": {\"aaxis\": {\"gridcolor\": \"white\", \"linecolor\": \"white\", \"ticks\": \"\"}, \"baxis\": {\"gridcolor\": \"white\", \"linecolor\": \"white\", \"ticks\": \"\"}, \"bgcolor\": \"#E5ECF6\", \"caxis\": {\"gridcolor\": \"white\", \"linecolor\": \"white\", \"ticks\": \"\"}}, \"title\": {\"x\": 0.05}, \"xaxis\": {\"automargin\": true, \"gridcolor\": \"white\", \"linecolor\": \"white\", \"ticks\": \"\", \"title\": {\"standoff\": 15}, \"zerolinecolor\": \"white\", \"zerolinewidth\": 2}, \"yaxis\": {\"automargin\": true, \"gridcolor\": \"white\", \"linecolor\": \"white\", \"ticks\": \"\", \"title\": {\"standoff\": 15}, \"zerolinecolor\": \"white\", \"zerolinewidth\": 2}}}, \"xaxis\": {\"anchor\": \"y\", \"domain\": [0.0, 1.0], \"title\": {\"text\": \"doc\"}}, \"yaxis\": {\"anchor\": \"x\", \"domain\": [0.0, 1.0], \"title\": {\"text\": \"Infectados\"}}},\n",
       "                        {\"responsive\": true}\n",
       "                    ).then(function(){\n",
       "                            \n",
       "var gd = document.getElementById('a622e0e1-f608-4a58-a02c-2f6706fce2d3');\n",
       "var x = new MutationObserver(function (mutations, observer) {{\n",
       "        var display = window.getComputedStyle(gd).display;\n",
       "        if (!display || display === 'none') {{\n",
       "            console.log([gd, 'removed!']);\n",
       "            Plotly.purge(gd);\n",
       "            observer.disconnect();\n",
       "        }}\n",
       "}});\n",
       "\n",
       "// Listen for the removal of the full notebook cells\n",
       "var notebookContainer = gd.closest('#notebook-container');\n",
       "if (notebookContainer) {{\n",
       "    x.observe(notebookContainer, {childList: true});\n",
       "}}\n",
       "\n",
       "// Listen for the clearing of the current output cell\n",
       "var outputEl = gd.closest('.output');\n",
       "if (outputEl) {{\n",
       "    x.observe(outputEl, {childList: true});\n",
       "}}\n",
       "\n",
       "                        })\n",
       "                };\n",
       "                });\n",
       "            </script>\n",
       "        </div>"
      ]
     },
     "metadata": {},
     "output_type": "display_data"
    }
   ],
   "source": [
    "#plotly express - creating the first plot: fig1 = fig_ccaa_infectados\n",
    "fig_exp = px.line(df_ccaa, x=\"doc\", y=\"Infectados\", color=\"CCAA\")\n",
    "fig_exp.show()"
   ]
  },
  {
   "cell_type": "code",
   "execution_count": 60,
   "metadata": {},
   "outputs": [],
   "source": [
    "# # plotly - creating the first plot: fig1 = fig_ccaa_infectados\n",
    "# ccaa_list = df_ccaa.CCAA.unique().tolist()\n",
    "\n",
    "# # Initialize figure with subplots\n",
    "# fig1 = make_subplots(\n",
    "#     rows=3, cols=2,\n",
    "#     shared_xaxes=True,\n",
    "#     shared_yaxes=False,\n",
    "#     column_widths=[1, 1],\n",
    "#     row_heights=[10, 2, 2],\n",
    "#     specs=[[{\"type\": \"scatter\"}, {\"type\": \"scatter\"}],\n",
    "#            [{\"type\": \"scatter\"}, {\"type\": \"scatter\"}],\n",
    "#            [{\"type\": \"scatter\"}, {\"type\": \"scatter\"}]])\n",
    "\n",
    "# # Infectados\n",
    "# #for i in ccaa_list:\n",
    "# df_ccaa = df_ccaa[df_ccaa.CCAA == 'Andalucia']\n",
    "# fig1.add_trace(go.Scatter(x=df_ccaa[df_ccaa.CCAA == 'Andalucia'][\"doc\"], y=df_ccaa[\"Infectados\"], mode='lines+markers', name='Andalucia'),\n",
    "#                 row=1, col=1)\n",
    "    \n",
    "# # Hospitalizados\n",
    "# fig1.add_trace(go.Scatter(x=df_ccaa[df_ccaa.CCAA == 'Andalucia'][\"doc\"], y=df_ccaa[\"Hospitalizados\"], mode='lines+markers', name='Madrid'),\n",
    "#                 row=1, col=2)\n",
    "\n",
    "# # UCI\n",
    "\n",
    "# # Fallecidos\n",
    "\n",
    "# # Curados\n",
    "\n",
    "# # Nuevos\n",
    "    \n",
    "# fig1.show()"
   ]
  },
  {
   "cell_type": "code",
   "execution_count": 61,
   "metadata": {
    "scrolled": true
   },
   "outputs": [],
   "source": [
    "# plot2method\n",
    "#fig1 = plt.figure(title=\"Infected\")\n",
    "#df_ccaa = df_ccaa[df_ccaa.CCAA == 'Andalucia']\n",
    "#line = plt.plot(data=df_ccaa, x=df_ccaa.doc, y=df_ccaa.Infectados)\n",
    "#plt.xlabel(\"document\")\n",
    "#plt.ylabel(\"Number of infected\")\n",
    "#plt.show(display_toolbar=True)"
   ]
  },
  {
   "cell_type": "code",
   "execution_count": 62,
   "metadata": {},
   "outputs": [
    {
     "data": {
      "application/vnd.jupyter.widget-view+json": {
       "model_id": "90cd878a732e4cfe8cd06c27965f18cc",
       "version_major": 2,
       "version_minor": 0
      },
      "text/plain": [
       "Layout(children=[Select(items=['Andalucia', 'Aragon', 'Asturias', 'Baleares', 'Canarias', 'Cantabria', 'Castil…"
      ]
     },
     "metadata": {},
     "output_type": "display_data"
    }
   ],
   "source": [
    "# select1 = select_ccaa\n",
    "ccaa_list = df_ccaa.CCAA.unique().tolist()\n",
    "select1 = v.Select(label=\"Choose Region\", items=ccaa_list)\n",
    "v.Layout(children=[select1])"
   ]
  },
  {
   "cell_type": "code",
   "execution_count": 63,
   "metadata": {
    "scrolled": true
   },
   "outputs": [
    {
     "ename": "TraitError",
     "evalue": "Element of the 'children' trait of a Flex instance must be a DOMWidget or a unicode string, but a value of Figure({\n    'data': [{'hoverlabel': {'namelength': 0},\n              'hovertemplate': 'CCAA=Andalucia<br>doc=%{x}<br>Infectados=%{y}',\n              'legendgroup': 'Andalucia',\n              'line': {'color': '#636efa', 'dash': 'solid'},\n              'mode': 'lines',\n              'name': 'Andalucia',\n              'showlegend': True,\n              'type': 'scatter',\n              'x': array([36, 37, 38, 39, 40, 41, 42, 43, 44, 45, 46, 47, 48, 49, 50, 51, 52, 53,\n                          54, 55, 56, 57, 58, 59, 60, 61, 62, 63], dtype=int64),\n              'xaxis': 'x',\n              'y': array([  13,   12,   21,   54,   71,   90,  115,  219,  269,  437,  554,  683,\n                           859, 1008, 1287, 1515, 1725, 1960, 2471, 3010, 3406, 3793, 4277, 4682,\n                          5405, 5818, 6392, 6972], dtype=int64),\n              'yaxis': 'y'},\n             {'hoverlabel': {'namelength': 0},\n              'hovertemplate': 'CCAA=Aragon<br>doc=%{x}<br>Infectados=%{y}',\n              'legendgroup': 'Aragon',\n              'line': {'color': '#EF553B', 'dash': 'solid'},\n              'mode': 'lines',\n              'name': 'Aragon',\n              'showlegend': True,\n              'type': 'scatter',\n              'x': array([36, 37, 38, 39, 40, 41, 42, 43, 44, 45, 46, 47, 48, 49, 50, 51, 52, 53,\n                          54, 55, 56, 57, 58, 59, 60, 61, 62, 63], dtype=int64),\n              'xaxis': 'x',\n              'y': array([   0,    1,    6,   13,   38,   45,   64,   80,   80,  147,  174,  207,\n                           226,  281,  360,  424,  532,  638,  758,  907, 1116, 1338, 1592, 1858,\n                          2078, 2272, 2491, 2700], dtype=int64),\n              'yaxis': 'y'},\n             {'hoverlabel': {'namelength': 0},\n              'hovertemplate': 'CCAA=Asturias<br>doc=%{x}<br>Infectados=%{y}',\n              'legendgroup': 'Asturias',\n              'line': {'color': '#00cc96', 'dash': 'solid'},\n              'mode': 'lines',\n              'name': 'Asturias',\n              'showlegend': True,\n              'type': 'scatter',\n              'x': array([36, 37, 38, 39, 40, 41, 42, 43, 44, 45, 46, 47, 48, 49, 50, 51, 52, 53,\n                          54, 55, 56, 57, 58, 59, 60, 61, 62, 63], dtype=int64),\n              'xaxis': 'x',\n              'y': array([   2,    5,    5,    7,   22,   32,   47,   67,   92,  137,  177,  193,\n                           242,  292,  344,  486,  545,  594,  662,  779,  841,  900, 1004, 1088,\n                          1158, 1236, 1322, 1384], dtype=int64),\n              'yaxis': 'y'},\n             {'hoverlabel': {'namelength': 0},\n              'hovertemplate': 'CCAA=Baleares<br>doc=%{x}<br>Infectados=%{y}',\n              'legendgroup': 'Baleares',\n              'line': {'color': '#ab63fa', 'dash': 'solid'},\n              'mode': 'lines',\n              'name': 'Baleares',\n              'showlegend': True,\n              'type': 'scatter',\n              'x': array([36, 37, 38, 39, 40, 41, 42, 43, 44, 45, 46, 47, 48, 49, 50, 51, 52, 53,\n                          54, 55, 56, 57, 58, 59, 60, 61, 62, 63], dtype=int64),\n              'xaxis': 'x',\n              'y': array([   5,    6,    6,   11,   13,   16,   22,   30,   28,   28,   73,   92,\n                           112,  169,  203,  246,  331,  400,  478,  562,  660,  755,  862,  958,\n                          1000, 1069, 1131, 1204], dtype=int64),\n              'yaxis': 'y'},\n             {'hoverlabel': {'namelength': 0},\n              'hovertemplate': 'CCAA=Canarias<br>doc=%{x}<br>Infectados=%{y}',\n              'legendgroup': 'Canarias',\n              'line': {'color': '#FFA15A', 'dash': 'solid'},\n              'mode': 'lines',\n              'name': 'Canarias',\n              'showlegend': True,\n              'type': 'scatter',\n              'x': array([36, 37, 38, 39, 40, 41, 42, 43, 44, 45, 46, 47, 48, 49, 50, 51, 52, 53,\n                          54, 55, 56, 57, 58, 59, 60, 61, 62, 63], dtype=int64),\n              'xaxis': 'x',\n              'y': array([   7,    8,   11,   22,   25,   37,   51,   70,   90,  109,  119,  148,\n                           181,  220,  287,  348,  414,  481,  557,  657,  784,  878, 1025, 1125,\n                          1204, 1262, 1380, 1444], dtype=int64),\n              'yaxis': 'y'},\n             {'hoverlabel': {'namelength': 0},\n              'hovertemplate': 'CCAA=Cantabria<br>doc=%{x}<br>Infectados=%{y}',\n              'legendgroup': 'Cantabria',\n              'line': {'color': '#19d3f3', 'dash': 'solid'},\n              'mode': 'lines',\n              'name': 'Cantabria',\n              'showlegend': True,\n              'type': 'scatter',\n              'x': array([36, 37, 38, 39, 40, 41, 42, 43, 44, 45, 46, 47, 48, 49, 50, 51, 52, 53,\n                          54, 55, 56, 57, 58, 59, 60, 61, 62, 63], dtype=int64),\n              'xaxis': 'x',\n              'y': array([  10,   10,   10,   12,   12,   12,   16,   29,   31,   51,   58,   58,\n                            68,   83,  144,  215,  282,  347,  425,  510,  671,  810,  937, 1023,\n                          1100, 1171, 1213, 1268], dtype=int64),\n              'yaxis': 'y'},\n             {'hoverlabel': {'namelength': 0},\n              'hovertemplate': 'CCAA=Castilla La Mancha<br>doc=%{x}<br>Infectados=%{y}',\n              'legendgroup': 'Castilla La Mancha',\n              'line': {'color': '#FF6692', 'dash': 'solid'},\n              'mode': 'lines',\n              'name': 'Castilla La Mancha',\n              'showlegend': True,\n              'type': 'scatter',\n              'x': array([36, 37, 38, 39, 40, 41, 42, 43, 44, 45, 46, 47, 48, 49, 50, 51, 52, 53,\n                          54, 55, 56, 57, 58, 59, 60, 61, 62, 63], dtype=int64),\n              'xaxis': 'x',\n              'y': array([  12,   13,   15,   26,   39,   71,  115,  194,  289,  401,  567,  567,\n                           675,  801, 1044, 1423, 1819, 2078, 2465, 2780, 3383, 3934, 4512, 5246,\n                          5858, 6424, 7047, 7682], dtype=int64),\n              'yaxis': 'y'},\n             {'hoverlabel': {'namelength': 0},\n              'hovertemplate': 'CCAA=Castilla y Leon<br>doc=%{x}<br>Infectados=%{y}',\n              'legendgroup': 'Castilla y Leon',\n              'line': {'color': '#B6E880', 'dash': 'solid'},\n              'mode': 'lines',\n              'name': 'Castilla y Leon',\n              'showlegend': True,\n              'type': 'scatter',\n              'x': array([36, 37, 38, 39, 40, 41, 42, 43, 44, 45, 46, 47, 48, 49, 50, 51, 52, 53,\n                          54, 55, 56, 57, 58, 59, 60, 61, 62, 63], dtype=int64),\n              'xaxis': 'x',\n              'y': array([  11,   11,   14,   23,   56,   71,   92,  169,  223,  292,  334,  431,\n                           668,  868, 1147, 1466, 1744, 2055,  246, 2940, 3488, 4132, 4791, 5414,\n                          5801, 6211, 6847, 7355], dtype=int64),\n              'yaxis': 'y'},\n             {'hoverlabel': {'namelength': 0},\n              'hovertemplate': 'CCAA=Catalunya<br>doc=%{x}<br>Infectados=%{y}',\n              'legendgroup': 'Catalunya',\n              'line': {'color': '#FF97FF', 'dash': 'solid'},\n              'mode': 'lines',\n              'name': 'Catalunya',\n              'showlegend': True,\n              'type': 'scatter',\n              'x': array([36, 37, 38, 39, 40, 41, 42, 43, 44, 45, 46, 47, 48, 49, 50, 51, 52, 53,\n                          54, 55, 56, 57, 58, 59, 60, 61, 62, 63], dtype=int64),\n              'xaxis': 'x',\n              'y': array([   15,    24,    24,    75,   124,   156,   260,   316,   509,   715,\n                            903,  1394,  1865,  2702,   327,  4203,  4704,  5925,  7864,  9937,\n                          11592, 12940, 14263, 15026, 16157, 18773, 19991, 21804], dtype=int64),\n              'yaxis': 'y'},\n             {'hoverlabel': {'namelength': 0},\n              'hovertemplate': 'CCAA=Ceuta<br>doc=%{x}<br>Infectados=%{y}',\n              'legendgroup': 'Ceuta',\n              'line': {'color': '#FECB52', 'dash': 'solid'},\n              'mode': 'lines',\n              'name': 'Ceuta',\n              'showlegend': True,\n              'type': 'scatter',\n              'x': array([36, 37, 38, 39, 40, 41, 42, 43, 44, 45, 46, 47, 48, 49, 50, 51, 52, 53,\n                          54, 55, 56, 57, 58, 59, 60, 61, 62, 63], dtype=int64),\n              'xaxis': 'x',\n              'y': array([ 0,  0,  0,  0,  0,  0,  0,  0,  0,  1,  1,  1,  1,  1,  5,  5,  5,  6,\n                           6,  9, 10, 17, 17, 21, 25, 34, 51, 55], dtype=int64),\n              'yaxis': 'y'},\n             {'hoverlabel': {'namelength': 0},\n              'hovertemplate': 'CCAA=C. Valenciana<br>doc=%{x}<br>Infectados=%{y}',\n              'legendgroup': 'C. Valenciana',\n              'line': {'color': '#636efa', 'dash': 'solid'},\n              'mode': 'lines',\n              'name': 'C. Valenciana',\n              'showlegend': True,\n              'type': 'scatter',\n              'x': array([36, 37, 38, 39, 40, 41, 42, 43, 44, 45, 46, 47, 48, 49, 50, 51, 52, 53,\n                          54, 55, 56, 57, 58, 59, 60, 61, 62, 63], dtype=int64),\n              'xaxis': 'x',\n              'y': array([  19,   19,   30,   37,   50,   65,   76,   94,  130,  409,  409,  541,\n                           726,  921, 1105, 1363, 1604, 1901, 2167, 2616, 3200, 3532, 4034, 4784,\n                          5110, 5508, 5922, 6308], dtype=int64),\n              'yaxis': 'y'},\n             {'hoverlabel': {'namelength': 0},\n              'hovertemplate': 'CCAA=Extremadura<br>doc=%{x}<br>Infectados=%{y}',\n              'legendgroup': 'Extremadura',\n              'line': {'color': '#EF553B', 'dash': 'solid'},\n              'mode': 'lines',\n              'name': 'Extremadura',\n              'showlegend': True,\n              'type': 'scatter',\n              'x': array([36, 37, 38, 39, 40, 41, 42, 43, 44, 45, 46, 47, 48, 49, 50, 51, 52, 53,\n                          54, 55, 56, 57, 58, 59, 60, 61, 62, 63], dtype=int64),\n              'xaxis': 'x',\n              'y': array([   6,    6,    6,    7,    8,    9,   19,   39,   66,   95,  111,  153,\n                           194,  241,  297,  354,  384,  493,  636,  742,  969, 1231, 1394, 1456,\n                          1560, 1628, 1679, 1837], dtype=int64),\n              'yaxis': 'y'},\n             {'hoverlabel': {'namelength': 0},\n              'hovertemplate': 'CCAA=Galicia<br>doc=%{x}<br>Infectados=%{y}',\n              'legendgroup': 'Galicia',\n              'line': {'color': '#00cc96', 'dash': 'solid'},\n              'mode': 'lines',\n              'name': 'Galicia',\n              'showlegend': True,\n              'type': 'scatter',\n              'x': array([36, 37, 38, 39, 40, 41, 42, 43, 44, 45, 46, 47, 48, 49, 50, 51, 52, 53,\n                          54, 55, 56, 57, 58, 59, 60, 61, 62, 63], dtype=int64),\n              'xaxis': 'x',\n              'y': array([   1,    1,    3,    6,   22,   39,   35,   85,  115,  195,  245,  292,\n                           341,  453,  578,  739,  915, 1208, 1415, 1653, 1915, 2322, 2772, 3139,\n                          3723, 4039, 4432, 4842], dtype=int64),\n              'yaxis': 'y'},\n             {'hoverlabel': {'namelength': 0},\n              'hovertemplate': 'CCAA=Madrid<br>doc=%{x}<br>Infectados=%{y}',\n              'legendgroup': 'Madrid',\n              'line': {'color': '#ab63fa', 'dash': 'solid'},\n              'mode': 'lines',\n              'name': 'Madrid',\n              'showlegend': True,\n              'type': 'scatter',\n              'x': array([36, 37, 38, 39, 40, 41, 42, 43, 44, 45, 46, 47, 48, 49, 50, 51, 52, 53,\n                          54, 55, 56, 57, 58, 59, 60, 61, 62, 63], dtype=int64),\n              'xaxis': 'x',\n              'y': array([   70,    90,   137,   469,   782,  1024,  1388,  1990,  2940,  3544,\n                           4165,  4871,  5637,  6777,  7165,  8921,  9702, 10575, 12352, 14597,\n                          17166, 19243, 21520, 22677, 24090, 27509, 29840, 32155], dtype=int64),\n              'yaxis': 'y'},\n             {'hoverlabel': {'namelength': 0},\n              'hovertemplate': 'CCAA=Melilla<br>doc=%{x}<br>Infectados=%{y}',\n              'legendgroup': 'Melilla',\n              'line': {'color': '#FFA15A', 'dash': 'solid'},\n              'mode': 'lines',\n              'name': 'Melilla',\n              'showlegend': True,\n              'type': 'scatter',\n              'x': array([36, 37, 38, 39, 40, 41, 42, 43, 44, 45, 46, 47, 48, 49, 50, 51, 52, 53,\n                          54, 55, 56, 57, 58, 59, 60, 61, 62, 63], dtype=int64),\n              'xaxis': 'x',\n              'y': array([ 0,  0,  0,  0,  0,  0,  0,  2,  3,  8,  8, 17, 20, 23, 24, 25, 25, 28,\n                          28, 38, 39, 42, 45, 48, 51, 54, 62, 62], dtype=int64),\n              'yaxis': 'y'},\n             {'hoverlabel': {'namelength': 0},\n              'hovertemplate': 'CCAA=Murcia<br>doc=%{x}<br>Infectados=%{y}',\n              'legendgroup': 'Murcia',\n              'line': {'color': '#19d3f3', 'dash': 'solid'},\n              'mode': 'lines',\n              'name': 'Murcia',\n              'showlegend': True,\n              'type': 'scatter',\n              'x': array([36, 37, 38, 39, 40, 41, 42, 43, 44, 45, 46, 47, 48, 49, 50, 51, 52, 53,\n                          54, 55, 56, 57, 58, 59, 60, 61, 62, 63], dtype=int64),\n              'xaxis': 'x',\n              'y': array([   0,    0,    0,    4,    9,   11,   26,   35,   47,   71,   77,   97,\n                           122,  167,  204,  240,  296,  345,  385,  477,  596,  714,  802,  872,\n                           939,  974, 1041, 1084], dtype=int64),\n              'yaxis': 'y'},\n             {'hoverlabel': {'namelength': 0},\n              'hovertemplate': 'CCAA=Navarra<br>doc=%{x}<br>Infectados=%{y}',\n              'legendgroup': 'Navarra',\n              'line': {'color': '#FF6692', 'dash': 'solid'},\n              'mode': 'lines',\n              'name': 'Navarra',\n              'showlegend': True,\n              'type': 'scatter',\n              'x': array([36, 37, 38, 39, 40, 41, 42, 43, 44, 45, 46, 47, 48, 49, 50, 51, 52, 53,\n                          54, 55, 56, 57, 58, 59, 60, 61, 62, 63], dtype=int64),\n              'xaxis': 'x',\n              'y': array([   3,    3,    3,    3,   12,   46,   73,  130,  146,  183,  274,  313,\n                           386,  482,  554,  664,  794,  886, 1014, 1197, 1411, 1641, 1829, 2011,\n                          2146, 2305, 2497, 2682], dtype=int64),\n              'yaxis': 'y'},\n             {'hoverlabel': {'namelength': 0},\n              'hovertemplate': 'CCAA=Pais Vasco<br>doc=%{x}<br>Infectados=%{y}',\n              'legendgroup': 'Pais Vasco',\n              'line': {'color': '#B6E880', 'dash': 'solid'},\n              'mode': 'lines',\n              'name': 'Pais Vasco',\n              'showlegend': True,\n              'type': 'scatter',\n              'x': array([36, 37, 38, 39, 40, 41, 42, 43, 44, 45, 46, 47, 48, 49, 50, 51, 52, 53,\n                          54, 55, 56, 57, 58, 59, 60, 61, 62, 63], dtype=int64),\n              'xaxis': 'x',\n              'y': array([  17,   17,   45,  149,  195,  225,  346,  417,  417,  630,  630,  765,\n                           973,  119, 1465, 1725, 2097, 2421, 2728, 3271, 3946, 4601, 5136, 5740,\n                          6057, 6320, 6838, 7317], dtype=int64),\n              'yaxis': 'y'},\n             {'hoverlabel': {'namelength': 0},\n              'hovertemplate': 'CCAA=La Rioja<br>doc=%{x}<br>Infectados=%{y}',\n              'legendgroup': 'La Rioja',\n              'line': {'color': '#FF97FF', 'dash': 'solid'},\n              'mode': 'lines',\n              'name': 'La Rioja',\n              'showlegend': True,\n              'type': 'scatter',\n              'x': array([36, 37, 38, 39, 40, 41, 42, 43, 44, 45, 46, 47, 48, 49, 50, 51, 52, 53,\n                          54, 55, 56, 57, 58, 59, 60, 61, 62, 63], dtype=int64),\n              'xaxis': 'x',\n              'y': array([   7,   11,   29,   81,  144,  179,  205,  243,  278,  300,  312,  355,\n                           419,  468,  497,  564,  654,  747,  802,  928,  995, 1236, 1436, 1629,\n                          1733, 1810, 1960, 2083], dtype=int64),\n              'yaxis': 'y'}],\n    'layout': {'legend': {'title': {'text': 'CCAA'}, 'tracegroupgap': 0},\n               'margin': {'t': 60},\n               'template': '...',\n               'xaxis': {'anchor': 'y', 'domain': [0.0, 1.0], 'title': {'text': 'doc'}},\n               'yaxis': {'anchor': 'x', 'domain': [0.0, 1.0], 'title': {'text': 'Infectados'}}}\n}) <class 'plotly.graph_objs._figure.Figure'> was specified.",
     "output_type": "error",
     "traceback": [
      "\u001b[1;31m---------------------------------------------------------------------------\u001b[0m",
      "\u001b[1;31mTraitError\u001b[0m                                Traceback (most recent call last)",
      "\u001b[1;32mc:\\users\\caesp\\appdata\\local\\programs\\python\\python37-32\\lib\\site-packages\\traitlets\\traitlets.py\u001b[0m in \u001b[0;36mvalidate_elements\u001b[1;34m(self, obj, value)\u001b[0m\n\u001b[0;32m   2251\u001b[0m             \u001b[1;32mtry\u001b[0m\u001b[1;33m:\u001b[0m\u001b[1;33m\u001b[0m\u001b[1;33m\u001b[0m\u001b[0m\n\u001b[1;32m-> 2252\u001b[1;33m                 \u001b[0mv\u001b[0m \u001b[1;33m=\u001b[0m \u001b[0mself\u001b[0m\u001b[1;33m.\u001b[0m\u001b[0m_trait\u001b[0m\u001b[1;33m.\u001b[0m\u001b[0m_validate\u001b[0m\u001b[1;33m(\u001b[0m\u001b[0mobj\u001b[0m\u001b[1;33m,\u001b[0m \u001b[0mv\u001b[0m\u001b[1;33m)\u001b[0m\u001b[1;33m\u001b[0m\u001b[1;33m\u001b[0m\u001b[0m\n\u001b[0m\u001b[0;32m   2253\u001b[0m             \u001b[1;32mexcept\u001b[0m \u001b[0mTraitError\u001b[0m\u001b[1;33m:\u001b[0m\u001b[1;33m\u001b[0m\u001b[1;33m\u001b[0m\u001b[0m\n",
      "\u001b[1;32mc:\\users\\caesp\\appdata\\local\\programs\\python\\python37-32\\lib\\site-packages\\traitlets\\traitlets.py\u001b[0m in \u001b[0;36m_validate\u001b[1;34m(self, obj, value)\u001b[0m\n\u001b[0;32m    590\u001b[0m         \u001b[1;32mif\u001b[0m \u001b[0mhasattr\u001b[0m\u001b[1;33m(\u001b[0m\u001b[0mself\u001b[0m\u001b[1;33m,\u001b[0m \u001b[1;34m'validate'\u001b[0m\u001b[1;33m)\u001b[0m\u001b[1;33m:\u001b[0m\u001b[1;33m\u001b[0m\u001b[1;33m\u001b[0m\u001b[0m\n\u001b[1;32m--> 591\u001b[1;33m             \u001b[0mvalue\u001b[0m \u001b[1;33m=\u001b[0m \u001b[0mself\u001b[0m\u001b[1;33m.\u001b[0m\u001b[0mvalidate\u001b[0m\u001b[1;33m(\u001b[0m\u001b[0mobj\u001b[0m\u001b[1;33m,\u001b[0m \u001b[0mvalue\u001b[0m\u001b[1;33m)\u001b[0m\u001b[1;33m\u001b[0m\u001b[1;33m\u001b[0m\u001b[0m\n\u001b[0m\u001b[0;32m    592\u001b[0m         \u001b[1;32mif\u001b[0m \u001b[0mobj\u001b[0m\u001b[1;33m.\u001b[0m\u001b[0m_cross_validation_lock\u001b[0m \u001b[1;32mis\u001b[0m \u001b[1;32mFalse\u001b[0m\u001b[1;33m:\u001b[0m\u001b[1;33m\u001b[0m\u001b[1;33m\u001b[0m\u001b[0m\n",
      "\u001b[1;32mc:\\users\\caesp\\appdata\\local\\programs\\python\\python37-32\\lib\\site-packages\\traitlets\\traitlets.py\u001b[0m in \u001b[0;36mvalidate\u001b[1;34m(self, obj, value)\u001b[0m\n\u001b[0;32m   1802\u001b[0m                     \u001b[1;32mcontinue\u001b[0m\u001b[1;33m\u001b[0m\u001b[1;33m\u001b[0m\u001b[0m\n\u001b[1;32m-> 1803\u001b[1;33m         \u001b[0mself\u001b[0m\u001b[1;33m.\u001b[0m\u001b[0merror\u001b[0m\u001b[1;33m(\u001b[0m\u001b[0mobj\u001b[0m\u001b[1;33m,\u001b[0m \u001b[0mvalue\u001b[0m\u001b[1;33m)\u001b[0m\u001b[1;33m\u001b[0m\u001b[1;33m\u001b[0m\u001b[0m\n\u001b[0m\u001b[0;32m   1804\u001b[0m \u001b[1;33m\u001b[0m\u001b[0m\n",
      "\u001b[1;32mc:\\users\\caesp\\appdata\\local\\programs\\python\\python37-32\\lib\\site-packages\\traitlets\\traitlets.py\u001b[0m in \u001b[0;36merror\u001b[1;34m(self, obj, value)\u001b[0m\n\u001b[0;32m    624\u001b[0m                 \u001b[1;33m%\u001b[0m \u001b[1;33m(\u001b[0m\u001b[0mself\u001b[0m\u001b[1;33m.\u001b[0m\u001b[0mname\u001b[0m\u001b[1;33m,\u001b[0m \u001b[0mself\u001b[0m\u001b[1;33m.\u001b[0m\u001b[0minfo\u001b[0m\u001b[1;33m(\u001b[0m\u001b[1;33m)\u001b[0m\u001b[1;33m,\u001b[0m \u001b[0mrepr_type\u001b[0m\u001b[1;33m(\u001b[0m\u001b[0mvalue\u001b[0m\u001b[1;33m)\u001b[0m\u001b[1;33m)\u001b[0m\u001b[1;33m\u001b[0m\u001b[1;33m\u001b[0m\u001b[0m\n\u001b[1;32m--> 625\u001b[1;33m         \u001b[1;32mraise\u001b[0m \u001b[0mTraitError\u001b[0m\u001b[1;33m(\u001b[0m\u001b[0me\u001b[0m\u001b[1;33m)\u001b[0m\u001b[1;33m\u001b[0m\u001b[1;33m\u001b[0m\u001b[0m\n\u001b[0m\u001b[0;32m    626\u001b[0m \u001b[1;33m\u001b[0m\u001b[0m\n",
      "\u001b[1;31mTraitError\u001b[0m: The 'None' trait of a Flex instance must be a DOMWidget or a unicode string, but a value of Figure({\n    'data': [{'hoverlabel': {'namelength': 0},\n              'hovertemplate': 'CCAA=Andalucia<br>doc=%{x}<br>Infectados=%{y}',\n              'legendgroup': 'Andalucia',\n              'line': {'color': '#636efa', 'dash': 'solid'},\n              'mode': 'lines',\n              'name': 'Andalucia',\n              'showlegend': True,\n              'type': 'scatter',\n              'x': array([36, 37, 38, 39, 40, 41, 42, 43, 44, 45, 46, 47, 48, 49, 50, 51, 52, 53,\n                          54, 55, 56, 57, 58, 59, 60, 61, 62, 63], dtype=int64),\n              'xaxis': 'x',\n              'y': array([  13,   12,   21,   54,   71,   90,  115,  219,  269,  437,  554,  683,\n                           859, 1008, 1287, 1515, 1725, 1960, 2471, 3010, 3406, 3793, 4277, 4682,\n                          5405, 5818, 6392, 6972], dtype=int64),\n              'yaxis': 'y'},\n             {'hoverlabel': {'namelength': 0},\n              'hovertemplate': 'CCAA=Aragon<br>doc=%{x}<br>Infectados=%{y}',\n              'legendgroup': 'Aragon',\n              'line': {'color': '#EF553B', 'dash': 'solid'},\n              'mode': 'lines',\n              'name': 'Aragon',\n              'showlegend': True,\n              'type': 'scatter',\n              'x': array([36, 37, 38, 39, 40, 41, 42, 43, 44, 45, 46, 47, 48, 49, 50, 51, 52, 53,\n                          54, 55, 56, 57, 58, 59, 60, 61, 62, 63], dtype=int64),\n              'xaxis': 'x',\n              'y': array([   0,    1,    6,   13,   38,   45,   64,   80,   80,  147,  174,  207,\n                           226,  281,  360,  424,  532,  638,  758,  907, 1116, 1338, 1592, 1858,\n                          2078, 2272, 2491, 2700], dtype=int64),\n              'yaxis': 'y'},\n             {'hoverlabel': {'namelength': 0},\n              'hovertemplate': 'CCAA=Asturias<br>doc=%{x}<br>Infectados=%{y}',\n              'legendgroup': 'Asturias',\n              'line': {'color': '#00cc96', 'dash': 'solid'},\n              'mode': 'lines',\n              'name': 'Asturias',\n              'showlegend': True,\n              'type': 'scatter',\n              'x': array([36, 37, 38, 39, 40, 41, 42, 43, 44, 45, 46, 47, 48, 49, 50, 51, 52, 53,\n                          54, 55, 56, 57, 58, 59, 60, 61, 62, 63], dtype=int64),\n              'xaxis': 'x',\n              'y': array([   2,    5,    5,    7,   22,   32,   47,   67,   92,  137,  177,  193,\n                           242,  292,  344,  486,  545,  594,  662,  779,  841,  900, 1004, 1088,\n                          1158, 1236, 1322, 1384], dtype=int64),\n              'yaxis': 'y'},\n             {'hoverlabel': {'namelength': 0},\n              'hovertemplate': 'CCAA=Baleares<br>doc=%{x}<br>Infectados=%{y}',\n              'legendgroup': 'Baleares',\n              'line': {'color': '#ab63fa', 'dash': 'solid'},\n              'mode': 'lines',\n              'name': 'Baleares',\n              'showlegend': True,\n              'type': 'scatter',\n              'x': array([36, 37, 38, 39, 40, 41, 42, 43, 44, 45, 46, 47, 48, 49, 50, 51, 52, 53,\n                          54, 55, 56, 57, 58, 59, 60, 61, 62, 63], dtype=int64),\n              'xaxis': 'x',\n              'y': array([   5,    6,    6,   11,   13,   16,   22,   30,   28,   28,   73,   92,\n                           112,  169,  203,  246,  331,  400,  478,  562,  660,  755,  862,  958,\n                          1000, 1069, 1131, 1204], dtype=int64),\n              'yaxis': 'y'},\n             {'hoverlabel': {'namelength': 0},\n              'hovertemplate': 'CCAA=Canarias<br>doc=%{x}<br>Infectados=%{y}',\n              'legendgroup': 'Canarias',\n              'line': {'color': '#FFA15A', 'dash': 'solid'},\n              'mode': 'lines',\n              'name': 'Canarias',\n              'showlegend': True,\n              'type': 'scatter',\n              'x': array([36, 37, 38, 39, 40, 41, 42, 43, 44, 45, 46, 47, 48, 49, 50, 51, 52, 53,\n                          54, 55, 56, 57, 58, 59, 60, 61, 62, 63], dtype=int64),\n              'xaxis': 'x',\n              'y': array([   7,    8,   11,   22,   25,   37,   51,   70,   90,  109,  119,  148,\n                           181,  220,  287,  348,  414,  481,  557,  657,  784,  878, 1025, 1125,\n                          1204, 1262, 1380, 1444], dtype=int64),\n              'yaxis': 'y'},\n             {'hoverlabel': {'namelength': 0},\n              'hovertemplate': 'CCAA=Cantabria<br>doc=%{x}<br>Infectados=%{y}',\n              'legendgroup': 'Cantabria',\n              'line': {'color': '#19d3f3', 'dash': 'solid'},\n              'mode': 'lines',\n              'name': 'Cantabria',\n              'showlegend': True,\n              'type': 'scatter',\n              'x': array([36, 37, 38, 39, 40, 41, 42, 43, 44, 45, 46, 47, 48, 49, 50, 51, 52, 53,\n                          54, 55, 56, 57, 58, 59, 60, 61, 62, 63], dtype=int64),\n              'xaxis': 'x',\n              'y': array([  10,   10,   10,   12,   12,   12,   16,   29,   31,   51,   58,   58,\n                            68,   83,  144,  215,  282,  347,  425,  510,  671,  810,  937, 1023,\n                          1100, 1171, 1213, 1268], dtype=int64),\n              'yaxis': 'y'},\n             {'hoverlabel': {'namelength': 0},\n              'hovertemplate': 'CCAA=Castilla La Mancha<br>doc=%{x}<br>Infectados=%{y}',\n              'legendgroup': 'Castilla La Mancha',\n              'line': {'color': '#FF6692', 'dash': 'solid'},\n              'mode': 'lines',\n              'name': 'Castilla La Mancha',\n              'showlegend': True,\n              'type': 'scatter',\n              'x': array([36, 37, 38, 39, 40, 41, 42, 43, 44, 45, 46, 47, 48, 49, 50, 51, 52, 53,\n                          54, 55, 56, 57, 58, 59, 60, 61, 62, 63], dtype=int64),\n              'xaxis': 'x',\n              'y': array([  12,   13,   15,   26,   39,   71,  115,  194,  289,  401,  567,  567,\n                           675,  801, 1044, 1423, 1819, 2078, 2465, 2780, 3383, 3934, 4512, 5246,\n                          5858, 6424, 7047, 7682], dtype=int64),\n              'yaxis': 'y'},\n             {'hoverlabel': {'namelength': 0},\n              'hovertemplate': 'CCAA=Castilla y Leon<br>doc=%{x}<br>Infectados=%{y}',\n              'legendgroup': 'Castilla y Leon',\n              'line': {'color': '#B6E880', 'dash': 'solid'},\n              'mode': 'lines',\n              'name': 'Castilla y Leon',\n              'showlegend': True,\n              'type': 'scatter',\n              'x': array([36, 37, 38, 39, 40, 41, 42, 43, 44, 45, 46, 47, 48, 49, 50, 51, 52, 53,\n                          54, 55, 56, 57, 58, 59, 60, 61, 62, 63], dtype=int64),\n              'xaxis': 'x',\n              'y': array([  11,   11,   14,   23,   56,   71,   92,  169,  223,  292,  334,  431,\n                           668,  868, 1147, 1466, 1744, 2055,  246, 2940, 3488, 4132, 4791, 5414,\n                          5801, 6211, 6847, 7355], dtype=int64),\n              'yaxis': 'y'},\n             {'hoverlabel': {'namelength': 0},\n              'hovertemplate': 'CCAA=Catalunya<br>doc=%{x}<br>Infectados=%{y}',\n              'legendgroup': 'Catalunya',\n              'line': {'color': '#FF97FF', 'dash': 'solid'},\n              'mode': 'lines',\n              'name': 'Catalunya',\n              'showlegend': True,\n              'type': 'scatter',\n              'x': array([36, 37, 38, 39, 40, 41, 42, 43, 44, 45, 46, 47, 48, 49, 50, 51, 52, 53,\n                          54, 55, 56, 57, 58, 59, 60, 61, 62, 63], dtype=int64),\n              'xaxis': 'x',\n              'y': array([   15,    24,    24,    75,   124,   156,   260,   316,   509,   715,\n                            903,  1394,  1865,  2702,   327,  4203,  4704,  5925,  7864,  9937,\n                          11592, 12940, 14263, 15026, 16157, 18773, 19991, 21804], dtype=int64),\n              'yaxis': 'y'},\n             {'hoverlabel': {'namelength': 0},\n              'hovertemplate': 'CCAA=Ceuta<br>doc=%{x}<br>Infectados=%{y}',\n              'legendgroup': 'Ceuta',\n              'line': {'color': '#FECB52', 'dash': 'solid'},\n              'mode': 'lines',\n              'name': 'Ceuta',\n              'showlegend': True,\n              'type': 'scatter',\n              'x': array([36, 37, 38, 39, 40, 41, 42, 43, 44, 45, 46, 47, 48, 49, 50, 51, 52, 53,\n                          54, 55, 56, 57, 58, 59, 60, 61, 62, 63], dtype=int64),\n              'xaxis': 'x',\n              'y': array([ 0,  0,  0,  0,  0,  0,  0,  0,  0,  1,  1,  1,  1,  1,  5,  5,  5,  6,\n                           6,  9, 10, 17, 17, 21, 25, 34, 51, 55], dtype=int64),\n              'yaxis': 'y'},\n             {'hoverlabel': {'namelength': 0},\n              'hovertemplate': 'CCAA=C. Valenciana<br>doc=%{x}<br>Infectados=%{y}',\n              'legendgroup': 'C. Valenciana',\n              'line': {'color': '#636efa', 'dash': 'solid'},\n              'mode': 'lines',\n              'name': 'C. Valenciana',\n              'showlegend': True,\n              'type': 'scatter',\n              'x': array([36, 37, 38, 39, 40, 41, 42, 43, 44, 45, 46, 47, 48, 49, 50, 51, 52, 53,\n                          54, 55, 56, 57, 58, 59, 60, 61, 62, 63], dtype=int64),\n              'xaxis': 'x',\n              'y': array([  19,   19,   30,   37,   50,   65,   76,   94,  130,  409,  409,  541,\n                           726,  921, 1105, 1363, 1604, 1901, 2167, 2616, 3200, 3532, 4034, 4784,\n                          5110, 5508, 5922, 6308], dtype=int64),\n              'yaxis': 'y'},\n             {'hoverlabel': {'namelength': 0},\n              'hovertemplate': 'CCAA=Extremadura<br>doc=%{x}<br>Infectados=%{y}',\n              'legendgroup': 'Extremadura',\n              'line': {'color': '#EF553B', 'dash': 'solid'},\n              'mode': 'lines',\n              'name': 'Extremadura',\n              'showlegend': True,\n              'type': 'scatter',\n              'x': array([36, 37, 38, 39, 40, 41, 42, 43, 44, 45, 46, 47, 48, 49, 50, 51, 52, 53,\n                          54, 55, 56, 57, 58, 59, 60, 61, 62, 63], dtype=int64),\n              'xaxis': 'x',\n              'y': array([   6,    6,    6,    7,    8,    9,   19,   39,   66,   95,  111,  153,\n                           194,  241,  297,  354,  384,  493,  636,  742,  969, 1231, 1394, 1456,\n                          1560, 1628, 1679, 1837], dtype=int64),\n              'yaxis': 'y'},\n             {'hoverlabel': {'namelength': 0},\n              'hovertemplate': 'CCAA=Galicia<br>doc=%{x}<br>Infectados=%{y}',\n              'legendgroup': 'Galicia',\n              'line': {'color': '#00cc96', 'dash': 'solid'},\n              'mode': 'lines',\n              'name': 'Galicia',\n              'showlegend': True,\n              'type': 'scatter',\n              'x': array([36, 37, 38, 39, 40, 41, 42, 43, 44, 45, 46, 47, 48, 49, 50, 51, 52, 53,\n                          54, 55, 56, 57, 58, 59, 60, 61, 62, 63], dtype=int64),\n              'xaxis': 'x',\n              'y': array([   1,    1,    3,    6,   22,   39,   35,   85,  115,  195,  245,  292,\n                           341,  453,  578,  739,  915, 1208, 1415, 1653, 1915, 2322, 2772, 3139,\n                          3723, 4039, 4432, 4842], dtype=int64),\n              'yaxis': 'y'},\n             {'hoverlabel': {'namelength': 0},\n              'hovertemplate': 'CCAA=Madrid<br>doc=%{x}<br>Infectados=%{y}',\n              'legendgroup': 'Madrid',\n              'line': {'color': '#ab63fa', 'dash': 'solid'},\n              'mode': 'lines',\n              'name': 'Madrid',\n              'showlegend': True,\n              'type': 'scatter',\n              'x': array([36, 37, 38, 39, 40, 41, 42, 43, 44, 45, 46, 47, 48, 49, 50, 51, 52, 53,\n                          54, 55, 56, 57, 58, 59, 60, 61, 62, 63], dtype=int64),\n              'xaxis': 'x',\n              'y': array([   70,    90,   137,   469,   782,  1024,  1388,  1990,  2940,  3544,\n                           4165,  4871,  5637,  6777,  7165,  8921,  9702, 10575, 12352, 14597,\n                          17166, 19243, 21520, 22677, 24090, 27509, 29840, 32155], dtype=int64),\n              'yaxis': 'y'},\n             {'hoverlabel': {'namelength': 0},\n              'hovertemplate': 'CCAA=Melilla<br>doc=%{x}<br>Infectados=%{y}',\n              'legendgroup': 'Melilla',\n              'line': {'color': '#FFA15A', 'dash': 'solid'},\n              'mode': 'lines',\n              'name': 'Melilla',\n              'showlegend': True,\n              'type': 'scatter',\n              'x': array([36, 37, 38, 39, 40, 41, 42, 43, 44, 45, 46, 47, 48, 49, 50, 51, 52, 53,\n                          54, 55, 56, 57, 58, 59, 60, 61, 62, 63], dtype=int64),\n              'xaxis': 'x',\n              'y': array([ 0,  0,  0,  0,  0,  0,  0,  2,  3,  8,  8, 17, 20, 23, 24, 25, 25, 28,\n                          28, 38, 39, 42, 45, 48, 51, 54, 62, 62], dtype=int64),\n              'yaxis': 'y'},\n             {'hoverlabel': {'namelength': 0},\n              'hovertemplate': 'CCAA=Murcia<br>doc=%{x}<br>Infectados=%{y}',\n              'legendgroup': 'Murcia',\n              'line': {'color': '#19d3f3', 'dash': 'solid'},\n              'mode': 'lines',\n              'name': 'Murcia',\n              'showlegend': True,\n              'type': 'scatter',\n              'x': array([36, 37, 38, 39, 40, 41, 42, 43, 44, 45, 46, 47, 48, 49, 50, 51, 52, 53,\n                          54, 55, 56, 57, 58, 59, 60, 61, 62, 63], dtype=int64),\n              'xaxis': 'x',\n              'y': array([   0,    0,    0,    4,    9,   11,   26,   35,   47,   71,   77,   97,\n                           122,  167,  204,  240,  296,  345,  385,  477,  596,  714,  802,  872,\n                           939,  974, 1041, 1084], dtype=int64),\n              'yaxis': 'y'},\n             {'hoverlabel': {'namelength': 0},\n              'hovertemplate': 'CCAA=Navarra<br>doc=%{x}<br>Infectados=%{y}',\n              'legendgroup': 'Navarra',\n              'line': {'color': '#FF6692', 'dash': 'solid'},\n              'mode': 'lines',\n              'name': 'Navarra',\n              'showlegend': True,\n              'type': 'scatter',\n              'x': array([36, 37, 38, 39, 40, 41, 42, 43, 44, 45, 46, 47, 48, 49, 50, 51, 52, 53,\n                          54, 55, 56, 57, 58, 59, 60, 61, 62, 63], dtype=int64),\n              'xaxis': 'x',\n              'y': array([   3,    3,    3,    3,   12,   46,   73,  130,  146,  183,  274,  313,\n                           386,  482,  554,  664,  794,  886, 1014, 1197, 1411, 1641, 1829, 2011,\n                          2146, 2305, 2497, 2682], dtype=int64),\n              'yaxis': 'y'},\n             {'hoverlabel': {'namelength': 0},\n              'hovertemplate': 'CCAA=Pais Vasco<br>doc=%{x}<br>Infectados=%{y}',\n              'legendgroup': 'Pais Vasco',\n              'line': {'color': '#B6E880', 'dash': 'solid'},\n              'mode': 'lines',\n              'name': 'Pais Vasco',\n              'showlegend': True,\n              'type': 'scatter',\n              'x': array([36, 37, 38, 39, 40, 41, 42, 43, 44, 45, 46, 47, 48, 49, 50, 51, 52, 53,\n                          54, 55, 56, 57, 58, 59, 60, 61, 62, 63], dtype=int64),\n              'xaxis': 'x',\n              'y': array([  17,   17,   45,  149,  195,  225,  346,  417,  417,  630,  630,  765,\n                           973,  119, 1465, 1725, 2097, 2421, 2728, 3271, 3946, 4601, 5136, 5740,\n                          6057, 6320, 6838, 7317], dtype=int64),\n              'yaxis': 'y'},\n             {'hoverlabel': {'namelength': 0},\n              'hovertemplate': 'CCAA=La Rioja<br>doc=%{x}<br>Infectados=%{y}',\n              'legendgroup': 'La Rioja',\n              'line': {'color': '#FF97FF', 'dash': 'solid'},\n              'mode': 'lines',\n              'name': 'La Rioja',\n              'showlegend': True,\n              'type': 'scatter',\n              'x': array([36, 37, 38, 39, 40, 41, 42, 43, 44, 45, 46, 47, 48, 49, 50, 51, 52, 53,\n                          54, 55, 56, 57, 58, 59, 60, 61, 62, 63], dtype=int64),\n              'xaxis': 'x',\n              'y': array([   7,   11,   29,   81,  144,  179,  205,  243,  278,  300,  312,  355,\n                           419,  468,  497,  564,  654,  747,  802,  928,  995, 1236, 1436, 1629,\n                          1733, 1810, 1960, 2083], dtype=int64),\n              'yaxis': 'y'}],\n    'layout': {'legend': {'title': {'text': 'CCAA'}, 'tracegroupgap': 0},\n               'margin': {'t': 60},\n               'template': '...',\n               'xaxis': {'anchor': 'y', 'domain': [0.0, 1.0], 'title': {'text': 'doc'}},\n               'yaxis': {'anchor': 'x', 'domain': [0.0, 1.0], 'title': {'text': 'Infectados'}}}\n}) <class 'plotly.graph_objs._figure.Figure'> was specified.",
      "\nDuring handling of the above exception, another exception occurred:\n",
      "\u001b[1;31mTraitError\u001b[0m                                Traceback (most recent call last)",
      "\u001b[1;32m<ipython-input-63-77776e6bc195>\u001b[0m in \u001b[0;36m<module>\u001b[1;34m\u001b[0m\n\u001b[0;32m      9\u001b[0m         v.Layout(row=True, wrap=True, align_center=True, children=[\n\u001b[0;32m     10\u001b[0m             v.Flex(xs12=True, lg6=True, xl4=True, children=[\n\u001b[1;32m---> 11\u001b[1;33m                 \u001b[0mfig_exp\u001b[0m\u001b[1;33m\u001b[0m\u001b[1;33m\u001b[0m\u001b[0m\n\u001b[0m\u001b[0;32m     12\u001b[0m             ]),\n\u001b[0;32m     13\u001b[0m             v.Flex(xs12=True, lg6=True, xl4=True, children=[\n",
      "\u001b[1;32mc:\\users\\caesp\\appdata\\local\\programs\\python\\python37-32\\lib\\site-packages\\ipywidgets\\widgets\\widget.py\u001b[0m in \u001b[0;36m__init__\u001b[1;34m(self, **kwargs)\u001b[0m\n\u001b[0;32m    410\u001b[0m         \u001b[1;34m\"\"\"Public constructor\"\"\"\u001b[0m\u001b[1;33m\u001b[0m\u001b[1;33m\u001b[0m\u001b[0m\n\u001b[0;32m    411\u001b[0m         \u001b[0mself\u001b[0m\u001b[1;33m.\u001b[0m\u001b[0m_model_id\u001b[0m \u001b[1;33m=\u001b[0m \u001b[0mkwargs\u001b[0m\u001b[1;33m.\u001b[0m\u001b[0mpop\u001b[0m\u001b[1;33m(\u001b[0m\u001b[1;34m'model_id'\u001b[0m\u001b[1;33m,\u001b[0m \u001b[1;32mNone\u001b[0m\u001b[1;33m)\u001b[0m\u001b[1;33m\u001b[0m\u001b[1;33m\u001b[0m\u001b[0m\n\u001b[1;32m--> 412\u001b[1;33m         \u001b[0msuper\u001b[0m\u001b[1;33m(\u001b[0m\u001b[0mWidget\u001b[0m\u001b[1;33m,\u001b[0m \u001b[0mself\u001b[0m\u001b[1;33m)\u001b[0m\u001b[1;33m.\u001b[0m\u001b[0m__init__\u001b[0m\u001b[1;33m(\u001b[0m\u001b[1;33m**\u001b[0m\u001b[0mkwargs\u001b[0m\u001b[1;33m)\u001b[0m\u001b[1;33m\u001b[0m\u001b[1;33m\u001b[0m\u001b[0m\n\u001b[0m\u001b[0;32m    413\u001b[0m \u001b[1;33m\u001b[0m\u001b[0m\n\u001b[0;32m    414\u001b[0m         \u001b[0mWidget\u001b[0m\u001b[1;33m.\u001b[0m\u001b[0m_call_widget_constructed\u001b[0m\u001b[1;33m(\u001b[0m\u001b[0mself\u001b[0m\u001b[1;33m)\u001b[0m\u001b[1;33m\u001b[0m\u001b[1;33m\u001b[0m\u001b[0m\n",
      "\u001b[1;32mc:\\users\\caesp\\appdata\\local\\programs\\python\\python37-32\\lib\\site-packages\\traitlets\\traitlets.py\u001b[0m in \u001b[0;36m__init__\u001b[1;34m(self, *args, **kwargs)\u001b[0m\n\u001b[0;32m    995\u001b[0m             \u001b[1;32mfor\u001b[0m \u001b[0mkey\u001b[0m\u001b[1;33m,\u001b[0m \u001b[0mvalue\u001b[0m \u001b[1;32min\u001b[0m \u001b[0mkwargs\u001b[0m\u001b[1;33m.\u001b[0m\u001b[0mitems\u001b[0m\u001b[1;33m(\u001b[0m\u001b[1;33m)\u001b[0m\u001b[1;33m:\u001b[0m\u001b[1;33m\u001b[0m\u001b[1;33m\u001b[0m\u001b[0m\n\u001b[0;32m    996\u001b[0m                 \u001b[1;32mif\u001b[0m \u001b[0mself\u001b[0m\u001b[1;33m.\u001b[0m\u001b[0mhas_trait\u001b[0m\u001b[1;33m(\u001b[0m\u001b[0mkey\u001b[0m\u001b[1;33m)\u001b[0m\u001b[1;33m:\u001b[0m\u001b[1;33m\u001b[0m\u001b[1;33m\u001b[0m\u001b[0m\n\u001b[1;32m--> 997\u001b[1;33m                     \u001b[0msetattr\u001b[0m\u001b[1;33m(\u001b[0m\u001b[0mself\u001b[0m\u001b[1;33m,\u001b[0m \u001b[0mkey\u001b[0m\u001b[1;33m,\u001b[0m \u001b[0mvalue\u001b[0m\u001b[1;33m)\u001b[0m\u001b[1;33m\u001b[0m\u001b[1;33m\u001b[0m\u001b[0m\n\u001b[0m\u001b[0;32m    998\u001b[0m                 \u001b[1;32melse\u001b[0m\u001b[1;33m:\u001b[0m\u001b[1;33m\u001b[0m\u001b[1;33m\u001b[0m\u001b[0m\n\u001b[0;32m    999\u001b[0m                     \u001b[1;31m# passthrough args that don't set traits to super\u001b[0m\u001b[1;33m\u001b[0m\u001b[1;33m\u001b[0m\u001b[1;33m\u001b[0m\u001b[0m\n",
      "\u001b[1;32mc:\\users\\caesp\\appdata\\local\\programs\\python\\python37-32\\lib\\site-packages\\traitlets\\traitlets.py\u001b[0m in \u001b[0;36m__set__\u001b[1;34m(self, obj, value)\u001b[0m\n\u001b[0;32m    583\u001b[0m             \u001b[1;32mraise\u001b[0m \u001b[0mTraitError\u001b[0m\u001b[1;33m(\u001b[0m\u001b[1;34m'The \"%s\" trait is read-only.'\u001b[0m \u001b[1;33m%\u001b[0m \u001b[0mself\u001b[0m\u001b[1;33m.\u001b[0m\u001b[0mname\u001b[0m\u001b[1;33m)\u001b[0m\u001b[1;33m\u001b[0m\u001b[1;33m\u001b[0m\u001b[0m\n\u001b[0;32m    584\u001b[0m         \u001b[1;32melse\u001b[0m\u001b[1;33m:\u001b[0m\u001b[1;33m\u001b[0m\u001b[1;33m\u001b[0m\u001b[0m\n\u001b[1;32m--> 585\u001b[1;33m             \u001b[0mself\u001b[0m\u001b[1;33m.\u001b[0m\u001b[0mset\u001b[0m\u001b[1;33m(\u001b[0m\u001b[0mobj\u001b[0m\u001b[1;33m,\u001b[0m \u001b[0mvalue\u001b[0m\u001b[1;33m)\u001b[0m\u001b[1;33m\u001b[0m\u001b[1;33m\u001b[0m\u001b[0m\n\u001b[0m\u001b[0;32m    586\u001b[0m \u001b[1;33m\u001b[0m\u001b[0m\n\u001b[0;32m    587\u001b[0m     \u001b[1;32mdef\u001b[0m \u001b[0m_validate\u001b[0m\u001b[1;33m(\u001b[0m\u001b[0mself\u001b[0m\u001b[1;33m,\u001b[0m \u001b[0mobj\u001b[0m\u001b[1;33m,\u001b[0m \u001b[0mvalue\u001b[0m\u001b[1;33m)\u001b[0m\u001b[1;33m:\u001b[0m\u001b[1;33m\u001b[0m\u001b[1;33m\u001b[0m\u001b[0m\n",
      "\u001b[1;32mc:\\users\\caesp\\appdata\\local\\programs\\python\\python37-32\\lib\\site-packages\\traitlets\\traitlets.py\u001b[0m in \u001b[0;36mset\u001b[1;34m(self, obj, value)\u001b[0m\n\u001b[0;32m    557\u001b[0m \u001b[1;33m\u001b[0m\u001b[0m\n\u001b[0;32m    558\u001b[0m     \u001b[1;32mdef\u001b[0m \u001b[0mset\u001b[0m\u001b[1;33m(\u001b[0m\u001b[0mself\u001b[0m\u001b[1;33m,\u001b[0m \u001b[0mobj\u001b[0m\u001b[1;33m,\u001b[0m \u001b[0mvalue\u001b[0m\u001b[1;33m)\u001b[0m\u001b[1;33m:\u001b[0m\u001b[1;33m\u001b[0m\u001b[1;33m\u001b[0m\u001b[0m\n\u001b[1;32m--> 559\u001b[1;33m         \u001b[0mnew_value\u001b[0m \u001b[1;33m=\u001b[0m \u001b[0mself\u001b[0m\u001b[1;33m.\u001b[0m\u001b[0m_validate\u001b[0m\u001b[1;33m(\u001b[0m\u001b[0mobj\u001b[0m\u001b[1;33m,\u001b[0m \u001b[0mvalue\u001b[0m\u001b[1;33m)\u001b[0m\u001b[1;33m\u001b[0m\u001b[1;33m\u001b[0m\u001b[0m\n\u001b[0m\u001b[0;32m    560\u001b[0m         \u001b[1;32mtry\u001b[0m\u001b[1;33m:\u001b[0m\u001b[1;33m\u001b[0m\u001b[1;33m\u001b[0m\u001b[0m\n\u001b[0;32m    561\u001b[0m             \u001b[0mold_value\u001b[0m \u001b[1;33m=\u001b[0m \u001b[0mobj\u001b[0m\u001b[1;33m.\u001b[0m\u001b[0m_trait_values\u001b[0m\u001b[1;33m[\u001b[0m\u001b[0mself\u001b[0m\u001b[1;33m.\u001b[0m\u001b[0mname\u001b[0m\u001b[1;33m]\u001b[0m\u001b[1;33m\u001b[0m\u001b[1;33m\u001b[0m\u001b[0m\n",
      "\u001b[1;32mc:\\users\\caesp\\appdata\\local\\programs\\python\\python37-32\\lib\\site-packages\\traitlets\\traitlets.py\u001b[0m in \u001b[0;36m_validate\u001b[1;34m(self, obj, value)\u001b[0m\n\u001b[0;32m    589\u001b[0m             \u001b[1;32mreturn\u001b[0m \u001b[0mvalue\u001b[0m\u001b[1;33m\u001b[0m\u001b[1;33m\u001b[0m\u001b[0m\n\u001b[0;32m    590\u001b[0m         \u001b[1;32mif\u001b[0m \u001b[0mhasattr\u001b[0m\u001b[1;33m(\u001b[0m\u001b[0mself\u001b[0m\u001b[1;33m,\u001b[0m \u001b[1;34m'validate'\u001b[0m\u001b[1;33m)\u001b[0m\u001b[1;33m:\u001b[0m\u001b[1;33m\u001b[0m\u001b[1;33m\u001b[0m\u001b[0m\n\u001b[1;32m--> 591\u001b[1;33m             \u001b[0mvalue\u001b[0m \u001b[1;33m=\u001b[0m \u001b[0mself\u001b[0m\u001b[1;33m.\u001b[0m\u001b[0mvalidate\u001b[0m\u001b[1;33m(\u001b[0m\u001b[0mobj\u001b[0m\u001b[1;33m,\u001b[0m \u001b[0mvalue\u001b[0m\u001b[1;33m)\u001b[0m\u001b[1;33m\u001b[0m\u001b[1;33m\u001b[0m\u001b[0m\n\u001b[0m\u001b[0;32m    592\u001b[0m         \u001b[1;32mif\u001b[0m \u001b[0mobj\u001b[0m\u001b[1;33m.\u001b[0m\u001b[0m_cross_validation_lock\u001b[0m \u001b[1;32mis\u001b[0m \u001b[1;32mFalse\u001b[0m\u001b[1;33m:\u001b[0m\u001b[1;33m\u001b[0m\u001b[1;33m\u001b[0m\u001b[0m\n\u001b[0;32m    593\u001b[0m             \u001b[0mvalue\u001b[0m \u001b[1;33m=\u001b[0m \u001b[0mself\u001b[0m\u001b[1;33m.\u001b[0m\u001b[0m_cross_validate\u001b[0m\u001b[1;33m(\u001b[0m\u001b[0mobj\u001b[0m\u001b[1;33m,\u001b[0m \u001b[0mvalue\u001b[0m\u001b[1;33m)\u001b[0m\u001b[1;33m\u001b[0m\u001b[1;33m\u001b[0m\u001b[0m\n",
      "\u001b[1;32mc:\\users\\caesp\\appdata\\local\\programs\\python\\python37-32\\lib\\site-packages\\traitlets\\traitlets.py\u001b[0m in \u001b[0;36mvalidate\u001b[1;34m(self, obj, value)\u001b[0m\n\u001b[0;32m   2322\u001b[0m \u001b[1;33m\u001b[0m\u001b[0m\n\u001b[0;32m   2323\u001b[0m     \u001b[1;32mdef\u001b[0m \u001b[0mvalidate\u001b[0m\u001b[1;33m(\u001b[0m\u001b[0mself\u001b[0m\u001b[1;33m,\u001b[0m \u001b[0mobj\u001b[0m\u001b[1;33m,\u001b[0m \u001b[0mvalue\u001b[0m\u001b[1;33m)\u001b[0m\u001b[1;33m:\u001b[0m\u001b[1;33m\u001b[0m\u001b[1;33m\u001b[0m\u001b[0m\n\u001b[1;32m-> 2324\u001b[1;33m         \u001b[0mvalue\u001b[0m \u001b[1;33m=\u001b[0m \u001b[0msuper\u001b[0m\u001b[1;33m(\u001b[0m\u001b[0mList\u001b[0m\u001b[1;33m,\u001b[0m \u001b[0mself\u001b[0m\u001b[1;33m)\u001b[0m\u001b[1;33m.\u001b[0m\u001b[0mvalidate\u001b[0m\u001b[1;33m(\u001b[0m\u001b[0mobj\u001b[0m\u001b[1;33m,\u001b[0m \u001b[0mvalue\u001b[0m\u001b[1;33m)\u001b[0m\u001b[1;33m\u001b[0m\u001b[1;33m\u001b[0m\u001b[0m\n\u001b[0m\u001b[0;32m   2325\u001b[0m         \u001b[0mvalue\u001b[0m \u001b[1;33m=\u001b[0m \u001b[0mself\u001b[0m\u001b[1;33m.\u001b[0m\u001b[0mvalidate_elements\u001b[0m\u001b[1;33m(\u001b[0m\u001b[0mobj\u001b[0m\u001b[1;33m,\u001b[0m \u001b[0mvalue\u001b[0m\u001b[1;33m)\u001b[0m\u001b[1;33m\u001b[0m\u001b[1;33m\u001b[0m\u001b[0m\n\u001b[0;32m   2326\u001b[0m         \u001b[1;32mreturn\u001b[0m \u001b[0mvalue\u001b[0m\u001b[1;33m\u001b[0m\u001b[1;33m\u001b[0m\u001b[0m\n",
      "\u001b[1;32mc:\\users\\caesp\\appdata\\local\\programs\\python\\python37-32\\lib\\site-packages\\traitlets\\traitlets.py\u001b[0m in \u001b[0;36mvalidate\u001b[1;34m(self, obj, value)\u001b[0m\n\u001b[0;32m   2240\u001b[0m             \u001b[1;32mreturn\u001b[0m \u001b[0mvalue\u001b[0m\u001b[1;33m\u001b[0m\u001b[1;33m\u001b[0m\u001b[0m\n\u001b[0;32m   2241\u001b[0m \u001b[1;33m\u001b[0m\u001b[0m\n\u001b[1;32m-> 2242\u001b[1;33m         \u001b[0mvalue\u001b[0m \u001b[1;33m=\u001b[0m \u001b[0mself\u001b[0m\u001b[1;33m.\u001b[0m\u001b[0mvalidate_elements\u001b[0m\u001b[1;33m(\u001b[0m\u001b[0mobj\u001b[0m\u001b[1;33m,\u001b[0m \u001b[0mvalue\u001b[0m\u001b[1;33m)\u001b[0m\u001b[1;33m\u001b[0m\u001b[1;33m\u001b[0m\u001b[0m\n\u001b[0m\u001b[0;32m   2243\u001b[0m \u001b[1;33m\u001b[0m\u001b[0m\n\u001b[0;32m   2244\u001b[0m         \u001b[1;32mreturn\u001b[0m \u001b[0mvalue\u001b[0m\u001b[1;33m\u001b[0m\u001b[1;33m\u001b[0m\u001b[0m\n",
      "\u001b[1;32mc:\\users\\caesp\\appdata\\local\\programs\\python\\python37-32\\lib\\site-packages\\traitlets\\traitlets.py\u001b[0m in \u001b[0;36mvalidate_elements\u001b[1;34m(self, obj, value)\u001b[0m\n\u001b[0;32m   2319\u001b[0m             \u001b[0mself\u001b[0m\u001b[1;33m.\u001b[0m\u001b[0mlength_error\u001b[0m\u001b[1;33m(\u001b[0m\u001b[0mobj\u001b[0m\u001b[1;33m,\u001b[0m \u001b[0mvalue\u001b[0m\u001b[1;33m)\u001b[0m\u001b[1;33m\u001b[0m\u001b[1;33m\u001b[0m\u001b[0m\n\u001b[0;32m   2320\u001b[0m \u001b[1;33m\u001b[0m\u001b[0m\n\u001b[1;32m-> 2321\u001b[1;33m         \u001b[1;32mreturn\u001b[0m \u001b[0msuper\u001b[0m\u001b[1;33m(\u001b[0m\u001b[0mList\u001b[0m\u001b[1;33m,\u001b[0m \u001b[0mself\u001b[0m\u001b[1;33m)\u001b[0m\u001b[1;33m.\u001b[0m\u001b[0mvalidate_elements\u001b[0m\u001b[1;33m(\u001b[0m\u001b[0mobj\u001b[0m\u001b[1;33m,\u001b[0m \u001b[0mvalue\u001b[0m\u001b[1;33m)\u001b[0m\u001b[1;33m\u001b[0m\u001b[1;33m\u001b[0m\u001b[0m\n\u001b[0m\u001b[0;32m   2322\u001b[0m \u001b[1;33m\u001b[0m\u001b[0m\n\u001b[0;32m   2323\u001b[0m     \u001b[1;32mdef\u001b[0m \u001b[0mvalidate\u001b[0m\u001b[1;33m(\u001b[0m\u001b[0mself\u001b[0m\u001b[1;33m,\u001b[0m \u001b[0mobj\u001b[0m\u001b[1;33m,\u001b[0m \u001b[0mvalue\u001b[0m\u001b[1;33m)\u001b[0m\u001b[1;33m:\u001b[0m\u001b[1;33m\u001b[0m\u001b[1;33m\u001b[0m\u001b[0m\n",
      "\u001b[1;32mc:\\users\\caesp\\appdata\\local\\programs\\python\\python37-32\\lib\\site-packages\\traitlets\\traitlets.py\u001b[0m in \u001b[0;36mvalidate_elements\u001b[1;34m(self, obj, value)\u001b[0m\n\u001b[0;32m   2252\u001b[0m                 \u001b[0mv\u001b[0m \u001b[1;33m=\u001b[0m \u001b[0mself\u001b[0m\u001b[1;33m.\u001b[0m\u001b[0m_trait\u001b[0m\u001b[1;33m.\u001b[0m\u001b[0m_validate\u001b[0m\u001b[1;33m(\u001b[0m\u001b[0mobj\u001b[0m\u001b[1;33m,\u001b[0m \u001b[0mv\u001b[0m\u001b[1;33m)\u001b[0m\u001b[1;33m\u001b[0m\u001b[1;33m\u001b[0m\u001b[0m\n\u001b[0;32m   2253\u001b[0m             \u001b[1;32mexcept\u001b[0m \u001b[0mTraitError\u001b[0m\u001b[1;33m:\u001b[0m\u001b[1;33m\u001b[0m\u001b[1;33m\u001b[0m\u001b[0m\n\u001b[1;32m-> 2254\u001b[1;33m                 \u001b[0mself\u001b[0m\u001b[1;33m.\u001b[0m\u001b[0melement_error\u001b[0m\u001b[1;33m(\u001b[0m\u001b[0mobj\u001b[0m\u001b[1;33m,\u001b[0m \u001b[0mv\u001b[0m\u001b[1;33m,\u001b[0m \u001b[0mself\u001b[0m\u001b[1;33m.\u001b[0m\u001b[0m_trait\u001b[0m\u001b[1;33m)\u001b[0m\u001b[1;33m\u001b[0m\u001b[1;33m\u001b[0m\u001b[0m\n\u001b[0m\u001b[0;32m   2255\u001b[0m             \u001b[1;32melse\u001b[0m\u001b[1;33m:\u001b[0m\u001b[1;33m\u001b[0m\u001b[1;33m\u001b[0m\u001b[0m\n\u001b[0;32m   2256\u001b[0m                 \u001b[0mvalidated\u001b[0m\u001b[1;33m.\u001b[0m\u001b[0mappend\u001b[0m\u001b[1;33m(\u001b[0m\u001b[0mv\u001b[0m\u001b[1;33m)\u001b[0m\u001b[1;33m\u001b[0m\u001b[1;33m\u001b[0m\u001b[0m\n",
      "\u001b[1;32mc:\\users\\caesp\\appdata\\local\\programs\\python\\python37-32\\lib\\site-packages\\traitlets\\traitlets.py\u001b[0m in \u001b[0;36melement_error\u001b[1;34m(self, obj, element, validator)\u001b[0m\n\u001b[0;32m   2231\u001b[0m         \u001b[0me\u001b[0m \u001b[1;33m=\u001b[0m \u001b[1;34m\"Element of the '%s' trait of %s instance must be %s, but a value of %s was specified.\"\u001b[0m\u001b[0;31m \u001b[0m\u001b[0;31m\\\u001b[0m\u001b[1;33m\u001b[0m\u001b[1;33m\u001b[0m\u001b[0m\n\u001b[0;32m   2232\u001b[0m             \u001b[1;33m%\u001b[0m \u001b[1;33m(\u001b[0m\u001b[0mself\u001b[0m\u001b[1;33m.\u001b[0m\u001b[0mname\u001b[0m\u001b[1;33m,\u001b[0m \u001b[0mclass_of\u001b[0m\u001b[1;33m(\u001b[0m\u001b[0mobj\u001b[0m\u001b[1;33m)\u001b[0m\u001b[1;33m,\u001b[0m \u001b[0mvalidator\u001b[0m\u001b[1;33m.\u001b[0m\u001b[0minfo\u001b[0m\u001b[1;33m(\u001b[0m\u001b[1;33m)\u001b[0m\u001b[1;33m,\u001b[0m \u001b[0mrepr_type\u001b[0m\u001b[1;33m(\u001b[0m\u001b[0melement\u001b[0m\u001b[1;33m)\u001b[0m\u001b[1;33m)\u001b[0m\u001b[1;33m\u001b[0m\u001b[1;33m\u001b[0m\u001b[0m\n\u001b[1;32m-> 2233\u001b[1;33m         \u001b[1;32mraise\u001b[0m \u001b[0mTraitError\u001b[0m\u001b[1;33m(\u001b[0m\u001b[0me\u001b[0m\u001b[1;33m)\u001b[0m\u001b[1;33m\u001b[0m\u001b[1;33m\u001b[0m\u001b[0m\n\u001b[0m\u001b[0;32m   2234\u001b[0m \u001b[1;33m\u001b[0m\u001b[0m\n\u001b[0;32m   2235\u001b[0m     \u001b[1;32mdef\u001b[0m \u001b[0mvalidate\u001b[0m\u001b[1;33m(\u001b[0m\u001b[0mself\u001b[0m\u001b[1;33m,\u001b[0m \u001b[0mobj\u001b[0m\u001b[1;33m,\u001b[0m \u001b[0mvalue\u001b[0m\u001b[1;33m)\u001b[0m\u001b[1;33m:\u001b[0m\u001b[1;33m\u001b[0m\u001b[1;33m\u001b[0m\u001b[0m\n",
      "\u001b[1;31mTraitError\u001b[0m: Element of the 'children' trait of a Flex instance must be a DOMWidget or a unicode string, but a value of Figure({\n    'data': [{'hoverlabel': {'namelength': 0},\n              'hovertemplate': 'CCAA=Andalucia<br>doc=%{x}<br>Infectados=%{y}',\n              'legendgroup': 'Andalucia',\n              'line': {'color': '#636efa', 'dash': 'solid'},\n              'mode': 'lines',\n              'name': 'Andalucia',\n              'showlegend': True,\n              'type': 'scatter',\n              'x': array([36, 37, 38, 39, 40, 41, 42, 43, 44, 45, 46, 47, 48, 49, 50, 51, 52, 53,\n                          54, 55, 56, 57, 58, 59, 60, 61, 62, 63], dtype=int64),\n              'xaxis': 'x',\n              'y': array([  13,   12,   21,   54,   71,   90,  115,  219,  269,  437,  554,  683,\n                           859, 1008, 1287, 1515, 1725, 1960, 2471, 3010, 3406, 3793, 4277, 4682,\n                          5405, 5818, 6392, 6972], dtype=int64),\n              'yaxis': 'y'},\n             {'hoverlabel': {'namelength': 0},\n              'hovertemplate': 'CCAA=Aragon<br>doc=%{x}<br>Infectados=%{y}',\n              'legendgroup': 'Aragon',\n              'line': {'color': '#EF553B', 'dash': 'solid'},\n              'mode': 'lines',\n              'name': 'Aragon',\n              'showlegend': True,\n              'type': 'scatter',\n              'x': array([36, 37, 38, 39, 40, 41, 42, 43, 44, 45, 46, 47, 48, 49, 50, 51, 52, 53,\n                          54, 55, 56, 57, 58, 59, 60, 61, 62, 63], dtype=int64),\n              'xaxis': 'x',\n              'y': array([   0,    1,    6,   13,   38,   45,   64,   80,   80,  147,  174,  207,\n                           226,  281,  360,  424,  532,  638,  758,  907, 1116, 1338, 1592, 1858,\n                          2078, 2272, 2491, 2700], dtype=int64),\n              'yaxis': 'y'},\n             {'hoverlabel': {'namelength': 0},\n              'hovertemplate': 'CCAA=Asturias<br>doc=%{x}<br>Infectados=%{y}',\n              'legendgroup': 'Asturias',\n              'line': {'color': '#00cc96', 'dash': 'solid'},\n              'mode': 'lines',\n              'name': 'Asturias',\n              'showlegend': True,\n              'type': 'scatter',\n              'x': array([36, 37, 38, 39, 40, 41, 42, 43, 44, 45, 46, 47, 48, 49, 50, 51, 52, 53,\n                          54, 55, 56, 57, 58, 59, 60, 61, 62, 63], dtype=int64),\n              'xaxis': 'x',\n              'y': array([   2,    5,    5,    7,   22,   32,   47,   67,   92,  137,  177,  193,\n                           242,  292,  344,  486,  545,  594,  662,  779,  841,  900, 1004, 1088,\n                          1158, 1236, 1322, 1384], dtype=int64),\n              'yaxis': 'y'},\n             {'hoverlabel': {'namelength': 0},\n              'hovertemplate': 'CCAA=Baleares<br>doc=%{x}<br>Infectados=%{y}',\n              'legendgroup': 'Baleares',\n              'line': {'color': '#ab63fa', 'dash': 'solid'},\n              'mode': 'lines',\n              'name': 'Baleares',\n              'showlegend': True,\n              'type': 'scatter',\n              'x': array([36, 37, 38, 39, 40, 41, 42, 43, 44, 45, 46, 47, 48, 49, 50, 51, 52, 53,\n                          54, 55, 56, 57, 58, 59, 60, 61, 62, 63], dtype=int64),\n              'xaxis': 'x',\n              'y': array([   5,    6,    6,   11,   13,   16,   22,   30,   28,   28,   73,   92,\n                           112,  169,  203,  246,  331,  400,  478,  562,  660,  755,  862,  958,\n                          1000, 1069, 1131, 1204], dtype=int64),\n              'yaxis': 'y'},\n             {'hoverlabel': {'namelength': 0},\n              'hovertemplate': 'CCAA=Canarias<br>doc=%{x}<br>Infectados=%{y}',\n              'legendgroup': 'Canarias',\n              'line': {'color': '#FFA15A', 'dash': 'solid'},\n              'mode': 'lines',\n              'name': 'Canarias',\n              'showlegend': True,\n              'type': 'scatter',\n              'x': array([36, 37, 38, 39, 40, 41, 42, 43, 44, 45, 46, 47, 48, 49, 50, 51, 52, 53,\n                          54, 55, 56, 57, 58, 59, 60, 61, 62, 63], dtype=int64),\n              'xaxis': 'x',\n              'y': array([   7,    8,   11,   22,   25,   37,   51,   70,   90,  109,  119,  148,\n                           181,  220,  287,  348,  414,  481,  557,  657,  784,  878, 1025, 1125,\n                          1204, 1262, 1380, 1444], dtype=int64),\n              'yaxis': 'y'},\n             {'hoverlabel': {'namelength': 0},\n              'hovertemplate': 'CCAA=Cantabria<br>doc=%{x}<br>Infectados=%{y}',\n              'legendgroup': 'Cantabria',\n              'line': {'color': '#19d3f3', 'dash': 'solid'},\n              'mode': 'lines',\n              'name': 'Cantabria',\n              'showlegend': True,\n              'type': 'scatter',\n              'x': array([36, 37, 38, 39, 40, 41, 42, 43, 44, 45, 46, 47, 48, 49, 50, 51, 52, 53,\n                          54, 55, 56, 57, 58, 59, 60, 61, 62, 63], dtype=int64),\n              'xaxis': 'x',\n              'y': array([  10,   10,   10,   12,   12,   12,   16,   29,   31,   51,   58,   58,\n                            68,   83,  144,  215,  282,  347,  425,  510,  671,  810,  937, 1023,\n                          1100, 1171, 1213, 1268], dtype=int64),\n              'yaxis': 'y'},\n             {'hoverlabel': {'namelength': 0},\n              'hovertemplate': 'CCAA=Castilla La Mancha<br>doc=%{x}<br>Infectados=%{y}',\n              'legendgroup': 'Castilla La Mancha',\n              'line': {'color': '#FF6692', 'dash': 'solid'},\n              'mode': 'lines',\n              'name': 'Castilla La Mancha',\n              'showlegend': True,\n              'type': 'scatter',\n              'x': array([36, 37, 38, 39, 40, 41, 42, 43, 44, 45, 46, 47, 48, 49, 50, 51, 52, 53,\n                          54, 55, 56, 57, 58, 59, 60, 61, 62, 63], dtype=int64),\n              'xaxis': 'x',\n              'y': array([  12,   13,   15,   26,   39,   71,  115,  194,  289,  401,  567,  567,\n                           675,  801, 1044, 1423, 1819, 2078, 2465, 2780, 3383, 3934, 4512, 5246,\n                          5858, 6424, 7047, 7682], dtype=int64),\n              'yaxis': 'y'},\n             {'hoverlabel': {'namelength': 0},\n              'hovertemplate': 'CCAA=Castilla y Leon<br>doc=%{x}<br>Infectados=%{y}',\n              'legendgroup': 'Castilla y Leon',\n              'line': {'color': '#B6E880', 'dash': 'solid'},\n              'mode': 'lines',\n              'name': 'Castilla y Leon',\n              'showlegend': True,\n              'type': 'scatter',\n              'x': array([36, 37, 38, 39, 40, 41, 42, 43, 44, 45, 46, 47, 48, 49, 50, 51, 52, 53,\n                          54, 55, 56, 57, 58, 59, 60, 61, 62, 63], dtype=int64),\n              'xaxis': 'x',\n              'y': array([  11,   11,   14,   23,   56,   71,   92,  169,  223,  292,  334,  431,\n                           668,  868, 1147, 1466, 1744, 2055,  246, 2940, 3488, 4132, 4791, 5414,\n                          5801, 6211, 6847, 7355], dtype=int64),\n              'yaxis': 'y'},\n             {'hoverlabel': {'namelength': 0},\n              'hovertemplate': 'CCAA=Catalunya<br>doc=%{x}<br>Infectados=%{y}',\n              'legendgroup': 'Catalunya',\n              'line': {'color': '#FF97FF', 'dash': 'solid'},\n              'mode': 'lines',\n              'name': 'Catalunya',\n              'showlegend': True,\n              'type': 'scatter',\n              'x': array([36, 37, 38, 39, 40, 41, 42, 43, 44, 45, 46, 47, 48, 49, 50, 51, 52, 53,\n                          54, 55, 56, 57, 58, 59, 60, 61, 62, 63], dtype=int64),\n              'xaxis': 'x',\n              'y': array([   15,    24,    24,    75,   124,   156,   260,   316,   509,   715,\n                            903,  1394,  1865,  2702,   327,  4203,  4704,  5925,  7864,  9937,\n                          11592, 12940, 14263, 15026, 16157, 18773, 19991, 21804], dtype=int64),\n              'yaxis': 'y'},\n             {'hoverlabel': {'namelength': 0},\n              'hovertemplate': 'CCAA=Ceuta<br>doc=%{x}<br>Infectados=%{y}',\n              'legendgroup': 'Ceuta',\n              'line': {'color': '#FECB52', 'dash': 'solid'},\n              'mode': 'lines',\n              'name': 'Ceuta',\n              'showlegend': True,\n              'type': 'scatter',\n              'x': array([36, 37, 38, 39, 40, 41, 42, 43, 44, 45, 46, 47, 48, 49, 50, 51, 52, 53,\n                          54, 55, 56, 57, 58, 59, 60, 61, 62, 63], dtype=int64),\n              'xaxis': 'x',\n              'y': array([ 0,  0,  0,  0,  0,  0,  0,  0,  0,  1,  1,  1,  1,  1,  5,  5,  5,  6,\n                           6,  9, 10, 17, 17, 21, 25, 34, 51, 55], dtype=int64),\n              'yaxis': 'y'},\n             {'hoverlabel': {'namelength': 0},\n              'hovertemplate': 'CCAA=C. Valenciana<br>doc=%{x}<br>Infectados=%{y}',\n              'legendgroup': 'C. Valenciana',\n              'line': {'color': '#636efa', 'dash': 'solid'},\n              'mode': 'lines',\n              'name': 'C. Valenciana',\n              'showlegend': True,\n              'type': 'scatter',\n              'x': array([36, 37, 38, 39, 40, 41, 42, 43, 44, 45, 46, 47, 48, 49, 50, 51, 52, 53,\n                          54, 55, 56, 57, 58, 59, 60, 61, 62, 63], dtype=int64),\n              'xaxis': 'x',\n              'y': array([  19,   19,   30,   37,   50,   65,   76,   94,  130,  409,  409,  541,\n                           726,  921, 1105, 1363, 1604, 1901, 2167, 2616, 3200, 3532, 4034, 4784,\n                          5110, 5508, 5922, 6308], dtype=int64),\n              'yaxis': 'y'},\n             {'hoverlabel': {'namelength': 0},\n              'hovertemplate': 'CCAA=Extremadura<br>doc=%{x}<br>Infectados=%{y}',\n              'legendgroup': 'Extremadura',\n              'line': {'color': '#EF553B', 'dash': 'solid'},\n              'mode': 'lines',\n              'name': 'Extremadura',\n              'showlegend': True,\n              'type': 'scatter',\n              'x': array([36, 37, 38, 39, 40, 41, 42, 43, 44, 45, 46, 47, 48, 49, 50, 51, 52, 53,\n                          54, 55, 56, 57, 58, 59, 60, 61, 62, 63], dtype=int64),\n              'xaxis': 'x',\n              'y': array([   6,    6,    6,    7,    8,    9,   19,   39,   66,   95,  111,  153,\n                           194,  241,  297,  354,  384,  493,  636,  742,  969, 1231, 1394, 1456,\n                          1560, 1628, 1679, 1837], dtype=int64),\n              'yaxis': 'y'},\n             {'hoverlabel': {'namelength': 0},\n              'hovertemplate': 'CCAA=Galicia<br>doc=%{x}<br>Infectados=%{y}',\n              'legendgroup': 'Galicia',\n              'line': {'color': '#00cc96', 'dash': 'solid'},\n              'mode': 'lines',\n              'name': 'Galicia',\n              'showlegend': True,\n              'type': 'scatter',\n              'x': array([36, 37, 38, 39, 40, 41, 42, 43, 44, 45, 46, 47, 48, 49, 50, 51, 52, 53,\n                          54, 55, 56, 57, 58, 59, 60, 61, 62, 63], dtype=int64),\n              'xaxis': 'x',\n              'y': array([   1,    1,    3,    6,   22,   39,   35,   85,  115,  195,  245,  292,\n                           341,  453,  578,  739,  915, 1208, 1415, 1653, 1915, 2322, 2772, 3139,\n                          3723, 4039, 4432, 4842], dtype=int64),\n              'yaxis': 'y'},\n             {'hoverlabel': {'namelength': 0},\n              'hovertemplate': 'CCAA=Madrid<br>doc=%{x}<br>Infectados=%{y}',\n              'legendgroup': 'Madrid',\n              'line': {'color': '#ab63fa', 'dash': 'solid'},\n              'mode': 'lines',\n              'name': 'Madrid',\n              'showlegend': True,\n              'type': 'scatter',\n              'x': array([36, 37, 38, 39, 40, 41, 42, 43, 44, 45, 46, 47, 48, 49, 50, 51, 52, 53,\n                          54, 55, 56, 57, 58, 59, 60, 61, 62, 63], dtype=int64),\n              'xaxis': 'x',\n              'y': array([   70,    90,   137,   469,   782,  1024,  1388,  1990,  2940,  3544,\n                           4165,  4871,  5637,  6777,  7165,  8921,  9702, 10575, 12352, 14597,\n                          17166, 19243, 21520, 22677, 24090, 27509, 29840, 32155], dtype=int64),\n              'yaxis': 'y'},\n             {'hoverlabel': {'namelength': 0},\n              'hovertemplate': 'CCAA=Melilla<br>doc=%{x}<br>Infectados=%{y}',\n              'legendgroup': 'Melilla',\n              'line': {'color': '#FFA15A', 'dash': 'solid'},\n              'mode': 'lines',\n              'name': 'Melilla',\n              'showlegend': True,\n              'type': 'scatter',\n              'x': array([36, 37, 38, 39, 40, 41, 42, 43, 44, 45, 46, 47, 48, 49, 50, 51, 52, 53,\n                          54, 55, 56, 57, 58, 59, 60, 61, 62, 63], dtype=int64),\n              'xaxis': 'x',\n              'y': array([ 0,  0,  0,  0,  0,  0,  0,  2,  3,  8,  8, 17, 20, 23, 24, 25, 25, 28,\n                          28, 38, 39, 42, 45, 48, 51, 54, 62, 62], dtype=int64),\n              'yaxis': 'y'},\n             {'hoverlabel': {'namelength': 0},\n              'hovertemplate': 'CCAA=Murcia<br>doc=%{x}<br>Infectados=%{y}',\n              'legendgroup': 'Murcia',\n              'line': {'color': '#19d3f3', 'dash': 'solid'},\n              'mode': 'lines',\n              'name': 'Murcia',\n              'showlegend': True,\n              'type': 'scatter',\n              'x': array([36, 37, 38, 39, 40, 41, 42, 43, 44, 45, 46, 47, 48, 49, 50, 51, 52, 53,\n                          54, 55, 56, 57, 58, 59, 60, 61, 62, 63], dtype=int64),\n              'xaxis': 'x',\n              'y': array([   0,    0,    0,    4,    9,   11,   26,   35,   47,   71,   77,   97,\n                           122,  167,  204,  240,  296,  345,  385,  477,  596,  714,  802,  872,\n                           939,  974, 1041, 1084], dtype=int64),\n              'yaxis': 'y'},\n             {'hoverlabel': {'namelength': 0},\n              'hovertemplate': 'CCAA=Navarra<br>doc=%{x}<br>Infectados=%{y}',\n              'legendgroup': 'Navarra',\n              'line': {'color': '#FF6692', 'dash': 'solid'},\n              'mode': 'lines',\n              'name': 'Navarra',\n              'showlegend': True,\n              'type': 'scatter',\n              'x': array([36, 37, 38, 39, 40, 41, 42, 43, 44, 45, 46, 47, 48, 49, 50, 51, 52, 53,\n                          54, 55, 56, 57, 58, 59, 60, 61, 62, 63], dtype=int64),\n              'xaxis': 'x',\n              'y': array([   3,    3,    3,    3,   12,   46,   73,  130,  146,  183,  274,  313,\n                           386,  482,  554,  664,  794,  886, 1014, 1197, 1411, 1641, 1829, 2011,\n                          2146, 2305, 2497, 2682], dtype=int64),\n              'yaxis': 'y'},\n             {'hoverlabel': {'namelength': 0},\n              'hovertemplate': 'CCAA=Pais Vasco<br>doc=%{x}<br>Infectados=%{y}',\n              'legendgroup': 'Pais Vasco',\n              'line': {'color': '#B6E880', 'dash': 'solid'},\n              'mode': 'lines',\n              'name': 'Pais Vasco',\n              'showlegend': True,\n              'type': 'scatter',\n              'x': array([36, 37, 38, 39, 40, 41, 42, 43, 44, 45, 46, 47, 48, 49, 50, 51, 52, 53,\n                          54, 55, 56, 57, 58, 59, 60, 61, 62, 63], dtype=int64),\n              'xaxis': 'x',\n              'y': array([  17,   17,   45,  149,  195,  225,  346,  417,  417,  630,  630,  765,\n                           973,  119, 1465, 1725, 2097, 2421, 2728, 3271, 3946, 4601, 5136, 5740,\n                          6057, 6320, 6838, 7317], dtype=int64),\n              'yaxis': 'y'},\n             {'hoverlabel': {'namelength': 0},\n              'hovertemplate': 'CCAA=La Rioja<br>doc=%{x}<br>Infectados=%{y}',\n              'legendgroup': 'La Rioja',\n              'line': {'color': '#FF97FF', 'dash': 'solid'},\n              'mode': 'lines',\n              'name': 'La Rioja',\n              'showlegend': True,\n              'type': 'scatter',\n              'x': array([36, 37, 38, 39, 40, 41, 42, 43, 44, 45, 46, 47, 48, 49, 50, 51, 52, 53,\n                          54, 55, 56, 57, 58, 59, 60, 61, 62, 63], dtype=int64),\n              'xaxis': 'x',\n              'y': array([   7,   11,   29,   81,  144,  179,  205,  243,  278,  300,  312,  355,\n                           419,  468,  497,  564,  654,  747,  802,  928,  995, 1236, 1436, 1629,\n                          1733, 1810, 1960, 2083], dtype=int64),\n              'yaxis': 'y'}],\n    'layout': {'legend': {'title': {'text': 'CCAA'}, 'tracegroupgap': 0},\n               'margin': {'t': 60},\n               'template': '...',\n               'xaxis': {'anchor': 'y', 'domain': [0.0, 1.0], 'title': {'text': 'doc'}},\n               'yaxis': {'anchor': 'x', 'domain': [0.0, 1.0], 'title': {'text': 'Infectados'}}}\n}) <class 'plotly.graph_objs._figure.Figure'> was specified."
     ]
    }
   ],
   "source": [
    "fig1.layout.width = 'auto'\n",
    "fig1.layout.height = 'auto'\n",
    "fig1.layout.min_height = '300px' # so it still shows nicely in the notebook\n",
    "\n",
    "v.Tabs(_metadata={'mount_id': 'content-main'}, children=[\n",
    "    v.Tab(children=['CCAA']),\n",
    "    v.Tab(children=['Demography']),\n",
    "    v.TabItem(children=[\n",
    "        v.Layout(row=True, wrap=True, align_center=True, children=[\n",
    "            v.Flex(xs12=True, lg6=True, xl4=True, children=[\n",
    "                fig_exp\n",
    "            ]),\n",
    "            v.Flex(xs12=True, lg6=True, xl4=True, children=[\n",
    "                fig_exp\n",
    "            ]),\n",
    "            v.Flex(xs12=True, xl4=True, children=[\n",
    "                fig_exp\n",
    "            ]),\n",
    "        ])\n",
    "    ]),\n",
    "    v.TabItem(children=[\n",
    "                v.Layout(row=True, wrap=True, align_center=True, children=[\n",
    "            v.Flex(xs12=True, lg6=True, xl4=True, children=[\n",
    "                fig_exp\n",
    "            ]),\n",
    "            v.Flex(xs12=True, lg6=True, xl4=True, children=[\n",
    "                fig_exp\n",
    "            ]),\n",
    "            v.Flex(xs12=True, xl4=True, children=[\n",
    "                fig_exp\n",
    "            ]),\n",
    "        ])\n",
    "    ]),\n",
    "])"
   ]
  }
 ],
 "metadata": {
  "kernelspec": {
   "display_name": "Python 3",
   "language": "python",
   "name": "python3"
  },
  "language_info": {
   "codemirror_mode": {
    "name": "ipython",
    "version": 3
   },
   "file_extension": ".py",
   "mimetype": "text/x-python",
   "name": "python",
   "nbconvert_exporter": "python",
   "pygments_lexer": "ipython3",
   "version": "3.7.2"
  }
 },
 "nbformat": 4,
 "nbformat_minor": 4
}
