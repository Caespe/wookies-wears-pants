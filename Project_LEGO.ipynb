{
  "nbformat": 4,
  "nbformat_minor": 0,
  "metadata": {
    "kernelspec": {
      "name": "python3",
      "display_name": "Python 3",
      "language": "python"
    },
    "language_info": {
      "name": "python",
      "nbconvert_exporter": "python",
      "codemirror_mode": {
        "name": "ipython",
        "version": 3
      },
      "mimetype": "text/x-python",
      "file_extension": ".py",
      "pygments_lexer": "ipython3",
      "version": "3.5.2"
    },
    "colab": {
      "name": "Project_LEGO.ipynb",
      "provenance": [],
      "collapsed_sections": [],
      "include_colab_link": true
    }
  },
  "cells": [
    {
      "cell_type": "markdown",
      "metadata": {
        "id": "view-in-github",
        "colab_type": "text"
      },
      "source": [
        "<a href=\"https://colab.research.google.com/github/Caespe/wookies-wears-pants/blob/master/Project_LEGO.ipynb\" target=\"_parent\"><img src=\"https://colab.research.google.com/assets/colab-badge.svg\" alt=\"Open In Colab\"/></a>"
      ]
    },
    {
      "cell_type": "markdown",
      "metadata": {
        "deletable": false,
        "dc": {
          "key": "1d0b086e6c"
        },
        "run_control": {
          "frozen": true
        },
        "editable": false,
        "tags": [
          "context"
        ],
        "id": "KvdjVsz9-KhE",
        "colab_type": "text"
      },
      "source": [
        "## 1. Introduction\n",
        "<p>Everyone loves Lego (unless you ever stepped on one). Did you know by the way that \"Lego\" was derived from the Danish phrase leg godt, which means \"play well\"? Unless you speak Danish, probably not. </p>\n",
        "<p>In this project, we will analyze a fascinating dataset on every single lego block that has ever been built!</p>\n",
        "<p><img src=\"https://s3.amazonaws.com/assets.datacamp.com/production/project_10/datasets/lego-bricks.jpeg\" alt=\"lego\"></p>"
      ]
    },
    {
      "cell_type": "code",
      "metadata": {
        "trusted": true,
        "dc": {
          "key": "1d0b086e6c"
        },
        "tags": [
          "sample_code"
        ],
        "id": "zL3ZBAfC-KhG",
        "colab_type": "code",
        "colab": {
          "base_uri": "https://localhost:8080/",
          "height": 102
        },
        "outputId": "13fd52a4-3908-45ec-eccd-c926036d28e1"
      },
      "source": [
        "# Importing libraries and Google identification\n",
        "from google.colab import auth\n",
        "auth.authenticate_user()\n",
        "\n",
        "from pydrive.drive import GoogleDrive\n",
        "from pydrive.auth import GoogleAuth\n",
        "from oauth2client.client import GoogleCredentials\n",
        "gauth = GoogleAuth()\n",
        "gauth.credentials = GoogleCredentials.get_application_default()\n",
        "drive = GoogleDrive(gauth)\n",
        "\n",
        "# Google Drive to colab\n",
        "fileList = drive.ListFile({'q': \"'1yteN0J9ZSlTP3o7ozaDisKJycE1-FVs8' in parents and trashed=false\"}).GetList()\n",
        "for file in fileList:\n",
        "  print('Title: %s, ID: %s' % (file['title'], file['id']))\n",
        "\n",
        "# Get the folder ID that you want\n",
        "if(file['title'] == \"First Trial\"):\n",
        "  fileID = file['id']\n",
        "\n",
        "# Get content file from Drive\n",
        "# sets.csv\n",
        "myfile_sets = drive.CreateFile({'id': '1IGKMUN6Oe9h_Nf4cjGw5DRwMJZEiQNbZ'})\n",
        "myfile_sets.GetContentFile('sets.csv')\n",
        "\n",
        "# colors.csv\n",
        "myfile_sets = drive.CreateFile({'id': '1btbFdt9SwvQk3Ersj-z-Y2pOkxIJlHYN'})\n",
        "myfile_sets.GetContentFile('colors.csv')"
      ],
      "execution_count": 6,
      "outputs": [
        {
          "output_type": "stream",
          "text": [
            "Title: Project_SuperBowl.ipynb, ID: 1dXgFE_IBaRcJFyWtd78aYJJ1ViCvM1lK\n",
            "Title: tv.csv, ID: 1thTKvshYQEhui5GX5Dks8gj4x8FPyLn7\n",
            "Title: super_bowls.csv, ID: 1er1_pPkyKv7WxJLHF0gq2iCCfCVVfeeY\n",
            "Title: halftime_musicians.csv, ID: 1gZgYSteXnOkcYhou_x68bLDDEL7LnP4b\n",
            "Title: trial.ipynb, ID: 1fsG2CT2hJR8TztiEhxPFuMqvVY2gpaus\n"
          ],
          "name": "stdout"
        }
      ]
    },
    {
      "cell_type": "markdown",
      "metadata": {
        "deletable": false,
        "dc": {
          "key": "044b2cef41"
        },
        "run_control": {
          "frozen": true
        },
        "editable": false,
        "tags": [
          "context"
        ],
        "id": "OX_1795s-KhK",
        "colab_type": "text"
      },
      "source": [
        "## 2. Reading Data\n",
        "<p>A comprehensive database of lego blocks is provided by <a href=\"https://rebrickable.com/downloads/\">Rebrickable</a>. The data is available as csv files and the schema is shown below.</p>\n",
        "<p><img src=\"https://s3.amazonaws.com/assets.datacamp.com/production/project_10/datasets/downloads_schema.png\" alt=\"schema\"></p>\n",
        "<p>Let us start by reading in the colors data to get a sense of the diversity of lego sets!</p>"
      ]
    },
    {
      "cell_type": "code",
      "metadata": {
        "trusted": true,
        "dc": {
          "key": "044b2cef41"
        },
        "tags": [
          "sample_code"
        ],
        "id": "o0ovIAAN-KhL",
        "colab_type": "code",
        "colab": {
          "base_uri": "https://localhost:8080/",
          "height": 204
        },
        "outputId": "7f33dcac-a47e-4356-897c-9b966671924d"
      },
      "source": [
        "# Import modules\n",
        "import pandas as pd\n",
        "\n",
        "# Read colors data\n",
        "colors = pd.read_csv('colors.csv')\n",
        "\n",
        "# Print the first few rows\n",
        "colors.head()"
      ],
      "execution_count": 7,
      "outputs": [
        {
          "output_type": "execute_result",
          "data": {
            "text/html": [
              "<div>\n",
              "<style scoped>\n",
              "    .dataframe tbody tr th:only-of-type {\n",
              "        vertical-align: middle;\n",
              "    }\n",
              "\n",
              "    .dataframe tbody tr th {\n",
              "        vertical-align: top;\n",
              "    }\n",
              "\n",
              "    .dataframe thead th {\n",
              "        text-align: right;\n",
              "    }\n",
              "</style>\n",
              "<table border=\"1\" class=\"dataframe\">\n",
              "  <thead>\n",
              "    <tr style=\"text-align: right;\">\n",
              "      <th></th>\n",
              "      <th>id</th>\n",
              "      <th>name</th>\n",
              "      <th>rgb</th>\n",
              "      <th>is_trans</th>\n",
              "    </tr>\n",
              "  </thead>\n",
              "  <tbody>\n",
              "    <tr>\n",
              "      <th>0</th>\n",
              "      <td>-1</td>\n",
              "      <td>Unknown</td>\n",
              "      <td>0033B2</td>\n",
              "      <td>f</td>\n",
              "    </tr>\n",
              "    <tr>\n",
              "      <th>1</th>\n",
              "      <td>0</td>\n",
              "      <td>Black</td>\n",
              "      <td>05131D</td>\n",
              "      <td>f</td>\n",
              "    </tr>\n",
              "    <tr>\n",
              "      <th>2</th>\n",
              "      <td>1</td>\n",
              "      <td>Blue</td>\n",
              "      <td>0055BF</td>\n",
              "      <td>f</td>\n",
              "    </tr>\n",
              "    <tr>\n",
              "      <th>3</th>\n",
              "      <td>2</td>\n",
              "      <td>Green</td>\n",
              "      <td>237841</td>\n",
              "      <td>f</td>\n",
              "    </tr>\n",
              "    <tr>\n",
              "      <th>4</th>\n",
              "      <td>3</td>\n",
              "      <td>Dark Turquoise</td>\n",
              "      <td>008F9B</td>\n",
              "      <td>f</td>\n",
              "    </tr>\n",
              "  </tbody>\n",
              "</table>\n",
              "</div>"
            ],
            "text/plain": [
              "   id            name     rgb is_trans\n",
              "0  -1         Unknown  0033B2        f\n",
              "1   0           Black  05131D        f\n",
              "2   1            Blue  0055BF        f\n",
              "3   2           Green  237841        f\n",
              "4   3  Dark Turquoise  008F9B        f"
            ]
          },
          "metadata": {
            "tags": []
          },
          "execution_count": 7
        }
      ]
    },
    {
      "cell_type": "markdown",
      "metadata": {
        "deletable": false,
        "dc": {
          "key": "15c1e2ce38"
        },
        "run_control": {
          "frozen": true
        },
        "editable": false,
        "tags": [
          "context"
        ],
        "id": "arBJ3R8E-KhO",
        "colab_type": "text"
      },
      "source": [
        "## 3. Exploring Colors\n",
        "<p>Now that we have read the <code>colors</code> data, we can start exploring it! Let us start by understanding the number of colors available.</p>"
      ]
    },
    {
      "cell_type": "code",
      "metadata": {
        "trusted": true,
        "dc": {
          "key": "15c1e2ce38"
        },
        "tags": [
          "sample_code"
        ],
        "id": "zvhQ4_Do-KhP",
        "colab_type": "code",
        "colab": {
          "base_uri": "https://localhost:8080/",
          "height": 34
        },
        "outputId": "e2ec6f58-11df-4570-f0a3-8a5eab7c9dcb"
      },
      "source": [
        "# How many distinct colors are available?\n",
        "num_colors = colors.rgb.count()\n",
        "print('Number of colors:', num_colors)"
      ],
      "execution_count": 8,
      "outputs": [
        {
          "output_type": "stream",
          "text": [
            "Number of colors: 135\n"
          ],
          "name": "stdout"
        }
      ]
    },
    {
      "cell_type": "markdown",
      "metadata": {
        "deletable": false,
        "dc": {
          "key": "a5723ae5c2"
        },
        "run_control": {
          "frozen": true
        },
        "editable": false,
        "tags": [
          "context"
        ],
        "id": "REiMcd3F-KhS",
        "colab_type": "text"
      },
      "source": [
        "## 4. Transparent Colors in Lego Sets\n",
        "<p>The <code>colors</code> data has a column named <code>is_trans</code> that indicates whether a color is transparent or not. It would be interesting to explore the distribution of transparent vs. non-transparent colors.</p>"
      ]
    },
    {
      "cell_type": "code",
      "metadata": {
        "trusted": true,
        "dc": {
          "key": "a5723ae5c2"
        },
        "tags": [
          "sample_code"
        ],
        "id": "lz-YY2jI-KhT",
        "colab_type": "code",
        "colab": {
          "base_uri": "https://localhost:8080/",
          "height": 68
        },
        "outputId": "ac0c6a95-205d-4d7b-fd0d-6068175fb624"
      },
      "source": [
        "# colors_summary: Distribution of colors based on transparency\n",
        "colors_summary = colors.groupby('is_trans', as_index=False).count()\n",
        "print(colors_summary)"
      ],
      "execution_count": 13,
      "outputs": [
        {
          "output_type": "stream",
          "text": [
            "  is_trans   id  name  rgb\n",
            "0        f  107   107  107\n",
            "1        t   28    28   28\n"
          ],
          "name": "stdout"
        }
      ]
    },
    {
      "cell_type": "markdown",
      "metadata": {
        "deletable": false,
        "dc": {
          "key": "c9d0e58653"
        },
        "run_control": {
          "frozen": true
        },
        "editable": false,
        "tags": [
          "context"
        ],
        "id": "7wxDatxH-KhV",
        "colab_type": "text"
      },
      "source": [
        "## 5. Explore Lego Sets\n",
        "<p>Another interesting dataset available in this database is the <code>sets</code> data. It contains a comprehensive list of sets over the years and the number of parts that each of these sets contained. </p>\n",
        "<p><img src=\"https://imgur.com/1k4PoXs.png\" alt=\"sets_data\"></p>\n",
        "<p>Let us use this data to explore how the average number of parts in Lego sets has varied over the years.</p>"
      ]
    },
    {
      "cell_type": "code",
      "metadata": {
        "trusted": true,
        "dc": {
          "key": "c9d0e58653"
        },
        "tags": [
          "sample_code"
        ],
        "id": "JN2S0Sc--KhW",
        "colab_type": "code",
        "colab": {
          "base_uri": "https://localhost:8080/",
          "height": 282
        },
        "outputId": "7a2f5b27-9bbc-4f3f-81e6-1e89475dc43a"
      },
      "source": [
        "%matplotlib inline\n",
        "# Read sets data as `sets`\n",
        "sets = pd.read_csv('sets.csv')\n",
        "# Create a summary of average number of parts by year: `parts_by_year`\n",
        "parts_by_year = sets.groupby('year', as_index=False).num_parts.mean()\n",
        "# Plot trends in average number of parts by year\n",
        "parts_by_year.plot()"
      ],
      "execution_count": 14,
      "outputs": [
        {
          "output_type": "execute_result",
          "data": {
            "text/plain": [
              "<matplotlib.axes._subplots.AxesSubplot at 0x7f2076bbccf8>"
            ]
          },
          "metadata": {
            "tags": []
          },
          "execution_count": 14
        },
        {
          "output_type": "display_data",
          "data": {
            "image/png": "[encoded data removed]",
            "text/plain": [
              "<Figure size 432x288 with 1 Axes>"
            ]
          },
          "metadata": {
            "tags": []
          }
        }
      ]
    },
    {
      "cell_type": "markdown",
      "metadata": {
        "deletable": false,
        "dc": {
          "key": "266a3f390c"
        },
        "run_control": {
          "frozen": true
        },
        "editable": false,
        "tags": [
          "context"
        ],
        "id": "Ebm2Me5u-KhZ",
        "colab_type": "text"
      },
      "source": [
        "## 6. Lego Themes Over Years\n",
        "<p>Lego blocks ship under multiple <a href=\"https://shop.lego.com/en-US/Themes\">themes</a>. Let us try to get a sense of how the number of themes shipped has varied over the years.</p>"
      ]
    },
    {
      "cell_type": "code",
      "metadata": {
        "trusted": true,
        "dc": {
          "key": "266a3f390c"
        },
        "tags": [
          "sample_code"
        ],
        "id": "Ky9MS9ut-Kha",
        "colab_type": "code",
        "colab": {
          "base_uri": "https://localhost:8080/",
          "height": 68
        },
        "outputId": "c11db0b4-a791-4d8a-ad73-78a04a4c1aeb"
      },
      "source": [
        "# themes_by_year: Number of themes shipped by year\n",
        "themes_by_year = sets[['year', 'theme_id']].groupby('year', as_index=False).count()\n",
        "print(themes_by_year.head(2))"
      ],
      "execution_count": 15,
      "outputs": [
        {
          "output_type": "stream",
          "text": [
            "   year  theme_id\n",
            "0  1950         7\n",
            "1  1953         4\n"
          ],
          "name": "stdout"
        }
      ]
    },
    {
      "cell_type": "markdown",
      "metadata": {
        "deletable": false,
        "dc": {
          "key": "a293e5076e"
        },
        "run_control": {
          "frozen": true
        },
        "editable": false,
        "tags": [
          "context"
        ],
        "id": "f13snu2I-Khc",
        "colab_type": "text"
      },
      "source": [
        "## 7. Wrapping It All Up!\n",
        "<p>Lego blocks offer an unlimited amount of fun across ages. We explored some interesting trends around colors, parts, and themes. </p>"
      ]
    },
    {
      "cell_type": "code",
      "metadata": {
        "trusted": true,
        "dc": {
          "key": "a293e5076e"
        },
        "tags": [
          "sample_code"
        ],
        "id": "Dzd9CCui-Khd",
        "colab_type": "code",
        "colab": {}
      },
      "source": [
        "# Nothing to do here"
      ],
      "execution_count": 0,
      "outputs": []
    }
  ]
}