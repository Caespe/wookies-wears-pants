{
  "nbformat": 4,
  "nbformat_minor": 0,
  "metadata": {
    "colab": {
      "name": "Python_basics.ipynb",
      "provenance": [],
      "collapsed_sections": [],
      "toc_visible": true,
      "authorship_tag": "ABX9TyNyd1L/FiPdWZREa1Wdwm7V",
      "include_colab_link": true
    },
    "kernelspec": {
      "name": "python3",
      "display_name": "Python 3"
    }
  },
  "cells": [
    {
      "cell_type": "markdown",
      "metadata": {
        "id": "view-in-github",
        "colab_type": "text"
      },
      "source": [
        "<a href=\"https://colab.research.google.com/github/Caespe/wookies-wears-pants/blob/master/Python_basics.ipynb\" target=\"_parent\"><img src=\"https://colab.research.google.com/assets/colab-badge.svg\" alt=\"Open In Colab\"/></a>"
      ]
    },
    {
      "cell_type": "markdown",
      "metadata": {
        "id": "9CDDAsRwuouk",
        "colab_type": "text"
      },
      "source": [
        "# 0. Hello World"
      ]
    },
    {
      "cell_type": "code",
      "metadata": {
        "id": "oD2aWkobWdoz",
        "colab_type": "code",
        "outputId": "877fb9c8-8ce2-4a78-9c6c-cf34af76320b",
        "colab": {
          "base_uri": "https://localhost:8080/",
          "height": 34
        }
      },
      "source": [
        "x = [0, 1, 2, 4]\n",
        "y = 3\n",
        "\n",
        "if y == 'Calculate':\n",
        "   for i in x:\n",
        "     i = i + 1\n",
        "     print(i)\n",
        "elif y == 0:\n",
        "   print('You got 0!')\n",
        "else:\n",
        "   print('You got 1!')"
      ],
      "execution_count": 1,
      "outputs": [
        {
          "output_type": "stream",
          "text": [
            "You got 1!\n"
          ],
          "name": "stdout"
        }
      ]
    },
    {
      "cell_type": "markdown",
      "metadata": {
        "id": "nAPt390dutJA",
        "colab_type": "text"
      },
      "source": [
        "# 1. Uploading csv from io to colab. Ways of filtering"
      ]
    },
    {
      "cell_type": "code",
      "metadata": {
        "id": "6bi-iVnQBGzO",
        "colab_type": "code",
        "colab": {
          "resources": {
            "http://localhost:8080/nbextensions/google.colab/files.js": {
              "data": "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",
              "ok": true,
              "headers": [
                [
                  "content-type",
                  "application/javascript"
                ]
              ],
              "status": 200,
              "status_text": ""
            }
          },
          "base_uri": "https://localhost:8080/",
          "height": 643
        },
        "outputId": "bcb38654-dcf9-4e61-d117-6c42d6e760b9"
      },
      "source": [
        "import pandas as pd\n",
        "import numpy as np\n",
        "import io\n",
        "from google.colab import files\n",
        "\n",
        "# Upload files\n",
        "uploaded = files.upload()\n",
        "tv = pd.read_csv(io.StringIO(uploaded['tv.csv'].decode('utf-8')))\n",
        "\n",
        "print(tv.head())\n",
        "\n",
        "# numpy filtering\n",
        "filtered = tv[np.logical_and(tv['rating_household'] > 45, tv['share_household'] > 70)]\n",
        "print(filtered.head())\n",
        "\n",
        "# filtering using conditions\n",
        "cond = tv[(tv.network == 'Fox') & (tv.share_household == 73)]\n",
        "print(cond.head())\n",
        "\n",
        "# filtering with loc, iloc\n",
        "locate1 = tv.loc[tv['rating_household'] > 45]\n",
        "print(locate1.head())\n",
        "\n",
        "locate2 = tv.iloc[:-50, 2] # printing avg_us_viewers from tv.csv\n",
        "print(locate2.tail())"
      ],
      "execution_count": 8,
      "outputs": [
        {
          "output_type": "display_data",
          "data": {
            "text/html": [
              "\n",
              "     <input type=\"file\" id=\"files-cffc2ac8-13ad-46e1-aa2c-ae1eaee02b69\" name=\"files[]\" multiple disabled />\n",
              "     <output id=\"result-cffc2ac8-13ad-46e1-aa2c-ae1eaee02b69\">\n",
              "      Upload widget is only available when the cell has been executed in the\n",
              "      current browser session. Please rerun this cell to enable.\n",
              "      </output>\n",
              "      <script src=\"/nbextensions/google.colab/files.js\"></script> "
            ],
            "text/plain": [
              "<IPython.core.display.HTML object>"
            ]
          },
          "metadata": {
            "tags": []
          }
        },
        {
          "output_type": "stream",
          "text": [
            "Saving tv.csv to tv (2).csv\n",
            "   super_bowl network  avg_us_viewers  ...  rating_18_49  share_18_49  ad_cost\n",
            "0          52     NBC       103390000  ...          33.4         78.0  5000000\n",
            "1          51     Fox       111319000  ...          37.1         79.0  5000000\n",
            "2          50     CBS       111864000  ...          37.7         79.0  5000000\n",
            "3          49     NBC       114442000  ...          39.1         79.0  4500000\n",
            "4          48     Fox       112191000  ...          39.3         77.0  4000000\n",
            "\n",
            "[5 rows x 9 columns]\n",
            "    super_bowl network  avg_us_viewers  ...  rating_18_49  share_18_49  ad_cost\n",
            "1           51     Fox       111319000  ...          37.1         79.0  5000000\n",
            "2           50     CBS       111864000  ...          37.7         79.0  5000000\n",
            "3           49     NBC       114442000  ...          39.1         79.0  4500000\n",
            "6           46     NBC       111346000  ...          40.5          NaN  3500000\n",
            "34          18     CBS        77620000  ...           NaN          NaN   368200\n",
            "\n",
            "[5 rows x 9 columns]\n",
            "   super_bowl network  avg_us_viewers  ...  rating_18_49  share_18_49  ad_cost\n",
            "1          51     Fox       111319000  ...          37.1         79.0  5000000\n",
            "\n",
            "[1 rows x 9 columns]\n",
            "   super_bowl network  avg_us_viewers  ...  rating_18_49  share_18_49  ad_cost\n",
            "1          51     Fox       111319000  ...          37.1         79.0  5000000\n",
            "2          50     CBS       111864000  ...          37.7         79.0  5000000\n",
            "3          49     NBC       114442000  ...          39.1         79.0  4500000\n",
            "4          48     Fox       112191000  ...          39.3         77.0  4000000\n",
            "5          47     CBS       108693000  ...          39.7         77.0  4000000\n",
            "\n",
            "[5 rows x 9 columns]\n",
            "0    103390000\n",
            "1    111319000\n",
            "2    111864000\n",
            "Name: avg_us_viewers, dtype: int64\n"
          ],
          "name": "stdout"
        }
      ]
    },
    {
      "cell_type": "markdown",
      "metadata": {
        "id": "VISvYuHqu_Ib",
        "colab_type": "text"
      },
      "source": [
        "# 2. Object Oriented Programming (OOP) with python"
      ]
    },
    {
      "cell_type": "code",
      "metadata": {
        "id": "1tDXDoEMBXAz",
        "colab_type": "code",
        "colab": {
          "base_uri": "https://localhost:8080/",
          "height": 52
        },
        "outputId": "fc86ad5e-ea33-4e8c-cf26-6e266adccf32"
      },
      "source": [
        "# OOP - Declaring instance variables\n",
        "class Car:\n",
        "\n",
        "    wheels = 5\n",
        "\n",
        "    def __init__(self):\n",
        "        self.mil = 10\n",
        "        self.com = \"BMW\"\n",
        "\n",
        "c1 = Car()\n",
        "c2 = Car()\n",
        "\n",
        "c1.mil = 8\n",
        "Car.wheels = 4\n",
        "\n",
        "print(c1.com, c1.mil, c1.wheels)\n",
        "print(c2.com, c2.mil, c2.wheels)\n"
      ],
      "execution_count": 77,
      "outputs": [
        {
          "output_type": "stream",
          "text": [
            "BMW 8 4\n",
            "BMW 10 4\n"
          ],
          "name": "stdout"
        }
      ]
    },
    {
      "cell_type": "markdown",
      "metadata": {
        "id": "erjdIQuvvMvE",
        "colab_type": "text"
      },
      "source": [
        "# 3. Working with dictionaries"
      ]
    },
    {
      "cell_type": "code",
      "metadata": {
        "id": "9TVMDDBpDaFG",
        "colab_type": "code",
        "colab": {
          "base_uri": "https://localhost:8080/",
          "height": 354
        },
        "outputId": "e5a91f17-ac42-44ab-856b-58d76d49fbf7"
      },
      "source": [
        "# Declaring a dictionary\n",
        "dict = {\n",
        "\"country\":[\"Brazil\", \"Russia\", \"India\", \"China\", \"South Africa\"],\n",
        "\"capital\":[\"Brasilia\", \"Moscow\", \"New Delhi\", \"Beijing\", \"Pretoria\"],\n",
        "\"area\":[8.516, 17.10, 3.286, 9.597, 1.221],\n",
        "\"population\":[200.4, 143.5, 1252, 1357, 52.98]}\n",
        "\n",
        "# Conforming a DataFrame\n",
        "countries = pd.DataFrame(dict)\n",
        "print(countries.head())\n",
        "\n",
        "print(countries.items())\n",
        "print(countries.keys())\n",
        "print(countries.get_values())\n",
        "\n",
        "# Filtering\n",
        "new_co = countries.loc[2:4, [\"country\", \"capital\"]]\n",
        "print(new_co.head())"
      ],
      "execution_count": 116,
      "outputs": [
        {
          "output_type": "stream",
          "text": [
            "        country    capital    area  population\n",
            "0        Brazil   Brasilia   8.516      200.40\n",
            "1        Russia     Moscow  17.100      143.50\n",
            "2         India  New Delhi   3.286     1252.00\n",
            "3         China    Beijing   9.597     1357.00\n",
            "4  South Africa   Pretoria   1.221       52.98\n",
            "<generator object DataFrame.items at 0x7f638c86cf68>\n",
            "Index(['country', 'capital', 'area', 'population'], dtype='object')\n",
            "[['Brazil' 'Brasilia' 8.516 200.4]\n",
            " ['Russia' 'Moscow' 17.1 143.5]\n",
            " ['India' 'New Delhi' 3.286 1252.0]\n",
            " ['China' 'Beijing' 9.597 1357.0]\n",
            " ['South Africa' 'Pretoria' 1.221 52.98]]\n",
            "        country    capital\n",
            "2         India  New Delhi\n",
            "3         China    Beijing\n",
            "4  South Africa   Pretoria\n"
          ],
          "name": "stdout"
        },
        {
          "output_type": "stream",
          "text": [
            "/usr/local/lib/python3.6/dist-packages/ipykernel_launcher.py:13: FutureWarning: The 'get_values' method is deprecated and will be removed in a future version. Use '.values' or 'np.asarray(..)' instead.\n",
            "  del sys.path[0]\n"
          ],
          "name": "stderr"
        }
      ]
    },
    {
      "cell_type": "markdown",
      "metadata": {
        "id": "P2PpccgIvSFU",
        "colab_type": "text"
      },
      "source": [
        "# 4. Conditionals and Loops"
      ]
    },
    {
      "cell_type": "code",
      "metadata": {
        "id": "ZC31MXhoDfCD",
        "colab_type": "code",
        "colab": {
          "base_uri": "https://localhost:8080/",
          "height": 34
        },
        "outputId": "a91b9550-12fb-4023-d325-f58c04bc6585"
      },
      "source": [
        "# Conditionals (if, elif, else)\n",
        "z = 6\n",
        "if z % 2 == 0 :\n",
        "  print(\"z is divisible by 2\")\n",
        "elif z % 3 == 0 :\n",
        "  print(\"z is divisible by 3\")\n",
        "else :\n",
        "  print(\"z is neither divisible by 2 nor by 3\")"
      ],
      "execution_count": 11,
      "outputs": [
        {
          "output_type": "stream",
          "text": [
            "z is divisible by 2\n"
          ],
          "name": "stdout"
        }
      ]
    },
    {
      "cell_type": "code",
      "metadata": {
        "id": "QKurNdc5D7ek",
        "colab_type": "code",
        "colab": {
          "base_uri": "https://localhost:8080/",
          "height": 194
        },
        "outputId": "d3a1e453-793c-41ef-b685-040136a99421"
      },
      "source": [
        "# Loops (while, for, case)\n",
        "print(\"-> While to reduce error\")\n",
        "error = 50.0\n",
        "while error > 1 :\n",
        "  error = error / 4\n",
        "  print(error)\n",
        "\n",
        "print(\"\\n\" + \"-> For to output a couple of variables\")\n",
        "fam = [1.73, 1.68, 1.71, 1.89]\n",
        "for index, height in enumerate(fam) :\n",
        "  print(\"index \" + str(index) + \": \" + str(height))"
      ],
      "execution_count": 16,
      "outputs": [
        {
          "output_type": "stream",
          "text": [
            "-> While to reduce error\n",
            "12.5\n",
            "3.125\n",
            "0.78125\n",
            "\n",
            "-> For to output a couple of variables\n",
            "index 0: 1.73\n",
            "index 1: 1.68\n",
            "index 2: 1.71\n",
            "index 3: 1.89\n"
          ],
          "name": "stdout"
        }
      ]
    },
    {
      "cell_type": "code",
      "metadata": {
        "id": "v7ObJAUAOq5E",
        "colab_type": "code",
        "colab": {
          "base_uri": "https://localhost:8080/",
          "height": 70
        },
        "outputId": "af774703-2535-45fc-d815-12dcd4934c4c"
      },
      "source": [
        "# Loops + dictionaries\n",
        "world = { \"afghanistan\":30.55,\n",
        "\"albania\":2.77,\n",
        "\"algeria\":39.21 }\n",
        "for k, v in world.items() :\n",
        "  print(k + \" -- \" + str(v))"
      ],
      "execution_count": 19,
      "outputs": [
        {
          "output_type": "stream",
          "text": [
            "afghanistan -- 30.55\n",
            "albania -- 2.77\n",
            "algeria -- 39.21\n"
          ],
          "name": "stdout"
        }
      ]
    },
    {
      "cell_type": "code",
      "metadata": {
        "id": "G56CIJZDQScE",
        "colab_type": "code",
        "colab": {
          "base_uri": "https://localhost:8080/",
          "height": 105
        },
        "outputId": "8f7a08e8-d829-4839-c087-8f24b7a5fe0d"
      },
      "source": [
        "# Loops + arrays\n",
        "np_height = np.array([1.73, 1.68, 1.71, 1.89, 1.79])\n",
        "np_weight = np.array([65.4, 59.2, 63.6, 88.4, 68.7])\n",
        "\n",
        "np_bmi = np_weight / np_height ** 2\n",
        "np_bmi.astype(float)\n",
        "\n",
        "for i in np_bmi :\n",
        "  print(\"bmi: \"+ str(i))"
      ],
      "execution_count": 39,
      "outputs": [
        {
          "output_type": "stream",
          "text": [
            "bmi: 21.85171572722109\n",
            "bmi: 20.97505668934241\n",
            "bmi: 21.750282138093777\n",
            "bmi: 24.74734749867025\n",
            "bmi: 21.44127836209856\n"
          ],
          "name": "stdout"
        }
      ]
    },
    {
      "cell_type": "code",
      "metadata": {
        "id": "CQ6RSttZReLo",
        "colab_type": "code",
        "colab": {
          "base_uri": "https://localhost:8080/",
          "height": 283
        },
        "outputId": "2997c5ee-d508-4770-ea7c-1b4bdd2309be"
      },
      "source": [
        "np_hwb = np.array([np_bmi, np_height, np_weight])\n",
        "\n",
        "for val in np.nditer(np_hwb) :\n",
        "  print(val)"
      ],
      "execution_count": 40,
      "outputs": [
        {
          "output_type": "stream",
          "text": [
            "21.85171572722109\n",
            "20.97505668934241\n",
            "21.750282138093777\n",
            "24.74734749867025\n",
            "21.44127836209856\n",
            "1.73\n",
            "1.68\n",
            "1.71\n",
            "1.89\n",
            "1.79\n",
            "65.4\n",
            "59.2\n",
            "63.6\n",
            "88.4\n",
            "68.7\n"
          ],
          "name": "stdout"
        }
      ]
    },
    {
      "cell_type": "code",
      "metadata": {
        "id": "oNm9zptVSeQH",
        "colab_type": "code",
        "colab": {
          "resources": {
            "http://localhost:8080/nbextensions/google.colab/files.js": {
              "data": "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",
              "ok": true,
              "headers": [
                [
                  "content-type",
                  "application/javascript"
                ]
              ],
              "status": 200,
              "status_text": ""
            }
          },
          "base_uri": "https://localhost:8080/",
          "height": 323
        },
        "outputId": "d5bf56b9-f104-4a49-f86d-78d33dea6251"
      },
      "source": [
        "# reset_index when reading a csv\n",
        "uploaded_2 = files.upload()\n",
        "superbowl_ri = pd.read_csv(io.StringIO(uploaded_2['super_bowls.csv'].decode('utf-8')), index_col = 0)\n",
        "\n",
        "print(superbowl_ri.head(3))\n",
        "\n",
        "superbowl_ri['venue_length'] = superbowl_ri.venue.apply(len)\n",
        "print(superbowl_ri.head(3))"
      ],
      "execution_count": 47,
      "outputs": [
        {
          "output_type": "display_data",
          "data": {
            "text/html": [
              "\n",
              "     <input type=\"file\" id=\"files-88996b93-6aef-48fb-adfe-1ae1da415e2d\" name=\"files[]\" multiple disabled />\n",
              "     <output id=\"result-88996b93-6aef-48fb-adfe-1ae1da415e2d\">\n",
              "      Upload widget is only available when the cell has been executed in the\n",
              "      current browser session. Please rerun this cell to enable.\n",
              "      </output>\n",
              "      <script src=\"/nbextensions/google.colab/files.js\"></script> "
            ],
            "text/plain": [
              "<IPython.core.display.HTML object>"
            ]
          },
          "metadata": {
            "tags": []
          }
        },
        {
          "output_type": "stream",
          "text": [
            "Saving super_bowls.csv to super_bowls (4).csv\n",
            "            super_bowl              venue  ... combined_pts difference_pts\n",
            "date                                       ...                            \n",
            "2018-02-04          52  U.S. Bank Stadium  ...           74              8\n",
            "2017-02-05          51        NRG Stadium  ...           62              6\n",
            "2016-02-07          50     Levi's Stadium  ...           34             14\n",
            "\n",
            "[3 rows x 17 columns]\n",
            "            super_bowl              venue  ... difference_pts venue_length\n",
            "date                                       ...                            \n",
            "2018-02-04          52  U.S. Bank Stadium  ...              8           17\n",
            "2017-02-05          51        NRG Stadium  ...              6           11\n",
            "2016-02-07          50     Levi's Stadium  ...             14           14\n",
            "\n",
            "[3 rows x 18 columns]\n"
          ],
          "name": "stdout"
        }
      ]
    },
    {
      "cell_type": "markdown",
      "metadata": {
        "id": "lipVJPXrvdrC",
        "colab_type": "text"
      },
      "source": [
        "# 5. Functions, lambda functions and error handling"
      ]
    },
    {
      "cell_type": "code",
      "metadata": {
        "id": "UoKfoXgeUxFP",
        "colab_type": "code",
        "colab": {
          "base_uri": "https://localhost:8080/",
          "height": 176
        },
        "outputId": "4dce344c-4a7e-41a1-ffdf-44ec647e8328"
      },
      "source": [
        "# Functions - normal + tuple + lambda + error handling\n",
        "def square(value) :\n",
        "  \"\"\"Return the square of a value\"\"\"\n",
        "  try:\n",
        "    new_value = value ** 2\n",
        "    return new_value\n",
        "  except TypeError:\n",
        "    print('Error: [value] must be an int or float')\n",
        "\n",
        "print(square.__doc__)\n",
        "print(\"Square: \" + str(square(2)))\n",
        "print(\"Square: \" + str(square('2')))\n",
        "\n",
        "def raise_both(val1, val2) :\n",
        "  \"\"\"Return vl1 to the power of val2 and vice versa.\"\"\"\n",
        "  new_val1 = val1 ** val2\n",
        "  new_val2 = val2 ** val1\n",
        "\n",
        "  new_tuple = (new_val1, new_val2)\n",
        "\n",
        "  return new_tuple\n",
        "\n",
        "print(raise_both.__doc__)\n",
        "#print(\"Power val 1: \" + str(raise_both(2, 3)[0]))\n",
        "#print(\"Power val 2: \" + str(raise_both(2, 3)[1]))\n",
        "fun = raise_both(2, 3)\n",
        "\n",
        "for v in fun :\n",
        "  print(\"Power val: \" + str(v))\n",
        "\n",
        "# Same steps using lambda funtions\n",
        "raise_to_power = lambda x, y: x ** y\n",
        "print(\"Raised to power: \", raise_to_power(2, 3))\n",
        "\n",
        "# lambda funtion - return tuple\n",
        "power_tuple = lambda x, y: (x ** y, y ** x)\n",
        "print(\"Raise to x to y power and vice versa: \" + str(power_tuple(2, 3)))"
      ],
      "execution_count": 97,
      "outputs": [
        {
          "output_type": "stream",
          "text": [
            "Return the square of a value\n",
            "Square: 4\n",
            "Error: [value] must be an int or float\n",
            "Square: None\n",
            "Return vl1 to the power of val2 and vice versa.\n",
            "Power val: 8\n",
            "Power val: 9\n",
            "Raised to power:  8\n",
            "Raise to x to y power and vice versa: (8, 9)\n"
          ],
          "name": "stdout"
        }
      ]
    },
    {
      "cell_type": "markdown",
      "metadata": {
        "id": "QWwBIXaVvoIY",
        "colab_type": "text"
      },
      "source": [
        "# 6. Project: Random Walks - Monte Carlo random distribution"
      ]
    },
    {
      "cell_type": "code",
      "metadata": {
        "id": "gRaLac5zY4VN",
        "colab_type": "code",
        "colab": {
          "base_uri": "https://localhost:8080/",
          "height": 461
        },
        "outputId": "7e848b4f-d99b-41df-b4e4-b4d12de7a469"
      },
      "source": [
        "# Lil Project: RANDOM WALK\n",
        "import random\n",
        "\n",
        "def random_walk(n):\n",
        "  # n - number of steps - int type\n",
        "  # x, y - coordinates at the end of the random walk - returned as a tuple\n",
        "  \"\"\"Return coordinates after 'n' block random walk.\"\"\"\n",
        "  # Initialize coordinates\n",
        "  x = 0\n",
        "  y = 0\n",
        "\n",
        "  # Random walk loop\n",
        "  for i in range(n):\n",
        "    # Specify the list of the possible random choices\n",
        "    step = random.choice(['N', 'S', 'E', 'W'])\n",
        "    # Set the movement generated (coordinates change) after each random step\n",
        "    if step == 'N':\n",
        "      y = y + 1\n",
        "    elif step == 'S':\n",
        "      y = y - 1\n",
        "    elif step == 'E':\n",
        "      x = x + 1\n",
        "    else: # Condition for 'W' step\n",
        "      x = x - 1\n",
        "  return (x, y)\n",
        "\n",
        "# Random walk test\n",
        "for i in range(25):\n",
        "  # rn - number of random steps in each walk\n",
        "  rn = 25\n",
        "  walk = random_walk(rn)\n",
        "  # Print walk - Distance from home = abs(x) + abs(y) = DIRECTION\n",
        "  print(walk, \"Distance from home = \", abs(walk[0]) + abs(walk[1]))"
      ],
      "execution_count": 96,
      "outputs": [
        {
          "output_type": "stream",
          "text": [
            "(2, 9) Distance from home =  11\n",
            "(-2, 1) Distance from home =  3\n",
            "(0, -5) Distance from home =  5\n",
            "(-3, 0) Distance from home =  3\n",
            "(-2, 1) Distance from home =  3\n",
            "(0, -3) Distance from home =  3\n",
            "(0, 3) Distance from home =  3\n",
            "(-2, -1) Distance from home =  3\n",
            "(0, -1) Distance from home =  1\n",
            "(5, 2) Distance from home =  7\n",
            "(-1, 2) Distance from home =  3\n",
            "(-1, -2) Distance from home =  3\n",
            "(0, 7) Distance from home =  7\n",
            "(0, 1) Distance from home =  1\n",
            "(4, 5) Distance from home =  9\n",
            "(-1, 2) Distance from home =  3\n",
            "(-7, 2) Distance from home =  9\n",
            "(4, 1) Distance from home =  5\n",
            "(-10, -1) Distance from home =  11\n",
            "(-1, -4) Distance from home =  5\n",
            "(0, 3) Distance from home =  3\n",
            "(4, -5) Distance from home =  9\n",
            "(0, -1) Distance from home =  1\n",
            "(4, 1) Distance from home =  5\n",
            "(5, 0) Distance from home =  5\n"
          ],
          "name": "stdout"
        }
      ]
    },
    {
      "cell_type": "code",
      "metadata": {
        "id": "nPp57IkylCTg",
        "colab_type": "code",
        "colab": {
          "base_uri": "https://localhost:8080/",
          "height": 461
        },
        "outputId": "28e7323b-7b9b-4b8d-a3ea-ebe1159ad4a4"
      },
      "source": [
        "# RANDOM WALK - Compact Format\n",
        "def random_walk_comp(n):\n",
        "  \"\"\"Return coordinates after 'n' block random walk.\"\"\"\n",
        "  x, y = 0, 0\n",
        "  for i in range(n):\n",
        "    # Compact way of defining - N: (1, 0) / S: (-1, 0) / E: (0, 1) / W: (0, -1)\n",
        "    (dx, dy) = random.choice([(0, 1), (0, -1), (1, 0), (-1, 0)])\n",
        "    x += dx\n",
        "    y += dy\n",
        "  return (x, y)\n",
        "\n",
        "# Test compact\n",
        "for i in range(25):\n",
        "  walk = random_walk(10)\n",
        "  print(walk, \"Distance from home = \", abs(walk[0]) + abs(walk[1]))"
      ],
      "execution_count": 99,
      "outputs": [
        {
          "output_type": "stream",
          "text": [
            "(2, -2) Distance from home =  4\n",
            "(2, 2) Distance from home =  4\n",
            "(-2, 2) Distance from home =  4\n",
            "(0, -2) Distance from home =  2\n",
            "(3, -3) Distance from home =  6\n",
            "(-1, 3) Distance from home =  4\n",
            "(1, -1) Distance from home =  2\n",
            "(1, 3) Distance from home =  4\n",
            "(-3, 1) Distance from home =  4\n",
            "(3, -1) Distance from home =  4\n",
            "(-2, 2) Distance from home =  4\n",
            "(-1, -3) Distance from home =  4\n",
            "(-1, -3) Distance from home =  4\n",
            "(3, -1) Distance from home =  4\n",
            "(-1, 1) Distance from home =  2\n",
            "(0, 0) Distance from home =  0\n",
            "(0, 0) Distance from home =  0\n",
            "(0, 2) Distance from home =  2\n",
            "(-2, -2) Distance from home =  4\n",
            "(0, -4) Distance from home =  4\n",
            "(-2, -2) Distance from home =  4\n",
            "(1, 1) Distance from home =  2\n",
            "(3, 1) Distance from home =  4\n",
            "(2, -2) Distance from home =  4\n",
            "(-3, -1) Distance from home =  4\n"
          ],
          "name": "stdout"
        }
      ]
    },
    {
      "cell_type": "code",
      "metadata": {
        "id": "OjN_3BLcnPM_",
        "colab_type": "code",
        "colab": {
          "base_uri": "https://localhost:8080/",
          "height": 550
        },
        "outputId": "994d1d32-4f7b-41d5-fe7b-b9780410cfef"
      },
      "source": [
        "# RANDOM WALK PUZZLE\n",
        "# What is the longest random walk you can take so that on average you will end up 4 blocks or fewer from home?\n",
        "\n",
        "def random_walk_comp(n):\n",
        "  \"\"\"Return coordinates after 'n' block random walk.\"\"\"\n",
        "  x, y = 0, 0\n",
        "  for i in range(n):\n",
        "    # Compact way of defining - N: (1, 0) / S: (-1, 0) / E: (0, 1) / W: (0, -1)\n",
        "    (dx, dy) = random.choice([(0, 1), (0, -1), (1, 0), (-1, 0)])\n",
        "    x += dx\n",
        "    y += dy\n",
        "  return (x, y)\n",
        "\n",
        "# Monte Carlo - Randonmize using different trials\n",
        "\n",
        "number_of_walks = 20000\n",
        "\n",
        "for walk_length in range(1, 31):\n",
        "  no_transport = 0 # Number of walks 4 or fewer blocks from home\n",
        "  # Beginning of Monte Carlo loop\n",
        "  for i in range(number_of_walks):\n",
        "    (x, y) = random_walk_comp(walk_length)\n",
        "    distance = abs(x) + abs(y)\n",
        "    if distance <= 4:\n",
        "      no_transport += 1\n",
        "  no_transport_percentage = float(no_transport) / number_of_walks\n",
        "  print(\"Walk size = \", walk_length, \" / % of no transport = \", 100 * no_transport_percentage, \"%\")\n",
        "\n",
        "# Take that result with the gratest Walk size and a chance of more than 50%"
      ],
      "execution_count": 106,
      "outputs": [
        {
          "output_type": "stream",
          "text": [
            "Walk size =  1  / % of no transport =  100.0 %\n",
            "Walk size =  2  / % of no transport =  100.0 %\n",
            "Walk size =  3  / % of no transport =  100.0 %\n",
            "Walk size =  4  / % of no transport =  100.0 %\n",
            "Walk size =  5  / % of no transport =  88.14 %\n",
            "Walk size =  6  / % of no transport =  93.585 %\n",
            "Walk size =  7  / % of no transport =  76.53 %\n",
            "Walk size =  8  / % of no transport =  86.45 %\n",
            "Walk size =  9  / % of no transport =  67.39500000000001 %\n",
            "Walk size =  10  / % of no transport =  79.23 %\n",
            "Walk size =  11  / % of no transport =  59.775 %\n",
            "Walk size =  12  / % of no transport =  73.055 %\n",
            "Walk size =  13  / % of no transport =  53.474999999999994 %\n",
            "Walk size =  14  / % of no transport =  67.80000000000001 %\n",
            "Walk size =  15  / % of no transport =  49.055 %\n",
            "Walk size =  16  / % of no transport =  62.480000000000004 %\n",
            "Walk size =  17  / % of no transport =  44.385000000000005 %\n",
            "Walk size =  18  / % of no transport =  57.635000000000005 %\n",
            "Walk size =  19  / % of no transport =  40.675 %\n",
            "Walk size =  20  / % of no transport =  54.175 %\n",
            "Walk size =  21  / % of no transport =  38.25 %\n",
            "Walk size =  22  / % of no transport =  51.065000000000005 %\n",
            "Walk size =  23  / % of no transport =  35.410000000000004 %\n",
            "Walk size =  24  / % of no transport =  47.845 %\n",
            "Walk size =  25  / % of no transport =  33.31 %\n",
            "Walk size =  26  / % of no transport =  45.585 %\n",
            "Walk size =  27  / % of no transport =  31.674999999999997 %\n",
            "Walk size =  28  / % of no transport =  43.49 %\n",
            "Walk size =  29  / % of no transport =  29.93 %\n",
            "Walk size =  30  / % of no transport =  40.589999999999996 %\n"
          ],
          "name": "stdout"
        }
      ]
    },
    {
      "cell_type": "code",
      "metadata": {
        "id": "_PUEIyQ9sikW",
        "colab_type": "code",
        "colab": {}
      },
      "source": [
        "# The answer is Walk size = 22"
      ],
      "execution_count": 0,
      "outputs": []
    }
  ]
}
